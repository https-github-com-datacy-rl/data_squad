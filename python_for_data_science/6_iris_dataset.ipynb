{
 "cells": [
  {
   "cell_type": "markdown",
   "id": "d74f9adc-ffd0-4ac1-bef4-f405b90db7d0",
   "metadata": {},
   "source": [
    "# Introduction to the Iris Dataset"
   ]
  },
  {
   "cell_type": "markdown",
   "id": "9ddaa042-a1dc-448b-87e2-65c6c9114cca",
   "metadata": {},
   "source": [
    "The Iris Flower dataset, or Fisher's Iris dataset, is a multivariate dataset introduced by the British statistician, eugenicist, and biologist Ronald Fisher in his 1936 paper. The dataset is often used in data mining, classification, and clustering examples and to test algorithms.\n",
    "\n",
    "**Dataset Characteristics**\n",
    "\n",
    "**Number of Instances**: 150 (50 in each of three classes)\n",
    "**Number of Attributes**: 4 numeric, predictive attributes and the class\n",
    "\n",
    "**Attribute Information**\n",
    "- sepal length in cm\n",
    "- sepal width in cm\n",
    "- petal length in cm\n",
    "- petal width in cm\n",
    "\n",
    "**class**\n",
    "- Iris Setosa\n",
    "- Iris Versicolour\n",
    "- Iris Virginica\n",
    "\n",
    "**Downloading the Dataset**\n",
    "The Iris dataset is available in several repositories and through libraries like Scikit-learn. However, to make it simple for your course participants to download and use the dataset, you can use the UCI Machine Learning Repository's version of the dataset.\n",
    "\n",
    "Here's how to download the dataset.\n",
    "\n",
    "**Direct Download Link**: https://archive.ics.uci.edu/ml/machine-learning-databases/iris/iris.data\n",
    "\n",
    "**Loading with Python**\n",
    "You can directly download the data from the url."
   ]
  },
  {
   "cell_type": "code",
   "execution_count": 1,
   "id": "218e53cc-2124-49b3-ba7f-99209f71036b",
   "metadata": {},
   "outputs": [
    {
     "name": "stdout",
     "output_type": "stream",
     "text": [
      "   sepal_length  sepal_width  petal_length  petal_width        class\n",
      "0           5.1          3.5           1.4          0.2  Iris-setosa\n",
      "1           4.9          3.0           1.4          0.2  Iris-setosa\n",
      "2           4.7          3.2           1.3          0.2  Iris-setosa\n",
      "3           4.6          3.1           1.5          0.2  Iris-setosa\n",
      "4           5.0          3.6           1.4          0.2  Iris-setosa\n"
     ]
    }
   ],
   "source": [
    "import pandas as pd\n",
    "\n",
    "url = \"https://archive.ics.uci.edu/ml/machine-learning-databases/iris/iris.data\"\n",
    "column_names = ['sepal_length', 'sepal_width', 'petal_length', 'petal_width', 'class']\n",
    "iris_data = pd.read_csv(url, names=column_names)\n",
    "\n",
    "print(iris_data.head())"
   ]
  },
  {
   "cell_type": "markdown",
   "id": "2cafd4b7-6662-416c-add0-1df3ed7ee6a9",
   "metadata": {},
   "source": [
    "This code will download the dataset and load it into a Pandas DataFrame, a versatile data structure that allows for easy data manipulation and analysis."
   ]
  },
  {
   "cell_type": "code",
   "execution_count": null,
   "id": "adaded42-6f69-4ef1-a499-8164e1bb97d3",
   "metadata": {},
   "outputs": [],
   "source": []
  }
 ],
 "metadata": {
  "kernelspec": {
   "display_name": "Python [conda env:data_eng]",
   "language": "python",
   "name": "conda-env-data_eng-py"
  },
  "language_info": {
   "codemirror_mode": {
    "name": "ipython",
    "version": 3
   },
   "file_extension": ".py",
   "mimetype": "text/x-python",
   "name": "python",
   "nbconvert_exporter": "python",
   "pygments_lexer": "ipython3",
   "version": "3.8.13"
  }
 },
 "nbformat": 4,
 "nbformat_minor": 5
}
