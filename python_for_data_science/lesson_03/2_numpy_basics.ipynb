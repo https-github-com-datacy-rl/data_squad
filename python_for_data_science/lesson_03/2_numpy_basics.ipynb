{
 "cells": [
  {
   "cell_type": "markdown",
   "id": "7e8c86c5-5d4c-44b7-96d6-13fff40256f5",
   "metadata": {},
   "source": [
    "# Numpy basics"
   ]
  },
  {
   "cell_type": "markdown",
   "id": "fbaa5666-3e59-4f66-b603-4499dfd84524",
   "metadata": {},
   "source": [
    "NumPy (Numerical Python) is an open-source Python library that's used in almost every field of science and engineering. It's the universal standard for working with numerical data in Python, and it's at the core of the scientific ecosystem in Python. NumPy provides support for large, multi-dimensional arrays and matrices, along with a large collection of high-level mathematical functions to operate on these arrays.\n",
    "\n",
    "Here are some of the basics of NumPy that are essential to understand:\n",
    "\n",
    "## Installation\n",
    "If you don't have NumPy installed, you can install it using pip:"
   ]
  },
  {
   "cell_type": "code",
   "execution_count": 1,
   "id": "5def40c8-efc4-4088-ae7c-84a80077289a",
   "metadata": {},
   "outputs": [],
   "source": [
    "# !pip install numpy"
   ]
  },
  {
   "cell_type": "markdown",
   "id": "783f9781-dcac-4c5a-883e-109f15e625e6",
   "metadata": {},
   "source": [
    "## Importing NumPy\n",
    "To use NumPy, you first need to import it:"
   ]
  },
  {
   "cell_type": "code",
   "execution_count": 2,
   "id": "a6811540-15b3-4b1b-853e-b13f88ace3ad",
   "metadata": {},
   "outputs": [],
   "source": [
    "import numpy as np"
   ]
  },
  {
   "cell_type": "markdown",
   "id": "01356945-e0b3-44f0-bfd6-b4de671aea61",
   "metadata": {},
   "source": [
    "## Creating NumPy Arrays\n",
    "The primary data structure in NumPy is the ndarray, which stands for N-dimensional array.\n",
    "\n",
    "### From a Python List"
   ]
  },
  {
   "cell_type": "code",
   "execution_count": 3,
   "id": "a0829deb-435e-43e4-9836-d45954b7f9c5",
   "metadata": {},
   "outputs": [
    {
     "name": "stdout",
     "output_type": "stream",
     "text": [
      "[1 2 3]\n"
     ]
    }
   ],
   "source": [
    "a = np.array([1, 2, 3])\n",
    "print(a)  # Output: [1 2 3]"
   ]
  },
  {
   "cell_type": "markdown",
   "id": "3a11e56c-ff4d-461a-9a71-f16552500274",
   "metadata": {},
   "source": [
    "### Array of Zeros or Ones"
   ]
  },
  {
   "cell_type": "code",
   "execution_count": 4,
   "id": "8b2bc4c9-71ac-49f1-9c60-cf53235af185",
   "metadata": {},
   "outputs": [],
   "source": [
    "zeros_array = np.zeros((2, 3))\n",
    "ones_array = np.ones((2, 3))"
   ]
  },
  {
   "cell_type": "markdown",
   "id": "1609af80-da24-4f9d-aae8-86b91323c7d4",
   "metadata": {},
   "source": [
    "### Range and Reshape"
   ]
  },
  {
   "cell_type": "code",
   "execution_count": 5,
   "id": "d58db589-e93d-4ca6-9e6f-7a9edc6432f7",
   "metadata": {},
   "outputs": [],
   "source": [
    "range_array = np.arange(10)  # Array of 0 to 9\n",
    "reshaped_array = np.arange(10).reshape(2, 5)  # 2x5 array with numbers 0 to 9"
   ]
  },
  {
   "cell_type": "markdown",
   "id": "ffb6a601-d9cc-40ca-8e4a-a91a007e3297",
   "metadata": {},
   "source": [
    "## Array Operations\n",
    "NumPy arrays facilitate advanced mathematical and other types of operations on large numbers of data.\n",
    "\n",
    "### Element-wise Operations"
   ]
  },
  {
   "cell_type": "code",
   "execution_count": 6,
   "id": "f7bba131-0397-4fd8-90b8-fb856ac11aee",
   "metadata": {},
   "outputs": [
    {
     "name": "stdout",
     "output_type": "stream",
     "text": [
      "[5 7 9]\n",
      "[-3 -3 -3]\n",
      "[ 4 10 18]\n"
     ]
    }
   ],
   "source": [
    "a = np.array([1, 2, 3])\n",
    "b = np.array([4, 5, 6])\n",
    "\n",
    "# Addition\n",
    "print(a + b)  # Output: [5 7 9]\n",
    "\n",
    "# Subtraction\n",
    "print(a - b)  # Output: [-3 -3 -3]\n",
    "\n",
    "# Multiplication\n",
    "print(a * b)  # Output: [4 10 18]"
   ]
  },
  {
   "cell_type": "markdown",
   "id": "751b630a-b0f6-4ce2-8dc9-44c30992e090",
   "metadata": {},
   "source": [
    "### Matrix Operations"
   ]
  },
  {
   "cell_type": "code",
   "execution_count": 7,
   "id": "cde0a7c1-ce37-482e-af1f-f97efa2d25e5",
   "metadata": {},
   "outputs": [],
   "source": [
    "a = np.array([[1, 2], [3, 4]])\n",
    "b = np.array([[5, 6], [7, 8]])\n",
    "\n",
    "# Matrix Multiplication\n",
    "product = np.dot(a, b)"
   ]
  },
  {
   "cell_type": "markdown",
   "id": "cfdacb52-96df-421a-9cb4-22a827ed1a4c",
   "metadata": {},
   "source": [
    "## Indexing, Slicing, and Iterating\n",
    "NumPy offers many ways to index into arrays.\n",
    "\n",
    "### Indexing"
   ]
  },
  {
   "cell_type": "code",
   "execution_count": 8,
   "id": "c02fca28-46bd-4d75-b9af-345ee15bac3d",
   "metadata": {},
   "outputs": [
    {
     "name": "stdout",
     "output_type": "stream",
     "text": [
      "1\n"
     ]
    }
   ],
   "source": [
    "a = np.array([1, 2, 3])\n",
    "print(a[0])  # Output: 1"
   ]
  },
  {
   "cell_type": "markdown",
   "id": "14894ebc-707a-40f0-9d4f-5160bbe67a8d",
   "metadata": {},
   "source": [
    "### Slicing"
   ]
  },
  {
   "cell_type": "code",
   "execution_count": 9,
   "id": "73a87102-18ec-4610-927c-c4483a7e11c9",
   "metadata": {},
   "outputs": [
    {
     "name": "stdout",
     "output_type": "stream",
     "text": [
      "[2 3 4 5]\n"
     ]
    }
   ],
   "source": [
    "a = np.array([1, 2, 3, 4, 5, 6, 7, 8, 9])\n",
    "print(a[1:5])  # Output: [2 3 4 5]"
   ]
  },
  {
   "cell_type": "markdown",
   "id": "edcf8d49-4cb8-457b-87f5-be68736a8af3",
   "metadata": {},
   "source": [
    "### Iterating"
   ]
  },
  {
   "cell_type": "code",
   "execution_count": 10,
   "id": "7becad07-ca5f-42d1-a1ed-caa2f6f7efb7",
   "metadata": {},
   "outputs": [
    {
     "name": "stdout",
     "output_type": "stream",
     "text": [
      "1\n",
      "2\n",
      "3\n"
     ]
    }
   ],
   "source": [
    "a = np.array([1, 2, 3])\n",
    "for x in a:\n",
    "    print(x)"
   ]
  },
  {
   "cell_type": "markdown",
   "id": "c749e3c0-f453-4f50-ae27-b60bddf5b412",
   "metadata": {},
   "source": [
    "## Statistical Methods\n",
    "NumPy offers common statistical methods like mean, median, standard deviation, etc."
   ]
  },
  {
   "cell_type": "code",
   "execution_count": 11,
   "id": "df868f31-dc49-4a74-bc03-bc1591c8ab48",
   "metadata": {},
   "outputs": [
    {
     "name": "stdout",
     "output_type": "stream",
     "text": [
      "3.0\n",
      "3.0\n",
      "1.4142135623730951\n"
     ]
    }
   ],
   "source": [
    "a = np.array([1, 2, 3, 4, 5])\n",
    "\n",
    "# Mean\n",
    "print(np.mean(a))\n",
    "\n",
    "# Median\n",
    "print(np.median(a))\n",
    "\n",
    "# Standard Deviation\n",
    "print(np.std(a))"
   ]
  },
  {
   "cell_type": "markdown",
   "id": "3cef7129-b7bc-46e8-89f3-4666ab9df409",
   "metadata": {},
   "source": [
    "NumPy is a powerful library with many more functionalities. These basics are just the tip of the iceberg, but they are fundamental for anyone looking to work with numerical data in Python. As you get more comfortable with these basics, you can explore more advanced features of NumPy, such as broadcasting, advanced indexing, and more."
   ]
  },
  {
   "cell_type": "code",
   "execution_count": null,
   "id": "04a4511f-bc36-402a-a6f1-efd912883db4",
   "metadata": {},
   "outputs": [],
   "source": []
  }
 ],
 "metadata": {
  "kernelspec": {
   "display_name": "Python [conda env:data_eng]",
   "language": "python",
   "name": "conda-env-data_eng-py"
  },
  "language_info": {
   "codemirror_mode": {
    "name": "ipython",
    "version": 3
   },
   "file_extension": ".py",
   "mimetype": "text/x-python",
   "name": "python",
   "nbconvert_exporter": "python",
   "pygments_lexer": "ipython3",
   "version": "3.8.13"
  }
 },
 "nbformat": 4,
 "nbformat_minor": 5
}
