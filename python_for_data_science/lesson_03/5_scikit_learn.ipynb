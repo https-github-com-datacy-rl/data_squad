{
 "cells": [
  {
   "cell_type": "markdown",
   "id": "f8c6428c-bc70-4245-b89a-04effb18c90a",
   "metadata": {},
   "source": [
    "# Scikit learn basics"
   ]
  },
  {
   "cell_type": "markdown",
   "id": "de7b5f9c-fbb0-4ff1-acf2-5b353a4da4e0",
   "metadata": {},
   "source": [
    "Scikit-learn is a powerful, open-source machine learning library for Python. It's built on NumPy, SciPy, and Matplotlib, and it offers simple and efficient tools for predictive data analysis. It's accessible to everybody and reusable in various contexts. Scikit-learn is known for its ease of use and its ability to handle complex data operations with just a few lines of code.\n",
    "\n",
    "Here are some of the basics of scikit-learn that cover its core functionalities:\n",
    "\n",
    "## Installation\n",
    "If you don't have scikit-learn installed, you can install it using pip:"
   ]
  },
  {
   "cell_type": "code",
   "execution_count": 1,
   "id": "29d826d5-6b79-4163-a950-d92284d1e5bd",
   "metadata": {},
   "outputs": [],
   "source": [
    "# !pip install -U scikit-learn"
   ]
  },
  {
   "cell_type": "markdown",
   "id": "540c16f3-de43-4af5-bbdc-bd516f649384",
   "metadata": {},
   "source": [
    "## Importing Scikit-learn\n",
    "To use scikit-learn, you first need to import it, along with other libraries it depends on, like NumPy and Pandas."
   ]
  },
  {
   "cell_type": "code",
   "execution_count": 2,
   "id": "515d2dc4-b418-4bbf-9824-d78adc055017",
   "metadata": {},
   "outputs": [],
   "source": [
    "import numpy as np\n",
    "import pandas as pd\n",
    "from sklearn import datasets, metrics"
   ]
  },
  {
   "cell_type": "markdown",
   "id": "0d473f07-716f-4617-a55b-0b56baf52f6b",
   "metadata": {},
   "source": [
    "## Working with Datasets\n",
    "Scikit-learn comes with a few standard datasets, like the iris and digits datasets for classification and the Boston house prices dataset for regression."
   ]
  },
  {
   "cell_type": "code",
   "execution_count": 3,
   "id": "72ce4577-5a0e-4206-a75c-194d6086258f",
   "metadata": {},
   "outputs": [],
   "source": [
    "# Load dataset\n",
    "iris = datasets.load_iris()\n",
    "X, y = iris.data, iris.target"
   ]
  },
  {
   "cell_type": "markdown",
   "id": "be89faf6-3a49-4a5f-bb3d-94f6c4535361",
   "metadata": {},
   "source": [
    "## Data Preprocessing\n",
    "Data preprocessing is crucial in machine learning. Scikit-learn offers tools for normalization, binarization, encoding categorical variables, imputing missing values, and more."
   ]
  },
  {
   "cell_type": "code",
   "execution_count": 4,
   "id": "b8a1a2ff-8659-482e-9c5b-c116a4538446",
   "metadata": {},
   "outputs": [],
   "source": [
    "from sklearn import preprocessing\n",
    "\n",
    "# Standardization\n",
    "X_scaled = preprocessing.scale(X)"
   ]
  },
  {
   "cell_type": "markdown",
   "id": "1a829e93-473e-44a0-920a-11b2deadc63e",
   "metadata": {},
   "source": [
    "## Splitting Data\n",
    "You usually split your data into a training set and a test set. The training set is used to build and train the model, while the test set is used to evaluate its performance."
   ]
  },
  {
   "cell_type": "code",
   "execution_count": 5,
   "id": "658293cd-8906-49f4-8a36-06dde37d352f",
   "metadata": {},
   "outputs": [],
   "source": [
    "from sklearn.model_selection import train_test_split\n",
    "\n",
    "X_train, X_test, y_train, y_test = train_test_split(X, y, test_size=0.3)"
   ]
  },
  {
   "cell_type": "markdown",
   "id": "43a8ef5f-f15f-4a50-aab2-c2357060d747",
   "metadata": {},
   "source": [
    "## Model Selection\n",
    "Scikit-learn implements a wide range of machine learning algorithms. You can choose one based on your problem.\n",
    "\n",
    "For example, using a Random Forest Classifier:"
   ]
  },
  {
   "cell_type": "code",
   "execution_count": 6,
   "id": "ce70b832-b5cb-42ba-ba8c-547363b80119",
   "metadata": {},
   "outputs": [],
   "source": [
    "from sklearn.ensemble import RandomForestClassifier\n",
    "\n",
    "# Create a Gaussian Classifier\n",
    "clf = RandomForestClassifier(n_estimators=100)\n",
    "\n",
    "# Train the model using the training sets\n",
    "clf.fit(X_train, y_train)\n",
    "\n",
    "# Predict the response for the test dataset\n",
    "y_pred = clf.predict(X_test)"
   ]
  },
  {
   "cell_type": "markdown",
   "id": "67ac2da0-0ab9-4b17-9470-ed4c77cf4668",
   "metadata": {},
   "source": [
    "## Model Evaluation\n",
    "Scikit-learn provides several methods to evaluate the performance of a model, depending on the type of machine learning algorithm used."
   ]
  },
  {
   "cell_type": "code",
   "execution_count": 7,
   "id": "1d4262f3-bbc7-45b4-97fc-7144e11fe8b3",
   "metadata": {},
   "outputs": [
    {
     "name": "stdout",
     "output_type": "stream",
     "text": [
      "Accuracy: 0.9555555555555556\n"
     ]
    }
   ],
   "source": [
    "# Import scikit-learn metrics module for accuracy calculation\n",
    "from sklearn import metrics\n",
    "\n",
    "# Model Accuracy, how often is the classifier correct?\n",
    "print(\"Accuracy:\", metrics.accuracy_score(y_test, y_pred))"
   ]
  },
  {
   "cell_type": "markdown",
   "id": "3405607f-eb14-4c41-8d6a-05deb0309adc",
   "metadata": {},
   "source": [
    "## Model Persistence\n",
    "You can save a model in scikit-learn by using Python’s built-in persistence model, `pickle`."
   ]
  },
  {
   "cell_type": "code",
   "execution_count": 8,
   "id": "6afc99c5-7916-41e3-8a19-ae417965361b",
   "metadata": {},
   "outputs": [],
   "source": [
    "import pickle\n",
    "\n",
    "# Save to file in the current working directory\n",
    "pkl_filename = \"pickle_model.pkl\"\n",
    "with open(pkl_filename, 'wb') as file:\n",
    "    pickle.dump(clf, file)"
   ]
  },
  {
   "cell_type": "markdown",
   "id": "0a32a761-5612-4f54-82cd-6b6f00b249dc",
   "metadata": {},
   "source": [
    "To load the model back:"
   ]
  },
  {
   "cell_type": "code",
   "execution_count": 9,
   "id": "096b975c-db5e-42fd-bcb9-50466d30ee4d",
   "metadata": {},
   "outputs": [],
   "source": [
    "with open(pkl_filename, 'rb') as file:\n",
    "    pickle_model = pickle.load(file)"
   ]
  },
  {
   "cell_type": "markdown",
   "id": "629b5262-e915-4a61-9b77-b4cb79e3b43c",
   "metadata": {},
   "source": [
    "These are the basics to get you started with scikit-learn. The library offers a lot more functionality and is incredibly powerful in the hands of someone who knows how to use it. Its ease of use and variety of tools make it the go-to library for many data scientists and machine learning practitioners."
   ]
  },
  {
   "cell_type": "code",
   "execution_count": null,
   "id": "f8193f03-4ed5-4516-b1b7-1d69d22448da",
   "metadata": {},
   "outputs": [],
   "source": []
  }
 ],
 "metadata": {
  "kernelspec": {
   "display_name": "Python [conda env:data_eng]",
   "language": "python",
   "name": "conda-env-data_eng-py"
  },
  "language_info": {
   "codemirror_mode": {
    "name": "ipython",
    "version": 3
   },
   "file_extension": ".py",
   "mimetype": "text/x-python",
   "name": "python",
   "nbconvert_exporter": "python",
   "pygments_lexer": "ipython3",
   "version": "3.8.13"
  }
 },
 "nbformat": 4,
 "nbformat_minor": 5
}
