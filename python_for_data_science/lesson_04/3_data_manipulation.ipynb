{
 "cells": [
  {
   "cell_type": "markdown",
   "id": "7294b781-3cd4-4175-869a-2de70f246395",
   "metadata": {},
   "source": [
    "# Demonstration"
   ]
  },
  {
   "cell_type": "markdown",
   "id": "ffe5f105-8444-4339-a8cb-1496c9c9aa4f",
   "metadata": {},
   "source": [
    "For this demonstration, let's use the popular Iris dataset. This dataset is often used for educational purposes and is excellent for demonstrating data manipulation with Pandas due to its simplicity and small size. The Iris dataset includes data on iris flowers, with measurements of petals and sepals and the species of the iris.\n",
    "\n",
    "You can download the Iris dataset from the UCI Machine Learning Repository. Here's the direct download link:\n",
    "\n",
    "Iris Dataset CSV\n",
    "\n",
    "First, let's load the dataset into a Pandas DataFrame.\n",
    "\n",
    "### Setup\n",
    "Install and import Pandas:"
   ]
  },
  {
   "cell_type": "code",
   "execution_count": 1,
   "id": "3e888a60-806f-4f81-8aa6-a4352c6a8479",
   "metadata": {},
   "outputs": [],
   "source": [
    "# pip install pandas"
   ]
  },
  {
   "cell_type": "code",
   "execution_count": 2,
   "id": "c239acbf-6bfb-4807-843f-fa7d982418b9",
   "metadata": {},
   "outputs": [],
   "source": [
    "import pandas as pd"
   ]
  },
  {
   "cell_type": "markdown",
   "id": "96490369-1480-43d9-ae71-0d1e05660657",
   "metadata": {},
   "source": [
    "### Load Data"
   ]
  },
  {
   "cell_type": "code",
   "execution_count": 3,
   "id": "425f4a3a-f08a-4213-8813-cd6be09f45cb",
   "metadata": {},
   "outputs": [],
   "source": [
    "url = \"https://archive.ics.uci.edu/ml/machine-learning-databases/iris/iris.data\"\n",
    "column_names = ['sepal_length', 'sepal_width', 'petal_length', 'petal_width', 'species']\n",
    "iris = pd.read_csv(url, names=column_names)"
   ]
  },
  {
   "cell_type": "markdown",
   "id": "c59f545d-8900-4f79-bdab-d2e0f52874af",
   "metadata": {},
   "source": [
    "### Data Inspection\n",
    "Inspect the first few rows of the DataFrame:"
   ]
  },
  {
   "cell_type": "code",
   "execution_count": 14,
   "id": "de271988-afe2-4301-b17e-6af74d59f056",
   "metadata": {},
   "outputs": [
    {
     "data": {
      "text/html": [
       "<div>\n",
       "<style scoped>\n",
       "    .dataframe tbody tr th:only-of-type {\n",
       "        vertical-align: middle;\n",
       "    }\n",
       "\n",
       "    .dataframe tbody tr th {\n",
       "        vertical-align: top;\n",
       "    }\n",
       "\n",
       "    .dataframe thead th {\n",
       "        text-align: right;\n",
       "    }\n",
       "</style>\n",
       "<table border=\"1\" class=\"dataframe\">\n",
       "  <thead>\n",
       "    <tr style=\"text-align: right;\">\n",
       "      <th></th>\n",
       "      <th>sepal_length</th>\n",
       "      <th>sepal_width</th>\n",
       "      <th>petal_length</th>\n",
       "      <th>petal_width</th>\n",
       "      <th>species</th>\n",
       "      <th>petal_area</th>\n",
       "    </tr>\n",
       "  </thead>\n",
       "  <tbody>\n",
       "    <tr>\n",
       "      <th>0</th>\n",
       "      <td>5.1</td>\n",
       "      <td>3.5</td>\n",
       "      <td>1.4</td>\n",
       "      <td>0.2</td>\n",
       "      <td>Iris-setosa</td>\n",
       "      <td>0.28</td>\n",
       "    </tr>\n",
       "    <tr>\n",
       "      <th>1</th>\n",
       "      <td>4.9</td>\n",
       "      <td>3.0</td>\n",
       "      <td>1.4</td>\n",
       "      <td>0.2</td>\n",
       "      <td>Iris-setosa</td>\n",
       "      <td>0.28</td>\n",
       "    </tr>\n",
       "    <tr>\n",
       "      <th>2</th>\n",
       "      <td>4.7</td>\n",
       "      <td>3.2</td>\n",
       "      <td>1.3</td>\n",
       "      <td>0.2</td>\n",
       "      <td>Iris-setosa</td>\n",
       "      <td>0.26</td>\n",
       "    </tr>\n",
       "    <tr>\n",
       "      <th>3</th>\n",
       "      <td>4.6</td>\n",
       "      <td>3.1</td>\n",
       "      <td>1.5</td>\n",
       "      <td>0.2</td>\n",
       "      <td>Iris-setosa</td>\n",
       "      <td>0.30</td>\n",
       "    </tr>\n",
       "    <tr>\n",
       "      <th>4</th>\n",
       "      <td>5.0</td>\n",
       "      <td>3.6</td>\n",
       "      <td>1.4</td>\n",
       "      <td>0.2</td>\n",
       "      <td>Iris-setosa</td>\n",
       "      <td>0.28</td>\n",
       "    </tr>\n",
       "  </tbody>\n",
       "</table>\n",
       "</div>"
      ],
      "text/plain": [
       "   sepal_length  sepal_width  petal_length  petal_width      species  \\\n",
       "0           5.1          3.5           1.4          0.2  Iris-setosa   \n",
       "1           4.9          3.0           1.4          0.2  Iris-setosa   \n",
       "2           4.7          3.2           1.3          0.2  Iris-setosa   \n",
       "3           4.6          3.1           1.5          0.2  Iris-setosa   \n",
       "4           5.0          3.6           1.4          0.2  Iris-setosa   \n",
       "\n",
       "   petal_area  \n",
       "0        0.28  \n",
       "1        0.28  \n",
       "2        0.26  \n",
       "3        0.30  \n",
       "4        0.28  "
      ]
     },
     "execution_count": 14,
     "metadata": {},
     "output_type": "execute_result"
    }
   ],
   "source": [
    "iris.head()"
   ]
  },
  {
   "cell_type": "markdown",
   "id": "41c6f171-3567-4486-a8bb-aecb604fae8c",
   "metadata": {
    "tags": []
   },
   "source": [
    "View a summary of the DataFrame:"
   ]
  },
  {
   "cell_type": "code",
   "execution_count": 13,
   "id": "4d867c97-5909-4b28-ab75-d6bcb19ab348",
   "metadata": {},
   "outputs": [
    {
     "data": {
      "text/html": [
       "<div>\n",
       "<style scoped>\n",
       "    .dataframe tbody tr th:only-of-type {\n",
       "        vertical-align: middle;\n",
       "    }\n",
       "\n",
       "    .dataframe tbody tr th {\n",
       "        vertical-align: top;\n",
       "    }\n",
       "\n",
       "    .dataframe thead th {\n",
       "        text-align: right;\n",
       "    }\n",
       "</style>\n",
       "<table border=\"1\" class=\"dataframe\">\n",
       "  <thead>\n",
       "    <tr style=\"text-align: right;\">\n",
       "      <th></th>\n",
       "      <th>sepal_length</th>\n",
       "      <th>sepal_width</th>\n",
       "      <th>petal_length</th>\n",
       "      <th>petal_width</th>\n",
       "      <th>petal_area</th>\n",
       "    </tr>\n",
       "  </thead>\n",
       "  <tbody>\n",
       "    <tr>\n",
       "      <th>count</th>\n",
       "      <td>150.000000</td>\n",
       "      <td>150.000000</td>\n",
       "      <td>150.000000</td>\n",
       "      <td>150.000000</td>\n",
       "      <td>150.000000</td>\n",
       "    </tr>\n",
       "    <tr>\n",
       "      <th>mean</th>\n",
       "      <td>5.843333</td>\n",
       "      <td>3.054000</td>\n",
       "      <td>3.758667</td>\n",
       "      <td>1.198667</td>\n",
       "      <td>5.793133</td>\n",
       "    </tr>\n",
       "    <tr>\n",
       "      <th>std</th>\n",
       "      <td>0.828066</td>\n",
       "      <td>0.433594</td>\n",
       "      <td>1.764420</td>\n",
       "      <td>0.763161</td>\n",
       "      <td>4.713499</td>\n",
       "    </tr>\n",
       "    <tr>\n",
       "      <th>min</th>\n",
       "      <td>4.300000</td>\n",
       "      <td>2.000000</td>\n",
       "      <td>1.000000</td>\n",
       "      <td>0.100000</td>\n",
       "      <td>0.110000</td>\n",
       "    </tr>\n",
       "    <tr>\n",
       "      <th>25%</th>\n",
       "      <td>5.100000</td>\n",
       "      <td>2.800000</td>\n",
       "      <td>1.600000</td>\n",
       "      <td>0.300000</td>\n",
       "      <td>0.420000</td>\n",
       "    </tr>\n",
       "    <tr>\n",
       "      <th>50%</th>\n",
       "      <td>5.800000</td>\n",
       "      <td>3.000000</td>\n",
       "      <td>4.350000</td>\n",
       "      <td>1.300000</td>\n",
       "      <td>5.615000</td>\n",
       "    </tr>\n",
       "    <tr>\n",
       "      <th>75%</th>\n",
       "      <td>6.400000</td>\n",
       "      <td>3.300000</td>\n",
       "      <td>5.100000</td>\n",
       "      <td>1.800000</td>\n",
       "      <td>9.690000</td>\n",
       "    </tr>\n",
       "    <tr>\n",
       "      <th>max</th>\n",
       "      <td>7.900000</td>\n",
       "      <td>4.400000</td>\n",
       "      <td>6.900000</td>\n",
       "      <td>2.500000</td>\n",
       "      <td>15.870000</td>\n",
       "    </tr>\n",
       "  </tbody>\n",
       "</table>\n",
       "</div>"
      ],
      "text/plain": [
       "       sepal_length  sepal_width  petal_length  petal_width  petal_area\n",
       "count    150.000000   150.000000    150.000000   150.000000  150.000000\n",
       "mean       5.843333     3.054000      3.758667     1.198667    5.793133\n",
       "std        0.828066     0.433594      1.764420     0.763161    4.713499\n",
       "min        4.300000     2.000000      1.000000     0.100000    0.110000\n",
       "25%        5.100000     2.800000      1.600000     0.300000    0.420000\n",
       "50%        5.800000     3.000000      4.350000     1.300000    5.615000\n",
       "75%        6.400000     3.300000      5.100000     1.800000    9.690000\n",
       "max        7.900000     4.400000      6.900000     2.500000   15.870000"
      ]
     },
     "execution_count": 13,
     "metadata": {},
     "output_type": "execute_result"
    }
   ],
   "source": [
    "iris.describe()"
   ]
  },
  {
   "cell_type": "markdown",
   "id": "c3e5e72c-99d3-46b6-b771-4476ee61e4f3",
   "metadata": {},
   "source": [
    "### Data Cleaning\n",
    "Check for missing values:"
   ]
  },
  {
   "cell_type": "code",
   "execution_count": 15,
   "id": "12f434d2-ba23-421f-a571-e598b921a741",
   "metadata": {},
   "outputs": [
    {
     "data": {
      "text/plain": [
       "sepal_length    0\n",
       "sepal_width     0\n",
       "petal_length    0\n",
       "petal_width     0\n",
       "species         0\n",
       "petal_area      0\n",
       "dtype: int64"
      ]
     },
     "execution_count": 15,
     "metadata": {},
     "output_type": "execute_result"
    }
   ],
   "source": [
    "iris.isnull().sum()"
   ]
  },
  {
   "cell_type": "markdown",
   "id": "0db47544-defc-448b-b86b-ca37549402d5",
   "metadata": {},
   "source": [
    "(Note: The Iris dataset from UCI generally doesn't have missing values, but it's good practice to check.)"
   ]
  },
  {
   "cell_type": "markdown",
   "id": "7f1055bb-1633-48e1-936f-6e54b91e5c2f",
   "metadata": {},
   "source": [
    "### Data Transformation\n",
    "Create a new column that is a combination of petal length and width:"
   ]
  },
  {
   "cell_type": "code",
   "execution_count": 7,
   "id": "40636ad1-c9da-4701-a73f-be5c65b7050e",
   "metadata": {},
   "outputs": [],
   "source": [
    "iris['petal_area'] = iris['petal_length'] * iris['petal_width']"
   ]
  },
  {
   "cell_type": "markdown",
   "id": "4904fdbd-c55b-4daa-898f-8a52213e0727",
   "metadata": {},
   "source": [
    "### Data Filtering\n",
    "Select only the Iris-setosa species:"
   ]
  },
  {
   "cell_type": "code",
   "execution_count": 11,
   "id": "5cd99fe4-80e4-4ce9-83d0-3f15ed1d19bd",
   "metadata": {},
   "outputs": [
    {
     "data": {
      "text/html": [
       "<div>\n",
       "<style scoped>\n",
       "    .dataframe tbody tr th:only-of-type {\n",
       "        vertical-align: middle;\n",
       "    }\n",
       "\n",
       "    .dataframe tbody tr th {\n",
       "        vertical-align: top;\n",
       "    }\n",
       "\n",
       "    .dataframe thead th {\n",
       "        text-align: right;\n",
       "    }\n",
       "</style>\n",
       "<table border=\"1\" class=\"dataframe\">\n",
       "  <thead>\n",
       "    <tr style=\"text-align: right;\">\n",
       "      <th></th>\n",
       "      <th>sepal_length</th>\n",
       "      <th>sepal_width</th>\n",
       "      <th>petal_length</th>\n",
       "      <th>petal_width</th>\n",
       "      <th>species</th>\n",
       "      <th>petal_area</th>\n",
       "    </tr>\n",
       "  </thead>\n",
       "  <tbody>\n",
       "    <tr>\n",
       "      <th>0</th>\n",
       "      <td>5.1</td>\n",
       "      <td>3.5</td>\n",
       "      <td>1.4</td>\n",
       "      <td>0.2</td>\n",
       "      <td>Iris-setosa</td>\n",
       "      <td>0.28</td>\n",
       "    </tr>\n",
       "    <tr>\n",
       "      <th>1</th>\n",
       "      <td>4.9</td>\n",
       "      <td>3.0</td>\n",
       "      <td>1.4</td>\n",
       "      <td>0.2</td>\n",
       "      <td>Iris-setosa</td>\n",
       "      <td>0.28</td>\n",
       "    </tr>\n",
       "    <tr>\n",
       "      <th>2</th>\n",
       "      <td>4.7</td>\n",
       "      <td>3.2</td>\n",
       "      <td>1.3</td>\n",
       "      <td>0.2</td>\n",
       "      <td>Iris-setosa</td>\n",
       "      <td>0.26</td>\n",
       "    </tr>\n",
       "    <tr>\n",
       "      <th>3</th>\n",
       "      <td>4.6</td>\n",
       "      <td>3.1</td>\n",
       "      <td>1.5</td>\n",
       "      <td>0.2</td>\n",
       "      <td>Iris-setosa</td>\n",
       "      <td>0.30</td>\n",
       "    </tr>\n",
       "    <tr>\n",
       "      <th>4</th>\n",
       "      <td>5.0</td>\n",
       "      <td>3.6</td>\n",
       "      <td>1.4</td>\n",
       "      <td>0.2</td>\n",
       "      <td>Iris-setosa</td>\n",
       "      <td>0.28</td>\n",
       "    </tr>\n",
       "  </tbody>\n",
       "</table>\n",
       "</div>"
      ],
      "text/plain": [
       "   sepal_length  sepal_width  petal_length  petal_width      species  \\\n",
       "0           5.1          3.5           1.4          0.2  Iris-setosa   \n",
       "1           4.9          3.0           1.4          0.2  Iris-setosa   \n",
       "2           4.7          3.2           1.3          0.2  Iris-setosa   \n",
       "3           4.6          3.1           1.5          0.2  Iris-setosa   \n",
       "4           5.0          3.6           1.4          0.2  Iris-setosa   \n",
       "\n",
       "   petal_area  \n",
       "0        0.28  \n",
       "1        0.28  \n",
       "2        0.26  \n",
       "3        0.30  \n",
       "4        0.28  "
      ]
     },
     "execution_count": 11,
     "metadata": {},
     "output_type": "execute_result"
    }
   ],
   "source": [
    "setosa = iris[iris['species'] == 'Iris-setosa']\n",
    "setosa.head()"
   ]
  },
  {
   "cell_type": "markdown",
   "id": "dce30e91-6d14-40c2-9b1c-638199c61973",
   "metadata": {},
   "source": [
    "### Data Aggregation\n",
    "Calculate the mean sepal width for each species:"
   ]
  },
  {
   "cell_type": "code",
   "execution_count": 12,
   "id": "0a11c460-1ff8-4722-b469-ec896b6a472c",
   "metadata": {},
   "outputs": [
    {
     "data": {
      "text/plain": [
       "species\n",
       "Iris-setosa        3.418\n",
       "Iris-versicolor    2.770\n",
       "Iris-virginica     2.974\n",
       "Name: sepal_width, dtype: float64"
      ]
     },
     "execution_count": 12,
     "metadata": {},
     "output_type": "execute_result"
    }
   ],
   "source": [
    "species_sepal_width_mean = iris.groupby('species')['sepal_width'].mean()\n",
    "species_sepal_width_mean"
   ]
  },
  {
   "cell_type": "markdown",
   "id": "363f7b8b-4ce0-4435-935e-3366343aa9e6",
   "metadata": {},
   "source": [
    "### Exporting Data\n",
    "Export the modified DataFrame to a new CSV file:"
   ]
  },
  {
   "cell_type": "code",
   "execution_count": 10,
   "id": "be1d20af-dad1-4a44-a4cb-f9d6d3e3c193",
   "metadata": {},
   "outputs": [],
   "source": [
    "iris.to_csv('iris_modified.csv')"
   ]
  },
  {
   "cell_type": "markdown",
   "id": "999b0241-441b-427b-bd94-93eac4b38f5f",
   "metadata": {},
   "source": [
    "This work demonstrates basic data manipulation operations like loading data, inspecting data, cleaning, transforming, filtering, aggregating, and exporting data using Pandas, all applied to the Iris dataset. \n",
    "\n",
    "It's a good starting point for any data manipulation and analysis task."
   ]
  },
  {
   "cell_type": "code",
   "execution_count": null,
   "id": "ceb71291-a68a-467f-8d86-68a009a33e09",
   "metadata": {},
   "outputs": [],
   "source": []
  }
 ],
 "metadata": {
  "kernelspec": {
   "display_name": "Python [conda env:data_eng]",
   "language": "python",
   "name": "conda-env-data_eng-py"
  },
  "language_info": {
   "codemirror_mode": {
    "name": "ipython",
    "version": 3
   },
   "file_extension": ".py",
   "mimetype": "text/x-python",
   "name": "python",
   "nbconvert_exporter": "python",
   "pygments_lexer": "ipython3",
   "version": "3.8.13"
  }
 },
 "nbformat": 4,
 "nbformat_minor": 5
}
