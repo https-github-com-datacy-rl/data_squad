{
 "cells": [
  {
   "cell_type": "markdown",
   "id": "e861158e-63c5-4c51-bd7c-9ba4f806fcda",
   "metadata": {},
   "source": [
    "# Pandas for Machine Learning Data Preparation"
   ]
  },
  {
   "cell_type": "markdown",
   "id": "d5933d4c-e8cb-4543-b79d-63d62c7d9a02",
   "metadata": {},
   "source": [
    "Pandas is a crucial tool in the machine learning pipeline, especially for data preparation. It offers numerous functionalities to get your data ready for machine learning models. Here's how you can use Pandas for preparing your data for machine learning:\n",
    "\n",
    "## 1. Data Cleaning\n",
    "Before feeding data into a machine learning model, it's important to clean the data properly.\n",
    "\n",
    "### Handling Missing Values"
   ]
  },
  {
   "cell_type": "code",
   "execution_count": null,
   "id": "eada4eda-b0b4-42de-b63c-561981212035",
   "metadata": {},
   "outputs": [],
   "source": [
    "# Drop rows with missing values\n",
    "cleaned_df = df.dropna()\n",
    "\n",
    "# Fill missing values with the mean (or median)\n",
    "df['column'] = df['column'].fillna(df['column'].mean())"
   ]
  },
  {
   "cell_type": "markdown",
   "id": "42848158-0016-46d6-8599-d236cc265941",
   "metadata": {},
   "source": [
    "### Removing Duplicates"
   ]
  },
  {
   "cell_type": "code",
   "execution_count": null,
   "id": "7418b204-94dc-42ca-9bdd-16bb8addb432",
   "metadata": {},
   "outputs": [],
   "source": [
    "df = df.drop_duplicates()"
   ]
  },
  {
   "cell_type": "markdown",
   "id": "9f8594b9-94e6-4ae1-9598-b458f09c9c10",
   "metadata": {},
   "source": [
    "## 2. Data Transformation\n",
    "Transforming data into a suitable format for your model is a crucial step.\n",
    "\n",
    "### Encoding Categorical Variables\n",
    "Machine learning models require numerical input, so you need to convert categorical variables."
   ]
  },
  {
   "cell_type": "code",
   "execution_count": null,
   "id": "34e8979f-5d81-4afa-975a-76ed1428c16e",
   "metadata": {},
   "outputs": [],
   "source": [
    "# One-hot encoding\n",
    "df = pd.get_dummies(df, columns=['categorical_column'])\n",
    "\n",
    "# Label encoding\n",
    "df['encoded_column'] = df['categorical_column'].astype('category').cat.codes"
   ]
  },
  {
   "cell_type": "markdown",
   "id": "ee348462-18c5-440f-974a-b09a5711e209",
   "metadata": {},
   "source": [
    "### Feature Scaling\n",
    "Feature scaling is important for many machine learning algorithms."
   ]
  },
  {
   "cell_type": "code",
   "execution_count": null,
   "id": "27472225-531f-458f-80ca-8d6dde0b4fa8",
   "metadata": {},
   "outputs": [],
   "source": [
    "from sklearn.preprocessing import StandardScaler, MinMaxScaler\n",
    "\n",
    "# Standardization (Z-score normalization)\n",
    "scaler = StandardScaler()\n",
    "df['scaled_column'] = scaler.fit_transform(df[['original_column']])\n",
    "\n",
    "# Normalization (min-max scaling)\n",
    "scaler = MinMaxScaler()\n",
    "df['normalized_column'] = scaler.fit_transform(df[['original_column']])"
   ]
  },
  {
   "cell_type": "markdown",
   "id": "85cd3277-c946-43fb-a411-dea8da059714",
   "metadata": {},
   "source": [
    "## 3. Feature Engineering\n",
    "Creating new features or modifying existing ones can significantly boost model performance.\n",
    "\n",
    "### Creating New Features"
   ]
  },
  {
   "cell_type": "code",
   "execution_count": null,
   "id": "99c698d5-5dae-4f20-b01b-ffe30c9dc89c",
   "metadata": {},
   "outputs": [],
   "source": [
    "# Simple operations\n",
    "df['new_feature'] = df['feature1'] / df['feature2']\n",
    "\n",
    "# More complex transformations\n",
    "df['log_feature'] = df['feature'].apply(np.log)"
   ]
  },
  {
   "cell_type": "markdown",
   "id": "4ef91458-9561-4f38-b943-0bd0224adab0",
   "metadata": {},
   "source": [
    "### Binning\n",
    "Binning can convert numeric variables into categorical ones, useful for models that can exploit this form of data."
   ]
  },
  {
   "cell_type": "code",
   "execution_count": null,
   "id": "5789e52a-4032-4818-b92f-00fe9143d2ec",
   "metadata": {},
   "outputs": [],
   "source": [
    "df['binned_feature'] = pd.cut(df['numeric_feature'], bins=[0, 30, 60, 100], labels=[\"Low\", \"Mid\", \"High\"])"
   ]
  },
  {
   "cell_type": "markdown",
   "id": "568abad0-8625-4658-bc3c-f2c6da8161e9",
   "metadata": {},
   "source": [
    "## 4. Data Reduction\n",
    "Reducing the dimensionality of your data can lead to less overfitting and improve model performance.\n",
    "\n",
    "### Removing Irrelevant Features\n",
    "Manually select which features to keep or remove based on domain knowledge."
   ]
  },
  {
   "cell_type": "code",
   "execution_count": null,
   "id": "aa48ff02-5e3a-4f1a-8003-0b5ed9a5ba55",
   "metadata": {},
   "outputs": [],
   "source": [
    "df = df.drop(['irrelevant_column'], axis=1)"
   ]
  },
  {
   "cell_type": "markdown",
   "id": "d3693a33-584c-415d-b2e3-d1d1386bd71b",
   "metadata": {},
   "source": [
    "### Principal Component Analysis (PCA)\n",
    "PCA is a technique used to emphasize variation and capture strong patterns in a dataset."
   ]
  },
  {
   "cell_type": "code",
   "execution_count": null,
   "id": "590c1ded-22de-4ce4-879f-85a815210980",
   "metadata": {},
   "outputs": [],
   "source": [
    "from sklearn.decomposition import PCA\n",
    "\n",
    "pca = PCA(n_components=2)\n",
    "df_pca = pca.fit_transform(df)"
   ]
  },
  {
   "cell_type": "markdown",
   "id": "7f82c7f8-52f0-40d7-8d02-4eb1a707ef58",
   "metadata": {},
   "source": [
    "## 5. Data Splitting\n",
    "Split your data into training and test (and sometimes validation) sets."
   ]
  },
  {
   "cell_type": "code",
   "execution_count": null,
   "id": "b054281d-fc65-4557-b283-7f9fea6115d8",
   "metadata": {},
   "outputs": [],
   "source": [
    "from sklearn.model_selection import train_test_split\n",
    "\n",
    "X_train, X_test, y_train, y_test = train_test_split(df.drop('target_column', axis=1), df['target_column'], test_size=0.2)"
   ]
  },
  {
   "cell_type": "markdown",
   "id": "cbe32d05-cf5c-4fec-96ea-b03c2765e156",
   "metadata": {},
   "source": [
    "## 6. Handling Imbalanced Data\n",
    "In classification problems, imbalanced data can bias the model towards the majority class.\n",
    "\n",
    "### Oversampling Minority Class"
   ]
  },
  {
   "cell_type": "code",
   "execution_count": null,
   "id": "4629f249-884f-40d1-8309-fb4274a1c7a4",
   "metadata": {},
   "outputs": [],
   "source": [
    "from imblearn.over_sampling import SMOTE\n",
    "\n",
    "sm = SMOTE()\n",
    "X_res, y_res = sm.fit_resample(X_train, y_train)"
   ]
  },
  {
   "cell_type": "markdown",
   "id": "1699233d-6839-4802-8f46-55bbd05c78bf",
   "metadata": {},
   "source": [
    "Using Pandas for data preparation ensures that the data fed into machine learning models is clean, well-formatted, and representative of the problem to be solved. Proper data preparation can lead to more accurate models and more meaningful insights."
   ]
  },
  {
   "cell_type": "code",
   "execution_count": null,
   "id": "93b410ec-2e6d-49e1-be0b-531d88bcd44d",
   "metadata": {},
   "outputs": [],
   "source": []
  }
 ],
 "metadata": {
  "kernelspec": {
   "display_name": "Python [conda env:data_eng]",
   "language": "python",
   "name": "conda-env-data_eng-py"
  },
  "language_info": {
   "codemirror_mode": {
    "name": "ipython",
    "version": 3
   },
   "file_extension": ".py",
   "mimetype": "text/x-python",
   "name": "python",
   "nbconvert_exporter": "python",
   "pygments_lexer": "ipython3",
   "version": "3.8.13"
  }
 },
 "nbformat": 4,
 "nbformat_minor": 5
}
