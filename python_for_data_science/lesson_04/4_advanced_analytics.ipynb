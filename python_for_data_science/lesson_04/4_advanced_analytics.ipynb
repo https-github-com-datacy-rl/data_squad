{
 "cells": [
  {
   "cell_type": "markdown",
   "id": "7294b781-3cd4-4175-869a-2de70f246395",
   "metadata": {},
   "source": [
    "# Advanced Data Analysis with Pandas"
   ]
  },
  {
   "cell_type": "markdown",
   "id": "ffe5f105-8444-4339-a8cb-1496c9c9aa4f",
   "metadata": {},
   "source": [
    "Advanced data analysis with Pandas involves more sophisticated techniques and operations that can provide deeper insights into your data. Here's an overview of some advanced data analysis tasks you can perform using Pandas, along with code examples:\n",
    "\n",
    "## 1. Handling Time Series Data\n",
    "Pandas is excellent for time series analysis. It provides functionalities to work with date and time data.\n",
    "\n",
    "### Resampling Time Series Data\n",
    "Resample time series data to a different frequency and compute summary statistics."
   ]
  },
  {
   "cell_type": "code",
   "execution_count": null,
   "id": "3e888a60-806f-4f81-8aa6-a4352c6a8479",
   "metadata": {},
   "outputs": [],
   "source": [
    "# Assuming 'df' has a DateTimeIndex\n",
    "monthly_data = df.resample('M').mean()"
   ]
  },
  {
   "cell_type": "markdown",
   "id": "96490369-1480-43d9-ae71-0d1e05660657",
   "metadata": {},
   "source": [
    "### Time Series Shifting\n",
    "Shift or lag the values in a time series back and forward in time."
   ]
  },
  {
   "cell_type": "code",
   "execution_count": null,
   "id": "425f4a3a-f08a-4213-8813-cd6be09f45cb",
   "metadata": {},
   "outputs": [],
   "source": [
    "df['shifted_column'] = df['column'].shift(1)  # Shift forward\n",
    "df['lagged_column'] = df['column'].shift(-1)  # Shift backward"
   ]
  },
  {
   "cell_type": "markdown",
   "id": "04855a56-0550-44a7-8ab0-a960be64fea0",
   "metadata": {},
   "source": [
    "### Rolling Window Calculations\n",
    "Apply a function moving over a window of the data."
   ]
  },
  {
   "cell_type": "code",
   "execution_count": null,
   "id": "de271988-afe2-4301-b17e-6af74d59f056",
   "metadata": {},
   "outputs": [],
   "source": [
    "rolling_mean = df['column'].rolling(window=5).mean()"
   ]
  },
  {
   "cell_type": "markdown",
   "id": "41c6f171-3567-4486-a8bb-aecb604fae8c",
   "metadata": {},
   "source": [
    "## 2. Multi-Indexing and Hierarchical Indexing\n",
    "Pandas allows creating multi-level indices, which is useful for high-dimensional datasets."
   ]
  },
  {
   "cell_type": "code",
   "execution_count": null,
   "id": "4d867c97-5909-4b28-ab75-d6bcb19ab348",
   "metadata": {},
   "outputs": [],
   "source": [
    "# Setting a MultiIndex\n",
    "df_multi = df.set_index(['level_1', 'level_2'])\n",
    "\n",
    "# Sorting index\n",
    "df_multi.sort_index(inplace=True)\n",
    "\n",
    "# Accessing data with a MultiIndex\n",
    "data = df_multi.loc[('index_1', 'index_2')]"
   ]
  },
  {
   "cell_type": "markdown",
   "id": "ff702541-0ed3-4792-90d9-432fdf0171b2",
   "metadata": {},
   "source": [
    "## 3. Advanced Merging and Joining\n",
    "Performing more complex joins and merges.\n",
    "\n",
    "### Merging with Different Join Types\n",
    "You can merge dataframes similarly to SQL joins."
   ]
  },
  {
   "cell_type": "code",
   "execution_count": null,
   "id": "c8e9ed5d-9702-447d-8c46-8c46e570e47c",
   "metadata": {},
   "outputs": [],
   "source": [
    "merged_df = pd.merge(df1, df2, on='key_column', how='left')  # Left join"
   ]
  },
  {
   "cell_type": "markdown",
   "id": "70b4aafb-5bee-4f10-9aee-adaab93a14c3",
   "metadata": {},
   "source": [
    "### Concatenating with Keys\n",
    "Use keys for identification when concatenating."
   ]
  },
  {
   "cell_type": "code",
   "execution_count": null,
   "id": "2edbf8b7-4e04-4218-a9dc-e66c7df44266",
   "metadata": {},
   "outputs": [],
   "source": [
    "df_concat = pd.concat([df1, df2], keys=['df1', 'df2'])"
   ]
  },
  {
   "cell_type": "markdown",
   "id": "adc4c5ab-8398-41b0-af26-1558e6b75098",
   "metadata": {},
   "source": [
    "## 4. Pivot Tables\n",
    "Create a spreadsheet-style pivot table as a DataFrame."
   ]
  },
  {
   "cell_type": "code",
   "execution_count": null,
   "id": "f8b8a6c3-7383-4055-9b1a-7b9c40f8af53",
   "metadata": {},
   "outputs": [],
   "source": [
    "pivot_table = df.pivot_table(values='value_column', index='row_column', columns='column_column', aggfunc=np.mean)"
   ]
  },
  {
   "cell_type": "markdown",
   "id": "79ed542f-a522-49b0-ba47-b1f863181d62",
   "metadata": {},
   "source": [
    "## 5. Data Aggregation and Group Operations\n",
    "More complex grouping and aggregation operations.\n",
    "\n",
    "### Custom Aggregation Functions\n",
    "Apply custom aggregation functions using `agg()`."
   ]
  },
  {
   "cell_type": "code",
   "execution_count": null,
   "id": "b63ef9a8-7a37-4294-86ba-ffa4d918963a",
   "metadata": {},
   "outputs": [],
   "source": [
    "custom_agg = df.groupby('group_column').agg({'data_column': ['min', 'max', 'mean', custom_function]})"
   ]
  },
  {
   "cell_type": "markdown",
   "id": "5218c395-a86f-4b02-b0b9-c3637bbc49b4",
   "metadata": {},
   "source": [
    "### Transforming Data with Group-Specific Values\n",
    "Apply a function to each group individually and then combine the results."
   ]
  },
  {
   "cell_type": "code",
   "execution_count": null,
   "id": "2f20c3d7-82b1-46e2-bd5a-636de9f2f517",
   "metadata": {},
   "outputs": [],
   "source": [
    "normalized_df = df.groupby('group_column').transform(lambda x: (x - x.mean()) / x.std())"
   ]
  },
  {
   "cell_type": "markdown",
   "id": "a411e099-1754-4c4a-9af1-ca4e24539776",
   "metadata": {},
   "source": [
    "## 6. Advanced String Manipulation\n",
    "Pandas provides vectorized string functions to make it easy to operate on columns containing text."
   ]
  },
  {
   "cell_type": "code",
   "execution_count": null,
   "id": "4241b433-2809-4fde-b3d0-4ab388d4e980",
   "metadata": {},
   "outputs": [],
   "source": [
    "# String operations\n",
    "df['text_column'] = df['text_column'].str.upper()  # Convert to uppercase\n",
    "df['contains_string'] = df['text_column'].str.contains('search_string')  # Check if each string contains a pattern"
   ]
  },
  {
   "cell_type": "markdown",
   "id": "c7f77546-400a-4df0-b9b9-cb8777182d4a",
   "metadata": {},
   "source": [
    "## 7. Handling Missing Data\n",
    "Advanced techniques for dealing with missing data.\n",
    "\n",
    "### Filling Missing Values with Interpolation\n",
    "Fill missing values using different interpolation methods."
   ]
  },
  {
   "cell_type": "code",
   "execution_count": null,
   "id": "4548e3fd-9beb-46ce-863e-21ce69220be3",
   "metadata": {},
   "outputs": [],
   "source": [
    "df_interpolated = df['column'].interpolate(method='linear')"
   ]
  },
  {
   "cell_type": "markdown",
   "id": "ee97aaac-ef33-4789-8c1a-477d4c578f2c",
   "metadata": {},
   "source": [
    "## 8. Memory Optimization\n",
    "For large datasets, memory usage can be a concern. Pandas provides ways to optimize memory usage."
   ]
  },
  {
   "cell_type": "code",
   "execution_count": null,
   "id": "9fb72232-4321-43a0-8e84-90497b653c53",
   "metadata": {},
   "outputs": [],
   "source": [
    "# Convert columns to more memory-efficient types\n",
    "df['int_column'] = df['int_column'].astype('int32')\n",
    "df['float_column'] = df['float_column'].astype('float32')"
   ]
  },
  {
   "cell_type": "markdown",
   "id": "eb706865-a9a7-4b3e-9d9c-9914c9db1f98",
   "metadata": {},
   "source": [
    "These examples demonstrate some of the advanced capabilities of Pandas for data analysis. Pandas, with its extensive features and tools, is a powerful ally in analyzing and interpreting complex datasets, making it an essential part of the data science and machine learning workflow."
   ]
  },
  {
   "cell_type": "code",
   "execution_count": null,
   "id": "ceb71291-a68a-467f-8d86-68a009a33e09",
   "metadata": {},
   "outputs": [],
   "source": []
  }
 ],
 "metadata": {
  "kernelspec": {
   "display_name": "Python [conda env:data_eng]",
   "language": "python",
   "name": "conda-env-data_eng-py"
  },
  "language_info": {
   "codemirror_mode": {
    "name": "ipython",
    "version": 3
   },
   "file_extension": ".py",
   "mimetype": "text/x-python",
   "name": "python",
   "nbconvert_exporter": "python",
   "pygments_lexer": "ipython3",
   "version": "3.8.13"
  }
 },
 "nbformat": 4,
 "nbformat_minor": 5
}
