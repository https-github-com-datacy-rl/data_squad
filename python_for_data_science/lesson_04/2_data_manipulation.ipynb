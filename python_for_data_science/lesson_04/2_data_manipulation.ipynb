{
 "cells": [
  {
   "cell_type": "markdown",
   "id": "8b3eb82e-c448-4e3b-8275-ac8cc655e7bf",
   "metadata": {},
   "source": [
    "# Data Manipulation with Pandas"
   ]
  },
  {
   "cell_type": "markdown",
   "id": "074fc2d2-41cf-4c14-af6c-850c8f45e45a",
   "metadata": {},
   "source": [
    "Data manipulation is one of the core skills in data science and machine learning, and Pandas is the go-to library in Python for these tasks. Pandas provides numerous functions and methods to efficiently process, clean, and analyze data. Here's an overview of key data manipulation tasks you can perform with Pandas:"
   ]
  },
  {
   "cell_type": "markdown",
   "id": "c84d91de-47fd-4241-8b03-1156a9fb48b4",
   "metadata": {},
   "source": [
    "## Setup\n",
    "First, you need to install and import Pandas. If you haven't installed it, you can do so using pip:"
   ]
  },
  {
   "cell_type": "code",
   "execution_count": null,
   "id": "6db98142-59d3-46be-8a56-319b3d09d3a1",
   "metadata": {},
   "outputs": [],
   "source": [
    "# !pip install pandas"
   ]
  },
  {
   "cell_type": "markdown",
   "id": "fa807960-b252-4b2f-90de-274bed9d72f2",
   "metadata": {},
   "source": [
    "Now, import `pandas` (usually imported as `pd`):"
   ]
  },
  {
   "cell_type": "markdown",
   "id": "5e50913d-00a9-4f52-b0d4-252f09b97928",
   "metadata": {},
   "source": [
    "## 1. Data Loading\n",
    "Pandas supports reading from and writing to a variety of data formats, including `CSV`, `Excel`, `JSON`, and `SQL` databases.\n",
    "\n",
    "- `read_csv`, `read_excel`, `read_json`, `read_sql` for loading data.\n",
    "- `to_csv`, `to_excel`, `to_json`, `to_sql` for saving data."
   ]
  },
  {
   "cell_type": "code",
   "execution_count": null,
   "id": "8b239609-4914-48e8-85a1-f9cc744a4440",
   "metadata": {},
   "outputs": [],
   "source": [
    "df = pd.read_csv('data.csv')"
   ]
  },
  {
   "cell_type": "markdown",
   "id": "5d9b1b1e-d4d7-4644-85d0-21be6f1ebb1e",
   "metadata": {},
   "source": [
    "## 2. Data Inspection\n",
    "Once you've loaded your data into a DataFrame (Pandas' primary data structure), you can start inspecting the data.\n",
    "\n",
    "- `head()` and `tail()` to view the first and last rows of the DataFrame.\n",
    "- `info()` to get a concise summary of the DataFrame, including the number of non-null values in each column and memory usage.\n",
    "- `describe()` to view the statistical summary of numerical columns."
   ]
  },
  {
   "cell_type": "code",
   "execution_count": null,
   "id": "db40fef4-7908-4d69-8e01-8a0c3f324e9c",
   "metadata": {},
   "outputs": [],
   "source": [
    "# Inspect the first few rows of the DataFrame.\n",
    "print(df.head())\n",
    "\n",
    "# View a concise summary of the DataFrame.\n",
    "print(df.info())"
   ]
  },
  {
   "cell_type": "markdown",
   "id": "218b9679-7693-42bc-8bd5-cca203781c2e",
   "metadata": {},
   "source": [
    "## 3. Data Cleaning\n",
    "Real-world data is often messy. Pandas offers powerful tools for cleaning data.\n",
    "\n",
    "- Handling missing data using methods like `isnull()`, `notnull()`, `dropna()`, and `fillna()`.\n",
    "- Removing duplicates with `drop_duplicates()`.\n",
    "- Renaming columns for better readability using `rename()`."
   ]
  },
  {
   "cell_type": "code",
   "execution_count": null,
   "id": "38738121-cdfc-4b97-be17-a0c039adcda5",
   "metadata": {},
   "outputs": [],
   "source": [
    "# Remove rows with missing values.\n",
    "df = df.dropna()\n",
    "\n",
    "# Fill missing values with a default value.\n",
    "df = df.fillna(value=0)\n",
    "\n",
    "# Remove duplicate rows.\n",
    "df = df.drop_duplicates()"
   ]
  },
  {
   "cell_type": "markdown",
   "id": "99bb0a38-474c-4769-b95f-8f42c6beca05",
   "metadata": {},
   "source": [
    "## 4. Data Filtering and Selection\n",
    "Pandas allows for both simple and complex indexing and selection operations.\n",
    "\n",
    "- Selecting specific columns or rows using column names, indices, or conditions.\n",
    "- Advanced indexing with `.loc[]` (label-based) and `.iloc[]` (integer-based).\n",
    "- Conditional selection using boolean arrays."
   ]
  },
  {
   "cell_type": "code",
   "execution_count": null,
   "id": "0c061e43-4e1a-4cfb-bd74-1fcb5d8e0def",
   "metadata": {},
   "outputs": [],
   "source": [
    "# Select a specific column. \n",
    "ages = df['Age']\n",
    "\n",
    "# Select rows based on a condition.\n",
    "youngsters = df[df['Age'] < 18]"
   ]
  },
  {
   "cell_type": "markdown",
   "id": "bc2792c2-4349-4415-aaec-67a75982f6e9",
   "metadata": {},
   "source": [
    "## 5. Data Transformation\n",
    "Transforming your data is essential in the data preparation phase before analysis or modeling.\n",
    "\n",
    "- Creating new columns based on existing data.\n",
    "- Applying functions to columns or rows using `apply()`.\n",
    "- Aggregating data using groupby() and summarizing using aggregation functions like `sum()`, `mean()`, `max()`, `min()`, and custom functions."
   ]
  },
  {
   "cell_type": "code",
   "execution_count": null,
   "id": "479995a1-fa7b-4a42-ba53-34a1c751a9ca",
   "metadata": {},
   "outputs": [],
   "source": [
    "# Create a new column based on an existing one.\n",
    "df['AgeInMonths'] = df['Age'] * 12\n",
    "\n",
    "# Apply a function to a column.\n",
    "df['AgeSquared'] = df['Age'].apply(lambda x: x**2)\n",
    "\n",
    "# Aggregate data after grouping.\n",
    "grouped = df.groupby('Department')\n",
    "print(grouped['Salary'].mean())"
   ]
  },
  {
   "cell_type": "markdown",
   "id": "5f37e707-dff2-4268-8efb-567814ed4206",
   "metadata": {},
   "source": [
    "## 6. Merging and Joining\n",
    "Combining data from multiple sources is a common task in data analysis.\n",
    "\n",
    "- Concatenating dataframes vertically or horizontally using `pd.concat()`.\n",
    "- Merging dataframes based on a common key (similar to SQL joins) using `merge()`."
   ]
  },
  {
   "cell_type": "code",
   "execution_count": null,
   "id": "2f5da100-382f-4a10-9d49-eefd32120d64",
   "metadata": {},
   "outputs": [],
   "source": [
    "# Merge two DataFrames on a key column.\n",
    "merged_df = pd.merge(df1, df2, on='EmployeeID')"
   ]
  },
  {
   "cell_type": "markdown",
   "id": "94dc34c7-7ad3-45b4-8dfd-3419c13281ba",
   "metadata": {},
   "source": [
    "## 7. Pivoting and Reshaping\n",
    "Changing the structure and layout of data can provide fresh insights.\n",
    "\n",
    "- Pivoting dataframes with `pivot()` or `pivot_table()`.\n",
    "- Melting dataframes (turning columns into rows) using `melt()`."
   ]
  },
  {
   "cell_type": "code",
   "execution_count": null,
   "id": "0207bb6c-95e7-4e9b-bafb-cd9eb8e0f519",
   "metadata": {},
   "outputs": [],
   "source": [
    "# Pivot a table based on column values.\n",
    "pivoted = df.pivot_table(index='Date', columns='Department', values='Sales')"
   ]
  },
  {
   "cell_type": "markdown",
   "id": "b8942692-c87b-435a-91ec-93e831fd96e2",
   "metadata": {},
   "source": [
    "## 8. Working with Time Series\n",
    "Pandas has robust features for working with time-series data.\n",
    "\n",
    "- Time-based indexing and slicing.\n",
    "- Resampling and frequency conversion using methods like `resample()` or `asfreq()`.\n",
    "- Rolling window calculations with `rolling()`."
   ]
  },
  {
   "cell_type": "code",
   "execution_count": null,
   "id": "27c972b3-01e6-4262-b835-83e516db3f9a",
   "metadata": {},
   "outputs": [],
   "source": [
    "# Convert a column to datetime and set it as index.\n",
    "df['Date'] = pd.to_datetime(df['Date'])\n",
    "df.set_index('Date', inplace=True)\n",
    "\n",
    "# Resample data by month and calculate the mean.\n",
    "monthly_mean = df.resample('M').mean()"
   ]
  },
  {
   "cell_type": "markdown",
   "id": "5c4b937a-342f-4ca8-a48c-79b294007a1a",
   "metadata": {},
   "source": [
    "## 9. Exporting Data\n",
    "After manipulation, you can easily export your data to various formats for further use or reporting.\n",
    "\n",
    "- Using `to_csv`, `to_excel`, `to_json`, `to_sql` to export DataFrames to respective formats."
   ]
  },
  {
   "cell_type": "code",
   "execution_count": null,
   "id": "56f420cc-1a73-4bc2-84b1-728d0504a0e8",
   "metadata": {},
   "outputs": [],
   "source": [
    "# Export the DataFrame to a new CSV file.\n",
    "df.to_csv('processed_data.csv')"
   ]
  },
  {
   "cell_type": "markdown",
   "id": "553f48d5-f439-44ae-87ba-3b814d353bbf",
   "metadata": {},
   "source": [
    "Pandas is incredibly powerful for data manipulation, providing a wide array of functions to efficiently process, clean, and transform data, setting the stage for in-depth analysis and modeling. It's a staple tool in the toolkit of data scientists and analysts."
   ]
  },
  {
   "cell_type": "code",
   "execution_count": null,
   "id": "100be275-9b97-427a-9d6e-6183fc537864",
   "metadata": {},
   "outputs": [],
   "source": []
  }
 ],
 "metadata": {
  "kernelspec": {
   "display_name": "Python [conda env:data_eng]",
   "language": "python",
   "name": "conda-env-data_eng-py"
  },
  "language_info": {
   "codemirror_mode": {
    "name": "ipython",
    "version": 3
   },
   "file_extension": ".py",
   "mimetype": "text/x-python",
   "name": "python",
   "nbconvert_exporter": "python",
   "pygments_lexer": "ipython3",
   "version": "3.8.13"
  }
 },
 "nbformat": 4,
 "nbformat_minor": 5
}
