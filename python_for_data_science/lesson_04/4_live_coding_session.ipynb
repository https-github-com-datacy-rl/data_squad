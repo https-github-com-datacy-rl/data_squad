{
 "cells": [
  {
   "cell_type": "markdown",
   "id": "ac124726-258c-47bb-a6c4-7219977a149f",
   "metadata": {},
   "source": [
    "# World Marriage Analysis"
   ]
  },
  {
   "cell_type": "markdown",
   "id": "a54b7963-ef6c-4c95-a806-dc47f2f0517f",
   "metadata": {},
   "source": [
    "## Import Packages "
   ]
  },
  {
   "cell_type": "code",
   "execution_count": 1,
   "id": "79f2c489-a6f7-4a0b-b0e1-fc17208d93f7",
   "metadata": {},
   "outputs": [],
   "source": [
    "import pandas as pd \n",
    "import numpy as np \n",
    "import matplotlib.pyplot as plt \n",
    "import seaborn as sns"
   ]
  },
  {
   "cell_type": "markdown",
   "id": "a91f615e-e04d-491b-b2d0-8e86e682a4e0",
   "metadata": {},
   "source": [
    "## Load the Data "
   ]
  },
  {
   "cell_type": "code",
   "execution_count": 3,
   "id": "e576e154-07cf-424f-a2b1-017213578f98",
   "metadata": {},
   "outputs": [],
   "source": [
    "path = r\"C:\\Users\\bunmi\\PycharmProjects\\data_eng\\database\\marriage.csv\"\n",
    "\n",
    "df = pd.read_csv(path)"
   ]
  },
  {
   "cell_type": "markdown",
   "id": "51236376-4045-488c-8c33-f067c0e64dfa",
   "metadata": {},
   "source": [
    "## Copy the DataFrame"
   ]
  },
  {
   "cell_type": "code",
   "execution_count": 51,
   "id": "b6a7b139-68fd-4bf3-bdc3-6f7953ee6b08",
   "metadata": {},
   "outputs": [],
   "source": [
    "marriage_df = df.copy()"
   ]
  },
  {
   "cell_type": "markdown",
   "id": "a5ae51f6-3112-44c2-ba95-1a3a442aa51e",
   "metadata": {},
   "source": [
    "## EDA"
   ]
  },
  {
   "cell_type": "code",
   "execution_count": 52,
   "id": "1edf9c73-17e4-42c0-9ffd-e3f15aa89cb9",
   "metadata": {},
   "outputs": [
    {
     "data": {
      "text/html": [
       "<div>\n",
       "<style scoped>\n",
       "    .dataframe tbody tr th:only-of-type {\n",
       "        vertical-align: middle;\n",
       "    }\n",
       "\n",
       "    .dataframe tbody tr th {\n",
       "        vertical-align: top;\n",
       "    }\n",
       "\n",
       "    .dataframe thead th {\n",
       "        text-align: right;\n",
       "    }\n",
       "</style>\n",
       "<table border=\"1\" class=\"dataframe\">\n",
       "  <thead>\n",
       "    <tr style=\"text-align: right;\">\n",
       "      <th></th>\n",
       "      <th>Sr.No.</th>\n",
       "      <th>Country</th>\n",
       "      <th>AgeGroup</th>\n",
       "      <th>Sex</th>\n",
       "      <th>MaritalStatus</th>\n",
       "      <th>DataProcess</th>\n",
       "      <th>Data Collection (Start Year)</th>\n",
       "      <th>Data Collection (End Year)</th>\n",
       "      <th>Data Source</th>\n",
       "    </tr>\n",
       "  </thead>\n",
       "  <tbody>\n",
       "    <tr>\n",
       "      <th>0</th>\n",
       "      <td>1</td>\n",
       "      <td>Afghanistan</td>\n",
       "      <td>[15-19]</td>\n",
       "      <td>Man</td>\n",
       "      <td>Divorced</td>\n",
       "      <td>Survey</td>\n",
       "      <td>1972</td>\n",
       "      <td>1974</td>\n",
       "      <td>National statistics</td>\n",
       "    </tr>\n",
       "    <tr>\n",
       "      <th>1</th>\n",
       "      <td>2</td>\n",
       "      <td>Afghanistan</td>\n",
       "      <td>[20-24]</td>\n",
       "      <td>Man</td>\n",
       "      <td>Divorced</td>\n",
       "      <td>Survey</td>\n",
       "      <td>1972</td>\n",
       "      <td>1974</td>\n",
       "      <td>National statistics</td>\n",
       "    </tr>\n",
       "    <tr>\n",
       "      <th>2</th>\n",
       "      <td>3</td>\n",
       "      <td>Afghanistan</td>\n",
       "      <td>[25-29]</td>\n",
       "      <td>Man</td>\n",
       "      <td>Divorced</td>\n",
       "      <td>Survey</td>\n",
       "      <td>1972</td>\n",
       "      <td>1974</td>\n",
       "      <td>National statistics</td>\n",
       "    </tr>\n",
       "    <tr>\n",
       "      <th>3</th>\n",
       "      <td>4</td>\n",
       "      <td>Afghanistan</td>\n",
       "      <td>[30-34]</td>\n",
       "      <td>Man</td>\n",
       "      <td>Divorced</td>\n",
       "      <td>Survey</td>\n",
       "      <td>1972</td>\n",
       "      <td>1974</td>\n",
       "      <td>National statistics</td>\n",
       "    </tr>\n",
       "    <tr>\n",
       "      <th>4</th>\n",
       "      <td>5</td>\n",
       "      <td>Afghanistan</td>\n",
       "      <td>[35-39]</td>\n",
       "      <td>Man</td>\n",
       "      <td>Divorced</td>\n",
       "      <td>Survey</td>\n",
       "      <td>1972</td>\n",
       "      <td>1974</td>\n",
       "      <td>National statistics</td>\n",
       "    </tr>\n",
       "  </tbody>\n",
       "</table>\n",
       "</div>"
      ],
      "text/plain": [
       "   Sr.No.      Country AgeGroup  Sex MaritalStatus DataProcess  \\\n",
       "0       1  Afghanistan  [15-19]  Man      Divorced      Survey   \n",
       "1       2  Afghanistan  [20-24]  Man      Divorced      Survey   \n",
       "2       3  Afghanistan  [25-29]  Man      Divorced      Survey   \n",
       "3       4  Afghanistan  [30-34]  Man      Divorced      Survey   \n",
       "4       5  Afghanistan  [35-39]  Man      Divorced      Survey   \n",
       "\n",
       "   Data Collection (Start Year)  Data Collection (End Year)  \\\n",
       "0                          1972                        1974   \n",
       "1                          1972                        1974   \n",
       "2                          1972                        1974   \n",
       "3                          1972                        1974   \n",
       "4                          1972                        1974   \n",
       "\n",
       "           Data Source  \n",
       "0  National statistics  \n",
       "1  National statistics  \n",
       "2  National statistics  \n",
       "3  National statistics  \n",
       "4  National statistics  "
      ]
     },
     "execution_count": 52,
     "metadata": {},
     "output_type": "execute_result"
    }
   ],
   "source": [
    "# see the first five rows\n",
    "marriage_df.head()"
   ]
  },
  {
   "cell_type": "code",
   "execution_count": 53,
   "id": "8da0d467-83b7-435f-95da-8c297982db06",
   "metadata": {},
   "outputs": [
    {
     "data": {
      "text/html": [
       "<div>\n",
       "<style scoped>\n",
       "    .dataframe tbody tr th:only-of-type {\n",
       "        vertical-align: middle;\n",
       "    }\n",
       "\n",
       "    .dataframe tbody tr th {\n",
       "        vertical-align: top;\n",
       "    }\n",
       "\n",
       "    .dataframe thead th {\n",
       "        text-align: right;\n",
       "    }\n",
       "</style>\n",
       "<table border=\"1\" class=\"dataframe\">\n",
       "  <thead>\n",
       "    <tr style=\"text-align: right;\">\n",
       "      <th></th>\n",
       "      <th>Sr.No.</th>\n",
       "      <th>Country</th>\n",
       "      <th>AgeGroup</th>\n",
       "      <th>Sex</th>\n",
       "      <th>MaritalStatus</th>\n",
       "      <th>DataProcess</th>\n",
       "      <th>Data Collection (Start Year)</th>\n",
       "      <th>Data Collection (End Year)</th>\n",
       "      <th>Data Source</th>\n",
       "    </tr>\n",
       "  </thead>\n",
       "  <tbody>\n",
       "    <tr>\n",
       "      <th>271599</th>\n",
       "      <td>271600</td>\n",
       "      <td>Zimbabwe</td>\n",
       "      <td>[55-59]</td>\n",
       "      <td>Woman</td>\n",
       "      <td>Widowed</td>\n",
       "      <td>Survey</td>\n",
       "      <td>2017</td>\n",
       "      <td>2017</td>\n",
       "      <td>National statistics</td>\n",
       "    </tr>\n",
       "    <tr>\n",
       "      <th>271600</th>\n",
       "      <td>271601</td>\n",
       "      <td>Zimbabwe</td>\n",
       "      <td>[60-64]</td>\n",
       "      <td>Woman</td>\n",
       "      <td>Widowed</td>\n",
       "      <td>Survey</td>\n",
       "      <td>2017</td>\n",
       "      <td>2017</td>\n",
       "      <td>National statistics</td>\n",
       "    </tr>\n",
       "    <tr>\n",
       "      <th>271601</th>\n",
       "      <td>271602</td>\n",
       "      <td>Zimbabwe</td>\n",
       "      <td>[65-69]</td>\n",
       "      <td>Woman</td>\n",
       "      <td>Widowed</td>\n",
       "      <td>Survey</td>\n",
       "      <td>2017</td>\n",
       "      <td>2017</td>\n",
       "      <td>National statistics</td>\n",
       "    </tr>\n",
       "    <tr>\n",
       "      <th>271602</th>\n",
       "      <td>271603</td>\n",
       "      <td>Zimbabwe</td>\n",
       "      <td>[70-74]</td>\n",
       "      <td>Woman</td>\n",
       "      <td>Widowed</td>\n",
       "      <td>Survey</td>\n",
       "      <td>2017</td>\n",
       "      <td>2017</td>\n",
       "      <td>National statistics</td>\n",
       "    </tr>\n",
       "    <tr>\n",
       "      <th>271603</th>\n",
       "      <td>271604</td>\n",
       "      <td>Zimbabwe</td>\n",
       "      <td>[75+]</td>\n",
       "      <td>Woman</td>\n",
       "      <td>Widowed</td>\n",
       "      <td>Survey</td>\n",
       "      <td>2017</td>\n",
       "      <td>2017</td>\n",
       "      <td>National statistics</td>\n",
       "    </tr>\n",
       "  </tbody>\n",
       "</table>\n",
       "</div>"
      ],
      "text/plain": [
       "        Sr.No.   Country AgeGroup    Sex MaritalStatus DataProcess  \\\n",
       "271599  271600  Zimbabwe  [55-59]  Woman       Widowed      Survey   \n",
       "271600  271601  Zimbabwe  [60-64]  Woman       Widowed      Survey   \n",
       "271601  271602  Zimbabwe  [65-69]  Woman       Widowed      Survey   \n",
       "271602  271603  Zimbabwe  [70-74]  Woman       Widowed      Survey   \n",
       "271603  271604  Zimbabwe    [75+]  Woman       Widowed      Survey   \n",
       "\n",
       "        Data Collection (Start Year)  Data Collection (End Year)  \\\n",
       "271599                          2017                        2017   \n",
       "271600                          2017                        2017   \n",
       "271601                          2017                        2017   \n",
       "271602                          2017                        2017   \n",
       "271603                          2017                        2017   \n",
       "\n",
       "                Data Source  \n",
       "271599  National statistics  \n",
       "271600  National statistics  \n",
       "271601  National statistics  \n",
       "271602  National statistics  \n",
       "271603  National statistics  "
      ]
     },
     "execution_count": 53,
     "metadata": {},
     "output_type": "execute_result"
    }
   ],
   "source": [
    "# see the last five rows\n",
    "marriage_df.tail()"
   ]
  },
  {
   "cell_type": "code",
   "execution_count": 54,
   "id": "0e1e2ef8-5e48-4977-a5bf-ebaf3d8b981b",
   "metadata": {},
   "outputs": [
    {
     "data": {
      "text/html": [
       "<div>\n",
       "<style scoped>\n",
       "    .dataframe tbody tr th:only-of-type {\n",
       "        vertical-align: middle;\n",
       "    }\n",
       "\n",
       "    .dataframe tbody tr th {\n",
       "        vertical-align: top;\n",
       "    }\n",
       "\n",
       "    .dataframe thead th {\n",
       "        text-align: right;\n",
       "    }\n",
       "</style>\n",
       "<table border=\"1\" class=\"dataframe\">\n",
       "  <thead>\n",
       "    <tr style=\"text-align: right;\">\n",
       "      <th></th>\n",
       "      <th>Sr.No.</th>\n",
       "      <th>Country</th>\n",
       "      <th>AgeGroup</th>\n",
       "      <th>Sex</th>\n",
       "      <th>MaritalStatus</th>\n",
       "      <th>DataProcess</th>\n",
       "      <th>Data Collection (Start Year)</th>\n",
       "      <th>Data Collection (End Year)</th>\n",
       "      <th>Data Source</th>\n",
       "    </tr>\n",
       "  </thead>\n",
       "  <tbody>\n",
       "    <tr>\n",
       "      <th>111842</th>\n",
       "      <td>111843</td>\n",
       "      <td>Iceland</td>\n",
       "      <td>[10-14]</td>\n",
       "      <td>Man</td>\n",
       "      <td>Married</td>\n",
       "      <td>Estimate</td>\n",
       "      <td>1991</td>\n",
       "      <td>1991</td>\n",
       "      <td>UNSD</td>\n",
       "    </tr>\n",
       "    <tr>\n",
       "      <th>43999</th>\n",
       "      <td>44000</td>\n",
       "      <td>China, Macao SAR</td>\n",
       "      <td>[10-14]</td>\n",
       "      <td>Man</td>\n",
       "      <td>Divorced</td>\n",
       "      <td>Census</td>\n",
       "      <td>2006</td>\n",
       "      <td>2006</td>\n",
       "      <td>UNSD</td>\n",
       "    </tr>\n",
       "    <tr>\n",
       "      <th>114122</th>\n",
       "      <td>114123</td>\n",
       "      <td>Iceland</td>\n",
       "      <td>[75+]</td>\n",
       "      <td>Woman</td>\n",
       "      <td>Widowed</td>\n",
       "      <td>Census</td>\n",
       "      <td>2011</td>\n",
       "      <td>2011</td>\n",
       "      <td>Eurostat</td>\n",
       "    </tr>\n",
       "    <tr>\n",
       "      <th>218023</th>\n",
       "      <td>218024</td>\n",
       "      <td>Seychelles</td>\n",
       "      <td>[30-34]</td>\n",
       "      <td>Woman</td>\n",
       "      <td>Married</td>\n",
       "      <td>Census</td>\n",
       "      <td>1981</td>\n",
       "      <td>1982</td>\n",
       "      <td>INED</td>\n",
       "    </tr>\n",
       "    <tr>\n",
       "      <th>60433</th>\n",
       "      <td>60434</td>\n",
       "      <td>Denmark</td>\n",
       "      <td>[15-19]</td>\n",
       "      <td>Man</td>\n",
       "      <td>Single</td>\n",
       "      <td>Estimate</td>\n",
       "      <td>1979</td>\n",
       "      <td>1979</td>\n",
       "      <td>UNSD</td>\n",
       "    </tr>\n",
       "    <tr>\n",
       "      <th>90987</th>\n",
       "      <td>90988</td>\n",
       "      <td>Ghana</td>\n",
       "      <td>[50-54]</td>\n",
       "      <td>Man</td>\n",
       "      <td>Married</td>\n",
       "      <td>Survey</td>\n",
       "      <td>2008</td>\n",
       "      <td>2008</td>\n",
       "      <td>DHS_HH</td>\n",
       "    </tr>\n",
       "    <tr>\n",
       "      <th>58115</th>\n",
       "      <td>58116</td>\n",
       "      <td>Czechia</td>\n",
       "      <td>[45-49]</td>\n",
       "      <td>Woman</td>\n",
       "      <td>Widowed</td>\n",
       "      <td>Estimate</td>\n",
       "      <td>2018</td>\n",
       "      <td>2018</td>\n",
       "      <td>UNSD</td>\n",
       "    </tr>\n",
       "    <tr>\n",
       "      <th>20089</th>\n",
       "      <td>20090</td>\n",
       "      <td>Bolivia (Plurinational State of)</td>\n",
       "      <td>[70+]</td>\n",
       "      <td>Man</td>\n",
       "      <td>Divorced or Separated</td>\n",
       "      <td>Census</td>\n",
       "      <td>1992</td>\n",
       "      <td>1992</td>\n",
       "      <td>UNSD</td>\n",
       "    </tr>\n",
       "    <tr>\n",
       "      <th>98721</th>\n",
       "      <td>98722</td>\n",
       "      <td>Guinea</td>\n",
       "      <td>[60-64]</td>\n",
       "      <td>Man</td>\n",
       "      <td>Divorced</td>\n",
       "      <td>Census</td>\n",
       "      <td>1983</td>\n",
       "      <td>1983</td>\n",
       "      <td>INED</td>\n",
       "    </tr>\n",
       "    <tr>\n",
       "      <th>25591</th>\n",
       "      <td>25592</td>\n",
       "      <td>Bulgaria</td>\n",
       "      <td>[35-39]</td>\n",
       "      <td>Man</td>\n",
       "      <td>Divorced</td>\n",
       "      <td>Estimate</td>\n",
       "      <td>2018</td>\n",
       "      <td>2018</td>\n",
       "      <td>UNSD</td>\n",
       "    </tr>\n",
       "  </tbody>\n",
       "</table>\n",
       "</div>"
      ],
      "text/plain": [
       "        Sr.No.                           Country AgeGroup    Sex  \\\n",
       "111842  111843                           Iceland  [10-14]    Man   \n",
       "43999    44000                  China, Macao SAR  [10-14]    Man   \n",
       "114122  114123                           Iceland    [75+]  Woman   \n",
       "218023  218024                        Seychelles  [30-34]  Woman   \n",
       "60433    60434                           Denmark  [15-19]    Man   \n",
       "90987    90988                             Ghana  [50-54]    Man   \n",
       "58115    58116                           Czechia  [45-49]  Woman   \n",
       "20089    20090  Bolivia (Plurinational State of)    [70+]    Man   \n",
       "98721    98722                            Guinea  [60-64]    Man   \n",
       "25591    25592                          Bulgaria  [35-39]    Man   \n",
       "\n",
       "                MaritalStatus DataProcess  Data Collection (Start Year)  \\\n",
       "111842                Married    Estimate                          1991   \n",
       "43999                Divorced      Census                          2006   \n",
       "114122                Widowed      Census                          2011   \n",
       "218023                Married      Census                          1981   \n",
       "60433                  Single    Estimate                          1979   \n",
       "90987                 Married      Survey                          2008   \n",
       "58115                 Widowed    Estimate                          2018   \n",
       "20089   Divorced or Separated      Census                          1992   \n",
       "98721                Divorced      Census                          1983   \n",
       "25591                Divorced    Estimate                          2018   \n",
       "\n",
       "        Data Collection (End Year) Data Source  \n",
       "111842                        1991        UNSD  \n",
       "43999                         2006        UNSD  \n",
       "114122                        2011    Eurostat  \n",
       "218023                        1982        INED  \n",
       "60433                         1979        UNSD  \n",
       "90987                         2008      DHS_HH  \n",
       "58115                         2018        UNSD  \n",
       "20089                         1992        UNSD  \n",
       "98721                         1983        INED  \n",
       "25591                         2018        UNSD  "
      ]
     },
     "execution_count": 54,
     "metadata": {},
     "output_type": "execute_result"
    }
   ],
   "source": [
    "# see randow samples\n",
    "marriage_df.sample(10)"
   ]
  },
  {
   "cell_type": "code",
   "execution_count": 55,
   "id": "e804ebc6-0b3a-49a3-af13-cd305f52330c",
   "metadata": {},
   "outputs": [
    {
     "data": {
      "text/plain": [
       "(271604, 9)"
      ]
     },
     "execution_count": 55,
     "metadata": {},
     "output_type": "execute_result"
    }
   ],
   "source": [
    "# Get the number of rows and columns \n",
    "marriage_df.shape"
   ]
  },
  {
   "cell_type": "code",
   "execution_count": 56,
   "id": "523becfe-9ed8-4d31-9540-33bb0d6a13e6",
   "metadata": {},
   "outputs": [
    {
     "data": {
      "text/plain": [
       "Index(['Sr.No.', 'Country', 'AgeGroup', 'Sex', 'MaritalStatus', 'DataProcess',\n",
       "       'Data Collection (Start Year)', 'Data Collection (End Year)',\n",
       "       'Data Source'],\n",
       "      dtype='object')"
      ]
     },
     "execution_count": 56,
     "metadata": {},
     "output_type": "execute_result"
    }
   ],
   "source": [
    "# See the columns present in the dataframe\n",
    "marriage_df.columns "
   ]
  },
  {
   "cell_type": "code",
   "execution_count": 57,
   "id": "1cff13fe-a75c-46d2-b55a-7c7f4755219a",
   "metadata": {},
   "outputs": [
    {
     "data": {
      "text/plain": [
       "RangeIndex(start=0, stop=271604, step=1)"
      ]
     },
     "execution_count": 57,
     "metadata": {},
     "output_type": "execute_result"
    }
   ],
   "source": [
    "marriage_df.index "
   ]
  },
  {
   "cell_type": "code",
   "execution_count": 58,
   "id": "3826b6aa-5059-4681-b2f5-8927dbe5404a",
   "metadata": {},
   "outputs": [
    {
     "name": "stdout",
     "output_type": "stream",
     "text": [
      "<class 'pandas.core.frame.DataFrame'>\n",
      "RangeIndex: 271604 entries, 0 to 271603\n",
      "Data columns (total 9 columns):\n",
      " #   Column                        Non-Null Count   Dtype \n",
      "---  ------                        --------------   ----- \n",
      " 0   Sr.No.                        271604 non-null  int64 \n",
      " 1   Country                       271604 non-null  object\n",
      " 2   AgeGroup                      271604 non-null  object\n",
      " 3   Sex                           271604 non-null  object\n",
      " 4   MaritalStatus                 271604 non-null  object\n",
      " 5   DataProcess                   271604 non-null  object\n",
      " 6   Data Collection (Start Year)  271604 non-null  int64 \n",
      " 7   Data Collection (End Year)    271604 non-null  int64 \n",
      " 8   Data Source                   271604 non-null  object\n",
      "dtypes: int64(3), object(6)\n",
      "memory usage: 18.6+ MB\n"
     ]
    }
   ],
   "source": [
    "# Information about columns, missing values and datatypes\n",
    "marriage_df.info()"
   ]
  },
  {
   "cell_type": "code",
   "execution_count": 59,
   "id": "961de977-554a-473d-b13c-daa48e7630a7",
   "metadata": {},
   "outputs": [
    {
     "data": {
      "text/plain": [
       "pandas.core.frame.DataFrame"
      ]
     },
     "execution_count": 59,
     "metadata": {},
     "output_type": "execute_result"
    }
   ],
   "source": [
    "# Check for duplicate\n",
    "type(marriage_df)"
   ]
  },
  {
   "cell_type": "code",
   "execution_count": 60,
   "id": "d33d35ee-e889-4de8-b659-9fdd0bb30fb0",
   "metadata": {},
   "outputs": [
    {
     "data": {
      "text/plain": [
       "0"
      ]
     },
     "execution_count": 60,
     "metadata": {},
     "output_type": "execute_result"
    }
   ],
   "source": [
    "marriage_df.duplicated().sum()"
   ]
  },
  {
   "cell_type": "code",
   "execution_count": 61,
   "id": "326b703a-2af6-4258-811c-25bd951f0e34",
   "metadata": {},
   "outputs": [],
   "source": [
    "list_of_columns = [\"Country\", \"AgeGroup\", \"Sex\"]"
   ]
  },
  {
   "cell_type": "code",
   "execution_count": 62,
   "id": "960ba70d-645c-4c61-96ad-8dc2cc8ca18d",
   "metadata": {},
   "outputs": [
    {
     "data": {
      "text/html": [
       "<div>\n",
       "<style scoped>\n",
       "    .dataframe tbody tr th:only-of-type {\n",
       "        vertical-align: middle;\n",
       "    }\n",
       "\n",
       "    .dataframe tbody tr th {\n",
       "        vertical-align: top;\n",
       "    }\n",
       "\n",
       "    .dataframe thead th {\n",
       "        text-align: right;\n",
       "    }\n",
       "</style>\n",
       "<table border=\"1\" class=\"dataframe\">\n",
       "  <thead>\n",
       "    <tr style=\"text-align: right;\">\n",
       "      <th></th>\n",
       "      <th>Country</th>\n",
       "      <th>AgeGroup</th>\n",
       "      <th>Sex</th>\n",
       "    </tr>\n",
       "  </thead>\n",
       "  <tbody>\n",
       "    <tr>\n",
       "      <th>0</th>\n",
       "      <td>Afghanistan</td>\n",
       "      <td>[15-19]</td>\n",
       "      <td>Man</td>\n",
       "    </tr>\n",
       "    <tr>\n",
       "      <th>1</th>\n",
       "      <td>Afghanistan</td>\n",
       "      <td>[20-24]</td>\n",
       "      <td>Man</td>\n",
       "    </tr>\n",
       "    <tr>\n",
       "      <th>2</th>\n",
       "      <td>Afghanistan</td>\n",
       "      <td>[25-29]</td>\n",
       "      <td>Man</td>\n",
       "    </tr>\n",
       "    <tr>\n",
       "      <th>3</th>\n",
       "      <td>Afghanistan</td>\n",
       "      <td>[30-34]</td>\n",
       "      <td>Man</td>\n",
       "    </tr>\n",
       "    <tr>\n",
       "      <th>4</th>\n",
       "      <td>Afghanistan</td>\n",
       "      <td>[35-39]</td>\n",
       "      <td>Man</td>\n",
       "    </tr>\n",
       "  </tbody>\n",
       "</table>\n",
       "</div>"
      ],
      "text/plain": [
       "       Country AgeGroup  Sex\n",
       "0  Afghanistan  [15-19]  Man\n",
       "1  Afghanistan  [20-24]  Man\n",
       "2  Afghanistan  [25-29]  Man\n",
       "3  Afghanistan  [30-34]  Man\n",
       "4  Afghanistan  [35-39]  Man"
      ]
     },
     "execution_count": 62,
     "metadata": {},
     "output_type": "execute_result"
    }
   ],
   "source": [
    "marriage_df[list_of_columns].head()"
   ]
  },
  {
   "cell_type": "code",
   "execution_count": 63,
   "id": "339a43ce-f542-4682-9ec9-dc2e92fddb2d",
   "metadata": {},
   "outputs": [
    {
     "data": {
      "text/plain": [
       "Index(['Sr.No.', 'Country', 'AgeGroup', 'Sex', 'MaritalStatus', 'DataProcess',\n",
       "       'Data Collection (Start Year)', 'Data Collection (End Year)',\n",
       "       'Data Source'],\n",
       "      dtype='object')"
      ]
     },
     "execution_count": 63,
     "metadata": {},
     "output_type": "execute_result"
    }
   ],
   "source": [
    "marriage_df.columns"
   ]
  },
  {
   "cell_type": "code",
   "execution_count": 64,
   "id": "b39a5408-5950-4ccc-8da3-e063e00d0dff",
   "metadata": {},
   "outputs": [],
   "source": [
    " new_names = ['serial_number', 'country', 'age_group', 'sex', 'marital_status', \n",
    "              'data_process',  'start_year', 'end_year', 'data_source']"
   ]
  },
  {
   "cell_type": "code",
   "execution_count": 65,
   "id": "85619df0-7675-474d-8fdd-8e4465d13017",
   "metadata": {},
   "outputs": [],
   "source": [
    "marriage_df.columns = new_names"
   ]
  },
  {
   "cell_type": "code",
   "execution_count": 66,
   "id": "6172730b-0929-4864-abfd-bcebfd0b575c",
   "metadata": {},
   "outputs": [
    {
     "data": {
      "text/html": [
       "<div>\n",
       "<style scoped>\n",
       "    .dataframe tbody tr th:only-of-type {\n",
       "        vertical-align: middle;\n",
       "    }\n",
       "\n",
       "    .dataframe tbody tr th {\n",
       "        vertical-align: top;\n",
       "    }\n",
       "\n",
       "    .dataframe thead th {\n",
       "        text-align: right;\n",
       "    }\n",
       "</style>\n",
       "<table border=\"1\" class=\"dataframe\">\n",
       "  <thead>\n",
       "    <tr style=\"text-align: right;\">\n",
       "      <th></th>\n",
       "      <th>serial_number</th>\n",
       "      <th>country</th>\n",
       "      <th>age_group</th>\n",
       "      <th>sex</th>\n",
       "      <th>marital_status</th>\n",
       "      <th>data_process</th>\n",
       "      <th>start_year</th>\n",
       "      <th>end_year</th>\n",
       "      <th>data_source</th>\n",
       "    </tr>\n",
       "  </thead>\n",
       "  <tbody>\n",
       "    <tr>\n",
       "      <th>253980</th>\n",
       "      <td>253981</td>\n",
       "      <td>United Arab Emirates</td>\n",
       "      <td>[40-44]</td>\n",
       "      <td>Man</td>\n",
       "      <td>Single</td>\n",
       "      <td>Census</td>\n",
       "      <td>2005</td>\n",
       "      <td>2005</td>\n",
       "      <td>UNSD</td>\n",
       "    </tr>\n",
       "    <tr>\n",
       "      <th>168731</th>\n",
       "      <td>168732</td>\n",
       "      <td>Nepal</td>\n",
       "      <td>[40-44]</td>\n",
       "      <td>Woman</td>\n",
       "      <td>Widowed</td>\n",
       "      <td>Survey</td>\n",
       "      <td>2011</td>\n",
       "      <td>2011</td>\n",
       "      <td>DHS_STATcompiler</td>\n",
       "    </tr>\n",
       "  </tbody>\n",
       "</table>\n",
       "</div>"
      ],
      "text/plain": [
       "        serial_number               country age_group    sex marital_status  \\\n",
       "253980         253981  United Arab Emirates   [40-44]    Man         Single   \n",
       "168731         168732                 Nepal   [40-44]  Woman        Widowed   \n",
       "\n",
       "       data_process  start_year  end_year       data_source  \n",
       "253980       Census        2005      2005              UNSD  \n",
       "168731       Survey        2011      2011  DHS_STATcompiler  "
      ]
     },
     "execution_count": 66,
     "metadata": {},
     "output_type": "execute_result"
    }
   ],
   "source": [
    "marriage_df.sample(2)"
   ]
  },
  {
   "cell_type": "code",
   "execution_count": 71,
   "id": "16412a2d-58b8-4b4f-986e-fd9ffa14e73a",
   "metadata": {},
   "outputs": [
    {
     "data": {
      "text/plain": [
       "marital_status\n",
       "Widowed                                          57002\n",
       "Married                                          53955\n",
       "Divorced                                         51269\n",
       "Single                                           48472\n",
       "Separated                                        17766\n",
       "Consensual union                                 11279\n",
       "Never married                                    10429\n",
       "Divorced or Separated                             4886\n",
       "Living together                                   4536\n",
       "Not living together                               4335\n",
       "Married or in consensual union                    2314\n",
       "Married or married but separated                  1520\n",
       "Married or Living together                         892\n",
       "Currently not married                              607\n",
       "Ever married                                       509\n",
       "Widowed or divorced                                290\n",
       "Consensual union, not living together              265\n",
       "Not in union                                       249\n",
       "Married, in consensual unions or separated         196\n",
       "Registred partnership                              175\n",
       "Divorced or Separated or Widowed                   133\n",
       "Visiting partner                                   104\n",
       "Widowed, divorced or separated                      59\n",
       "Married monogamous                                  50\n",
       "Married polygamous                                  49\n",
       "Currently not married nor in consensual union       46\n",
       "Separated from consensual union                     37\n",
       "Divorced or Widowed                                 31\n",
       "Single or in consensual unions                      28\n",
       "Separated from marriage                             27\n",
       "Married spouse absent                               24\n",
       "Married spouse present                              24\n",
       "Marriage contract                                   20\n",
       "Married gaunna not performed                        14\n",
       "Widowed or separated                                12\n",
       "Name: count, dtype: int64"
      ]
     },
     "execution_count": 71,
     "metadata": {},
     "output_type": "execute_result"
    }
   ],
   "source": [
    "marriage_df['marital_status'].value_counts()"
   ]
  },
  {
   "cell_type": "code",
   "execution_count": 74,
   "id": "4c1262c7-67f7-462c-92aa-cc87e6c6d114",
   "metadata": {},
   "outputs": [
    {
     "data": {
      "text/plain": [
       "country\n",
       "Norway                      6585\n",
       "Hungary                     6110\n",
       "Iceland                     5823\n",
       "Sweden                      5700\n",
       "Denmark                     5581\n",
       "Netherlands                 5340\n",
       "Canada                      5302\n",
       "Finland                     5261\n",
       "United States of America    4040\n",
       "France                      3944\n",
       "Greenland                   3731\n",
       "Switzerland                 3634\n",
       "San Marino                  3471\n",
       "Israel                      3213\n",
       "Costa Rica                  3166\n",
       "Liechtenstein               3155\n",
       "Czechia                     2939\n",
       "Italy                       2658\n",
       "Senegal                     2541\n",
       "Slovenia                    2521\n",
       "Name: count, dtype: int64"
      ]
     },
     "execution_count": 74,
     "metadata": {},
     "output_type": "execute_result"
    }
   ],
   "source": [
    "marriage_df['country'].value_counts().head(20)"
   ]
  },
  {
   "cell_type": "code",
   "execution_count": 88,
   "id": "f11fccfb-7bca-4ec9-bc68-013ca2cee3d6",
   "metadata": {},
   "outputs": [],
   "source": [
    "#marriage_df[marriage_df['start_year']==1974]\n",
    "\n",
    "divorced = marriage_df['marital_status'] == 'Divorced'"
   ]
  },
  {
   "cell_type": "code",
   "execution_count": 91,
   "id": "1a1bb572-de70-4bd2-a012-09f25c547dcc",
   "metadata": {},
   "outputs": [
    {
     "data": {
      "text/plain": [
       "country\n",
       "Hungary        1398\n",
       "Sweden         1351\n",
       "Denmark        1305\n",
       "Norway         1265\n",
       "Netherlands    1260\n",
       "Finland        1224\n",
       "Canada         1104\n",
       "Iceland        1084\n",
       "France          945\n",
       "Greenland       890\n",
       "Name: count, dtype: int64"
      ]
     },
     "execution_count": 91,
     "metadata": {},
     "output_type": "execute_result"
    }
   ],
   "source": [
    "marriage_df[divorced]['country'].value_counts().head(10)"
   ]
  },
  {
   "cell_type": "code",
   "execution_count": 97,
   "id": "332c218b-5d63-4841-bdcb-f057e51d0caf",
   "metadata": {},
   "outputs": [
    {
     "ename": "OptionError",
     "evalue": "\"No such keys(s): 'mode.use_inf_as_null'\"",
     "output_type": "error",
     "traceback": [
      "\u001b[1;31m---------------------------------------------------------------------------\u001b[0m",
      "\u001b[1;31mOptionError\u001b[0m                               Traceback (most recent call last)",
      "Input \u001b[1;32mIn [97]\u001b[0m, in \u001b[0;36m<cell line: 1>\u001b[1;34m()\u001b[0m\n\u001b[1;32m----> 1\u001b[0m \u001b[43msns\u001b[49m\u001b[38;5;241;43m.\u001b[39;49m\u001b[43mpairplot\u001b[49m\u001b[43m(\u001b[49m\u001b[43mmarriage_df\u001b[49m\u001b[43m,\u001b[49m\u001b[43m \u001b[49m\u001b[43mhue\u001b[49m\u001b[38;5;241;43m=\u001b[39;49m\u001b[38;5;124;43m'\u001b[39;49m\u001b[38;5;124;43msex\u001b[39;49m\u001b[38;5;124;43m'\u001b[39;49m\u001b[43m,\u001b[49m\u001b[43m \u001b[49m\u001b[43mpalette\u001b[49m\u001b[38;5;241;43m=\u001b[39;49m\u001b[38;5;124;43m'\u001b[39;49m\u001b[38;5;124;43mcoolwarm\u001b[39;49m\u001b[38;5;124;43m'\u001b[39;49m\u001b[43m,\u001b[49m\u001b[43m \u001b[49m\u001b[43mmarkers\u001b[49m\u001b[38;5;241;43m=\u001b[39;49m\u001b[43m[\u001b[49m\u001b[38;5;124;43m\"\u001b[39;49m\u001b[38;5;124;43mo\u001b[39;49m\u001b[38;5;124;43m\"\u001b[39;49m\u001b[43m,\u001b[49m\u001b[43m \u001b[49m\u001b[38;5;124;43m\"\u001b[39;49m\u001b[38;5;124;43ms\u001b[39;49m\u001b[38;5;124;43m\"\u001b[39;49m\u001b[43m]\u001b[49m\u001b[43m)\u001b[49m\n\u001b[0;32m      2\u001b[0m plt\u001b[38;5;241m.\u001b[39mshow()\n",
      "File \u001b[1;32m~\\anaconda3\\envs\\data_eng\\lib\\site-packages\\seaborn\\_decorators.py:46\u001b[0m, in \u001b[0;36m_deprecate_positional_args.<locals>.inner_f\u001b[1;34m(*args, **kwargs)\u001b[0m\n\u001b[0;32m     36\u001b[0m     warnings\u001b[38;5;241m.\u001b[39mwarn(\n\u001b[0;32m     37\u001b[0m         \u001b[38;5;124m\"\u001b[39m\u001b[38;5;124mPass the following variable\u001b[39m\u001b[38;5;132;01m{}\u001b[39;00m\u001b[38;5;124m as \u001b[39m\u001b[38;5;132;01m{}\u001b[39;00m\u001b[38;5;124mkeyword arg\u001b[39m\u001b[38;5;132;01m{}\u001b[39;00m\u001b[38;5;124m: \u001b[39m\u001b[38;5;132;01m{}\u001b[39;00m\u001b[38;5;124m. \u001b[39m\u001b[38;5;124m\"\u001b[39m\n\u001b[0;32m     38\u001b[0m         \u001b[38;5;124m\"\u001b[39m\u001b[38;5;124mFrom version 0.12, the only valid positional argument \u001b[39m\u001b[38;5;124m\"\u001b[39m\n\u001b[1;32m   (...)\u001b[0m\n\u001b[0;32m     43\u001b[0m         \u001b[38;5;167;01mFutureWarning\u001b[39;00m\n\u001b[0;32m     44\u001b[0m     )\n\u001b[0;32m     45\u001b[0m kwargs\u001b[38;5;241m.\u001b[39mupdate({k: arg \u001b[38;5;28;01mfor\u001b[39;00m k, arg \u001b[38;5;129;01min\u001b[39;00m \u001b[38;5;28mzip\u001b[39m(sig\u001b[38;5;241m.\u001b[39mparameters, args)})\n\u001b[1;32m---> 46\u001b[0m \u001b[38;5;28;01mreturn\u001b[39;00m \u001b[43mf\u001b[49m\u001b[43m(\u001b[49m\u001b[38;5;241;43m*\u001b[39;49m\u001b[38;5;241;43m*\u001b[39;49m\u001b[43mkwargs\u001b[49m\u001b[43m)\u001b[49m\n",
      "File \u001b[1;32m~\\anaconda3\\envs\\data_eng\\lib\\site-packages\\seaborn\\axisgrid.py:2130\u001b[0m, in \u001b[0;36mpairplot\u001b[1;34m(data, hue, hue_order, palette, vars, x_vars, y_vars, kind, diag_kind, markers, height, aspect, corner, dropna, plot_kws, diag_kws, grid_kws, size)\u001b[0m\n\u001b[0;32m   2128\u001b[0m     diag_kws\u001b[38;5;241m.\u001b[39msetdefault(\u001b[38;5;124m\"\u001b[39m\u001b[38;5;124mfill\u001b[39m\u001b[38;5;124m\"\u001b[39m, \u001b[38;5;28;01mTrue\u001b[39;00m)\n\u001b[0;32m   2129\u001b[0m     diag_kws\u001b[38;5;241m.\u001b[39msetdefault(\u001b[38;5;124m\"\u001b[39m\u001b[38;5;124mwarn_singular\u001b[39m\u001b[38;5;124m\"\u001b[39m, \u001b[38;5;28;01mFalse\u001b[39;00m)\n\u001b[1;32m-> 2130\u001b[0m     \u001b[43mgrid\u001b[49m\u001b[38;5;241;43m.\u001b[39;49m\u001b[43mmap_diag\u001b[49m\u001b[43m(\u001b[49m\u001b[43mkdeplot\u001b[49m\u001b[43m,\u001b[49m\u001b[43m \u001b[49m\u001b[38;5;241;43m*\u001b[39;49m\u001b[38;5;241;43m*\u001b[39;49m\u001b[43mdiag_kws\u001b[49m\u001b[43m)\u001b[49m\n\u001b[0;32m   2132\u001b[0m \u001b[38;5;66;03m# Maybe plot on the off-diagonals\u001b[39;00m\n\u001b[0;32m   2133\u001b[0m \u001b[38;5;28;01mif\u001b[39;00m diag_kind \u001b[38;5;129;01mis\u001b[39;00m \u001b[38;5;129;01mnot\u001b[39;00m \u001b[38;5;28;01mNone\u001b[39;00m:\n",
      "File \u001b[1;32m~\\anaconda3\\envs\\data_eng\\lib\\site-packages\\seaborn\\axisgrid.py:1478\u001b[0m, in \u001b[0;36mPairGrid.map_diag\u001b[1;34m(self, func, **kwargs)\u001b[0m\n\u001b[0;32m   1476\u001b[0m     plot_kwargs\u001b[38;5;241m.\u001b[39msetdefault(\u001b[38;5;124m\"\u001b[39m\u001b[38;5;124mhue_order\u001b[39m\u001b[38;5;124m\"\u001b[39m, \u001b[38;5;28mself\u001b[39m\u001b[38;5;241m.\u001b[39m_hue_order)\n\u001b[0;32m   1477\u001b[0m     plot_kwargs\u001b[38;5;241m.\u001b[39msetdefault(\u001b[38;5;124m\"\u001b[39m\u001b[38;5;124mpalette\u001b[39m\u001b[38;5;124m\"\u001b[39m, \u001b[38;5;28mself\u001b[39m\u001b[38;5;241m.\u001b[39m_orig_palette)\n\u001b[1;32m-> 1478\u001b[0m     \u001b[43mfunc\u001b[49m\u001b[43m(\u001b[49m\u001b[43mx\u001b[49m\u001b[38;5;241;43m=\u001b[39;49m\u001b[43mvector\u001b[49m\u001b[43m,\u001b[49m\u001b[43m \u001b[49m\u001b[38;5;241;43m*\u001b[39;49m\u001b[38;5;241;43m*\u001b[39;49m\u001b[43mplot_kwargs\u001b[49m\u001b[43m)\u001b[49m\n\u001b[0;32m   1479\u001b[0m     ax\u001b[38;5;241m.\u001b[39mlegend_ \u001b[38;5;241m=\u001b[39m \u001b[38;5;28;01mNone\u001b[39;00m\n\u001b[0;32m   1481\u001b[0m \u001b[38;5;28mself\u001b[39m\u001b[38;5;241m.\u001b[39m_add_axis_labels()\n",
      "File \u001b[1;32m~\\anaconda3\\envs\\data_eng\\lib\\site-packages\\seaborn\\_decorators.py:46\u001b[0m, in \u001b[0;36m_deprecate_positional_args.<locals>.inner_f\u001b[1;34m(*args, **kwargs)\u001b[0m\n\u001b[0;32m     36\u001b[0m     warnings\u001b[38;5;241m.\u001b[39mwarn(\n\u001b[0;32m     37\u001b[0m         \u001b[38;5;124m\"\u001b[39m\u001b[38;5;124mPass the following variable\u001b[39m\u001b[38;5;132;01m{}\u001b[39;00m\u001b[38;5;124m as \u001b[39m\u001b[38;5;132;01m{}\u001b[39;00m\u001b[38;5;124mkeyword arg\u001b[39m\u001b[38;5;132;01m{}\u001b[39;00m\u001b[38;5;124m: \u001b[39m\u001b[38;5;132;01m{}\u001b[39;00m\u001b[38;5;124m. \u001b[39m\u001b[38;5;124m\"\u001b[39m\n\u001b[0;32m     38\u001b[0m         \u001b[38;5;124m\"\u001b[39m\u001b[38;5;124mFrom version 0.12, the only valid positional argument \u001b[39m\u001b[38;5;124m\"\u001b[39m\n\u001b[1;32m   (...)\u001b[0m\n\u001b[0;32m     43\u001b[0m         \u001b[38;5;167;01mFutureWarning\u001b[39;00m\n\u001b[0;32m     44\u001b[0m     )\n\u001b[0;32m     45\u001b[0m kwargs\u001b[38;5;241m.\u001b[39mupdate({k: arg \u001b[38;5;28;01mfor\u001b[39;00m k, arg \u001b[38;5;129;01min\u001b[39;00m \u001b[38;5;28mzip\u001b[39m(sig\u001b[38;5;241m.\u001b[39mparameters, args)})\n\u001b[1;32m---> 46\u001b[0m \u001b[38;5;28;01mreturn\u001b[39;00m \u001b[43mf\u001b[49m\u001b[43m(\u001b[49m\u001b[38;5;241;43m*\u001b[39;49m\u001b[38;5;241;43m*\u001b[39;49m\u001b[43mkwargs\u001b[49m\u001b[43m)\u001b[49m\n",
      "File \u001b[1;32m~\\anaconda3\\envs\\data_eng\\lib\\site-packages\\seaborn\\distributions.py:1770\u001b[0m, in \u001b[0;36mkdeplot\u001b[1;34m(x, y, shade, vertical, kernel, bw, gridsize, cut, clip, legend, cumulative, shade_lowest, cbar, cbar_ax, cbar_kws, ax, weights, hue, palette, hue_order, hue_norm, multiple, common_norm, common_grid, levels, thresh, bw_method, bw_adjust, log_scale, color, fill, data, data2, warn_singular, **kwargs)\u001b[0m\n\u001b[0;32m   1767\u001b[0m     \u001b[38;5;28;01mif\u001b[39;00m color \u001b[38;5;129;01mis\u001b[39;00m \u001b[38;5;129;01mnot\u001b[39;00m \u001b[38;5;28;01mNone\u001b[39;00m:\n\u001b[0;32m   1768\u001b[0m         plot_kws[\u001b[38;5;124m\"\u001b[39m\u001b[38;5;124mcolor\u001b[39m\u001b[38;5;124m\"\u001b[39m] \u001b[38;5;241m=\u001b[39m color\n\u001b[1;32m-> 1770\u001b[0m     \u001b[43mp\u001b[49m\u001b[38;5;241;43m.\u001b[39;49m\u001b[43mplot_univariate_density\u001b[49m\u001b[43m(\u001b[49m\n\u001b[0;32m   1771\u001b[0m \u001b[43m        \u001b[49m\u001b[43mmultiple\u001b[49m\u001b[38;5;241;43m=\u001b[39;49m\u001b[43mmultiple\u001b[49m\u001b[43m,\u001b[49m\n\u001b[0;32m   1772\u001b[0m \u001b[43m        \u001b[49m\u001b[43mcommon_norm\u001b[49m\u001b[38;5;241;43m=\u001b[39;49m\u001b[43mcommon_norm\u001b[49m\u001b[43m,\u001b[49m\n\u001b[0;32m   1773\u001b[0m \u001b[43m        \u001b[49m\u001b[43mcommon_grid\u001b[49m\u001b[38;5;241;43m=\u001b[39;49m\u001b[43mcommon_grid\u001b[49m\u001b[43m,\u001b[49m\n\u001b[0;32m   1774\u001b[0m \u001b[43m        \u001b[49m\u001b[43mfill\u001b[49m\u001b[38;5;241;43m=\u001b[39;49m\u001b[43mfill\u001b[49m\u001b[43m,\u001b[49m\n\u001b[0;32m   1775\u001b[0m \u001b[43m        \u001b[49m\u001b[43mlegend\u001b[49m\u001b[38;5;241;43m=\u001b[39;49m\u001b[43mlegend\u001b[49m\u001b[43m,\u001b[49m\n\u001b[0;32m   1776\u001b[0m \u001b[43m        \u001b[49m\u001b[43mwarn_singular\u001b[49m\u001b[38;5;241;43m=\u001b[39;49m\u001b[43mwarn_singular\u001b[49m\u001b[43m,\u001b[49m\n\u001b[0;32m   1777\u001b[0m \u001b[43m        \u001b[49m\u001b[43mestimate_kws\u001b[49m\u001b[38;5;241;43m=\u001b[39;49m\u001b[43mestimate_kws\u001b[49m\u001b[43m,\u001b[49m\n\u001b[0;32m   1778\u001b[0m \u001b[43m        \u001b[49m\u001b[38;5;241;43m*\u001b[39;49m\u001b[38;5;241;43m*\u001b[39;49m\u001b[43mplot_kws\u001b[49m\u001b[43m,\u001b[49m\n\u001b[0;32m   1779\u001b[0m \u001b[43m    \u001b[49m\u001b[43m)\u001b[49m\n\u001b[0;32m   1781\u001b[0m \u001b[38;5;28;01melse\u001b[39;00m:\n\u001b[0;32m   1783\u001b[0m     p\u001b[38;5;241m.\u001b[39mplot_bivariate_density(\n\u001b[0;32m   1784\u001b[0m         common_norm\u001b[38;5;241m=\u001b[39mcommon_norm,\n\u001b[0;32m   1785\u001b[0m         fill\u001b[38;5;241m=\u001b[39mfill,\n\u001b[1;32m   (...)\u001b[0m\n\u001b[0;32m   1795\u001b[0m         \u001b[38;5;241m*\u001b[39m\u001b[38;5;241m*\u001b[39mkwargs,\n\u001b[0;32m   1796\u001b[0m     )\n",
      "File \u001b[1;32m~\\anaconda3\\envs\\data_eng\\lib\\site-packages\\seaborn\\distributions.py:928\u001b[0m, in \u001b[0;36m_DistributionPlotter.plot_univariate_density\u001b[1;34m(self, multiple, common_norm, common_grid, warn_singular, fill, legend, estimate_kws, **plot_kws)\u001b[0m\n\u001b[0;32m    925\u001b[0m log_scale \u001b[38;5;241m=\u001b[39m \u001b[38;5;28mself\u001b[39m\u001b[38;5;241m.\u001b[39m_log_scaled(\u001b[38;5;28mself\u001b[39m\u001b[38;5;241m.\u001b[39mdata_variable)\n\u001b[0;32m    927\u001b[0m \u001b[38;5;66;03m# Do the computation\u001b[39;00m\n\u001b[1;32m--> 928\u001b[0m densities \u001b[38;5;241m=\u001b[39m \u001b[38;5;28;43mself\u001b[39;49m\u001b[38;5;241;43m.\u001b[39;49m\u001b[43m_compute_univariate_density\u001b[49m\u001b[43m(\u001b[49m\n\u001b[0;32m    929\u001b[0m \u001b[43m    \u001b[49m\u001b[38;5;28;43mself\u001b[39;49m\u001b[38;5;241;43m.\u001b[39;49m\u001b[43mdata_variable\u001b[49m\u001b[43m,\u001b[49m\n\u001b[0;32m    930\u001b[0m \u001b[43m    \u001b[49m\u001b[43mcommon_norm\u001b[49m\u001b[43m,\u001b[49m\n\u001b[0;32m    931\u001b[0m \u001b[43m    \u001b[49m\u001b[43mcommon_grid\u001b[49m\u001b[43m,\u001b[49m\n\u001b[0;32m    932\u001b[0m \u001b[43m    \u001b[49m\u001b[43mestimate_kws\u001b[49m\u001b[43m,\u001b[49m\n\u001b[0;32m    933\u001b[0m \u001b[43m    \u001b[49m\u001b[43mlog_scale\u001b[49m\u001b[43m,\u001b[49m\n\u001b[0;32m    934\u001b[0m \u001b[43m    \u001b[49m\u001b[43mwarn_singular\u001b[49m\u001b[43m,\u001b[49m\n\u001b[0;32m    935\u001b[0m \u001b[43m\u001b[49m\u001b[43m)\u001b[49m\n\u001b[0;32m    937\u001b[0m \u001b[38;5;66;03m# Adjust densities based on the `multiple` rule\u001b[39;00m\n\u001b[0;32m    938\u001b[0m densities, baselines \u001b[38;5;241m=\u001b[39m \u001b[38;5;28mself\u001b[39m\u001b[38;5;241m.\u001b[39m_resolve_multiple(densities, multiple)\n",
      "File \u001b[1;32m~\\anaconda3\\envs\\data_eng\\lib\\site-packages\\seaborn\\distributions.py:303\u001b[0m, in \u001b[0;36m_DistributionPlotter._compute_univariate_density\u001b[1;34m(self, data_variable, common_norm, common_grid, estimate_kws, log_scale, warn_singular)\u001b[0m\n\u001b[0;32m    299\u001b[0m     common_norm \u001b[38;5;241m=\u001b[39m \u001b[38;5;28;01mFalse\u001b[39;00m\n\u001b[0;32m    301\u001b[0m densities \u001b[38;5;241m=\u001b[39m {}\n\u001b[1;32m--> 303\u001b[0m \u001b[38;5;28;01mfor\u001b[39;00m sub_vars, sub_data \u001b[38;5;129;01min\u001b[39;00m \u001b[38;5;28mself\u001b[39m\u001b[38;5;241m.\u001b[39miter_data(\u001b[38;5;124m\"\u001b[39m\u001b[38;5;124mhue\u001b[39m\u001b[38;5;124m\"\u001b[39m, from_comp_data\u001b[38;5;241m=\u001b[39m\u001b[38;5;28;01mTrue\u001b[39;00m):\n\u001b[0;32m    304\u001b[0m \n\u001b[0;32m    305\u001b[0m     \u001b[38;5;66;03m# Extract the data points from this sub set and remove nulls\u001b[39;00m\n\u001b[0;32m    306\u001b[0m     sub_data \u001b[38;5;241m=\u001b[39m sub_data\u001b[38;5;241m.\u001b[39mdropna()\n\u001b[0;32m    307\u001b[0m     observations \u001b[38;5;241m=\u001b[39m sub_data[data_variable]\n",
      "File \u001b[1;32m~\\anaconda3\\envs\\data_eng\\lib\\site-packages\\seaborn\\_core.py:983\u001b[0m, in \u001b[0;36mVectorPlotter.iter_data\u001b[1;34m(self, grouping_vars, reverse, from_comp_data)\u001b[0m\n\u001b[0;32m    978\u001b[0m grouping_vars \u001b[38;5;241m=\u001b[39m [\n\u001b[0;32m    979\u001b[0m     var \u001b[38;5;28;01mfor\u001b[39;00m var \u001b[38;5;129;01min\u001b[39;00m grouping_vars \u001b[38;5;28;01mif\u001b[39;00m var \u001b[38;5;129;01min\u001b[39;00m \u001b[38;5;28mself\u001b[39m\u001b[38;5;241m.\u001b[39mvariables\n\u001b[0;32m    980\u001b[0m ]\n\u001b[0;32m    982\u001b[0m \u001b[38;5;28;01mif\u001b[39;00m from_comp_data:\n\u001b[1;32m--> 983\u001b[0m     data \u001b[38;5;241m=\u001b[39m \u001b[38;5;28;43mself\u001b[39;49m\u001b[38;5;241;43m.\u001b[39;49m\u001b[43mcomp_data\u001b[49m\n\u001b[0;32m    984\u001b[0m \u001b[38;5;28;01melse\u001b[39;00m:\n\u001b[0;32m    985\u001b[0m     data \u001b[38;5;241m=\u001b[39m \u001b[38;5;28mself\u001b[39m\u001b[38;5;241m.\u001b[39mplot_data\n",
      "File \u001b[1;32m~\\anaconda3\\envs\\data_eng\\lib\\site-packages\\seaborn\\_core.py:1054\u001b[0m, in \u001b[0;36mVectorPlotter.comp_data\u001b[1;34m(self)\u001b[0m\n\u001b[0;32m   1050\u001b[0m axis \u001b[38;5;241m=\u001b[39m \u001b[38;5;28mgetattr\u001b[39m(ax, \u001b[38;5;124mf\u001b[39m\u001b[38;5;124m\"\u001b[39m\u001b[38;5;132;01m{\u001b[39;00mvar\u001b[38;5;132;01m}\u001b[39;00m\u001b[38;5;124maxis\u001b[39m\u001b[38;5;124m\"\u001b[39m)\n\u001b[0;32m   1052\u001b[0m \u001b[38;5;66;03m# Use the converter assigned to the axis to get a float representation\u001b[39;00m\n\u001b[0;32m   1053\u001b[0m \u001b[38;5;66;03m# of the data, passing np.nan or pd.NA through (pd.NA becomes np.nan)\u001b[39;00m\n\u001b[1;32m-> 1054\u001b[0m \u001b[38;5;28;01mwith\u001b[39;00m pd\u001b[38;5;241m.\u001b[39moption_context(\u001b[38;5;124m'\u001b[39m\u001b[38;5;124mmode.use_inf_as_null\u001b[39m\u001b[38;5;124m'\u001b[39m, \u001b[38;5;28;01mTrue\u001b[39;00m):\n\u001b[0;32m   1055\u001b[0m     orig \u001b[38;5;241m=\u001b[39m \u001b[38;5;28mself\u001b[39m\u001b[38;5;241m.\u001b[39mplot_data[var]\u001b[38;5;241m.\u001b[39mdropna()\n\u001b[0;32m   1056\u001b[0m comp_col \u001b[38;5;241m=\u001b[39m pd\u001b[38;5;241m.\u001b[39mSeries(index\u001b[38;5;241m=\u001b[39morig\u001b[38;5;241m.\u001b[39mindex, dtype\u001b[38;5;241m=\u001b[39m\u001b[38;5;28mfloat\u001b[39m, name\u001b[38;5;241m=\u001b[39mvar)\n",
      "File \u001b[1;32m~\\anaconda3\\envs\\data_eng\\lib\\site-packages\\pandas\\_config\\config.py:441\u001b[0m, in \u001b[0;36moption_context.__enter__\u001b[1;34m(self)\u001b[0m\n\u001b[0;32m    440\u001b[0m \u001b[38;5;28;01mdef\u001b[39;00m \u001b[38;5;21m__enter__\u001b[39m(\u001b[38;5;28mself\u001b[39m) \u001b[38;5;241m-\u001b[39m\u001b[38;5;241m>\u001b[39m \u001b[38;5;28;01mNone\u001b[39;00m:\n\u001b[1;32m--> 441\u001b[0m     \u001b[38;5;28mself\u001b[39m\u001b[38;5;241m.\u001b[39mundo \u001b[38;5;241m=\u001b[39m [(pat, _get_option(pat, silent\u001b[38;5;241m=\u001b[39m\u001b[38;5;28;01mTrue\u001b[39;00m)) \u001b[38;5;28;01mfor\u001b[39;00m pat, val \u001b[38;5;129;01min\u001b[39;00m \u001b[38;5;28mself\u001b[39m\u001b[38;5;241m.\u001b[39mops]\n\u001b[0;32m    443\u001b[0m     \u001b[38;5;28;01mfor\u001b[39;00m pat, val \u001b[38;5;129;01min\u001b[39;00m \u001b[38;5;28mself\u001b[39m\u001b[38;5;241m.\u001b[39mops:\n\u001b[0;32m    444\u001b[0m         _set_option(pat, val, silent\u001b[38;5;241m=\u001b[39m\u001b[38;5;28;01mTrue\u001b[39;00m)\n",
      "File \u001b[1;32m~\\anaconda3\\envs\\data_eng\\lib\\site-packages\\pandas\\_config\\config.py:441\u001b[0m, in \u001b[0;36m<listcomp>\u001b[1;34m(.0)\u001b[0m\n\u001b[0;32m    440\u001b[0m \u001b[38;5;28;01mdef\u001b[39;00m \u001b[38;5;21m__enter__\u001b[39m(\u001b[38;5;28mself\u001b[39m) \u001b[38;5;241m-\u001b[39m\u001b[38;5;241m>\u001b[39m \u001b[38;5;28;01mNone\u001b[39;00m:\n\u001b[1;32m--> 441\u001b[0m     \u001b[38;5;28mself\u001b[39m\u001b[38;5;241m.\u001b[39mundo \u001b[38;5;241m=\u001b[39m [(pat, \u001b[43m_get_option\u001b[49m\u001b[43m(\u001b[49m\u001b[43mpat\u001b[49m\u001b[43m,\u001b[49m\u001b[43m \u001b[49m\u001b[43msilent\u001b[49m\u001b[38;5;241;43m=\u001b[39;49m\u001b[38;5;28;43;01mTrue\u001b[39;49;00m\u001b[43m)\u001b[49m) \u001b[38;5;28;01mfor\u001b[39;00m pat, val \u001b[38;5;129;01min\u001b[39;00m \u001b[38;5;28mself\u001b[39m\u001b[38;5;241m.\u001b[39mops]\n\u001b[0;32m    443\u001b[0m     \u001b[38;5;28;01mfor\u001b[39;00m pat, val \u001b[38;5;129;01min\u001b[39;00m \u001b[38;5;28mself\u001b[39m\u001b[38;5;241m.\u001b[39mops:\n\u001b[0;32m    444\u001b[0m         _set_option(pat, val, silent\u001b[38;5;241m=\u001b[39m\u001b[38;5;28;01mTrue\u001b[39;00m)\n",
      "File \u001b[1;32m~\\anaconda3\\envs\\data_eng\\lib\\site-packages\\pandas\\_config\\config.py:135\u001b[0m, in \u001b[0;36m_get_option\u001b[1;34m(pat, silent)\u001b[0m\n\u001b[0;32m    134\u001b[0m \u001b[38;5;28;01mdef\u001b[39;00m \u001b[38;5;21m_get_option\u001b[39m(pat: \u001b[38;5;28mstr\u001b[39m, silent: \u001b[38;5;28mbool\u001b[39m \u001b[38;5;241m=\u001b[39m \u001b[38;5;28;01mFalse\u001b[39;00m) \u001b[38;5;241m-\u001b[39m\u001b[38;5;241m>\u001b[39m Any:\n\u001b[1;32m--> 135\u001b[0m     key \u001b[38;5;241m=\u001b[39m \u001b[43m_get_single_key\u001b[49m\u001b[43m(\u001b[49m\u001b[43mpat\u001b[49m\u001b[43m,\u001b[49m\u001b[43m \u001b[49m\u001b[43msilent\u001b[49m\u001b[43m)\u001b[49m\n\u001b[0;32m    137\u001b[0m     \u001b[38;5;66;03m# walk the nested dict\u001b[39;00m\n\u001b[0;32m    138\u001b[0m     root, k \u001b[38;5;241m=\u001b[39m _get_root(key)\n",
      "File \u001b[1;32m~\\anaconda3\\envs\\data_eng\\lib\\site-packages\\pandas\\_config\\config.py:121\u001b[0m, in \u001b[0;36m_get_single_key\u001b[1;34m(pat, silent)\u001b[0m\n\u001b[0;32m    119\u001b[0m     \u001b[38;5;28;01mif\u001b[39;00m \u001b[38;5;129;01mnot\u001b[39;00m silent:\n\u001b[0;32m    120\u001b[0m         _warn_if_deprecated(pat)\n\u001b[1;32m--> 121\u001b[0m     \u001b[38;5;28;01mraise\u001b[39;00m OptionError(\u001b[38;5;124mf\u001b[39m\u001b[38;5;124m\"\u001b[39m\u001b[38;5;124mNo such keys(s): \u001b[39m\u001b[38;5;132;01m{\u001b[39;00m\u001b[38;5;28mrepr\u001b[39m(pat)\u001b[38;5;132;01m}\u001b[39;00m\u001b[38;5;124m\"\u001b[39m)\n\u001b[0;32m    122\u001b[0m \u001b[38;5;28;01mif\u001b[39;00m \u001b[38;5;28mlen\u001b[39m(keys) \u001b[38;5;241m>\u001b[39m \u001b[38;5;241m1\u001b[39m:\n\u001b[0;32m    123\u001b[0m     \u001b[38;5;28;01mraise\u001b[39;00m OptionError(\u001b[38;5;124m\"\u001b[39m\u001b[38;5;124mPattern matched multiple keys\u001b[39m\u001b[38;5;124m\"\u001b[39m)\n",
      "\u001b[1;31mOptionError\u001b[0m: \"No such keys(s): 'mode.use_inf_as_null'\""
     ]
    },
    {
     "data": {
      "image/png": "[encoded data removed]",
      "text/plain": [
       "<Figure size 540x540 with 12 Axes>"
      ]
     },
     "metadata": {
      "needs_background": "light"
     },
     "output_type": "display_data"
    }
   ],
   "source": [
    "sns.pairplot(marriage_df, hue='sex', palette='coolwarm', markers=[\"o\", \"s\"])\n",
    "plt.show()"
   ]
  },
  {
   "cell_type": "code",
   "execution_count": null,
   "id": "b31c822d-15bb-4325-ace8-a8d1529ea81d",
   "metadata": {},
   "outputs": [],
   "source": [
    "!pip uninstall pandas seaborn matplotlib\n",
    "!pip install seaborn"
   ]
  },
  {
   "cell_type": "code",
   "execution_count": null,
   "id": "f8df5660-364e-4831-a543-e5d66bb851a8",
   "metadata": {},
   "outputs": [],
   "source": []
  }
 ],
 "metadata": {
  "kernelspec": {
   "display_name": "Python [conda env:data_eng]",
   "language": "python",
   "name": "conda-env-data_eng-py"
  },
  "language_info": {
   "codemirror_mode": {
    "name": "ipython",
    "version": 3
   },
   "file_extension": ".py",
   "mimetype": "text/x-python",
   "name": "python",
   "nbconvert_exporter": "python",
   "pygments_lexer": "ipython3",
   "version": "3.8.13"
  }
 },
 "nbformat": 4,
 "nbformat_minor": 5
}
