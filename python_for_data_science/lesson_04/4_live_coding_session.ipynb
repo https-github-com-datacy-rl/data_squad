{
 "cells": [
  {
   "cell_type": "code",
   "execution_count": null,
   "id": "b66d7090-983b-4af5-ab92-ec81586fe51b",
   "metadata": {},
   "outputs": [],
   "source": []
  }
 ],
 "metadata": {
  "kernelspec": {
   "display_name": "Python [conda env:data_eng]",
   "language": "python",
   "name": "conda-env-data_eng-py"
  },
  "language_info": {
   "codemirror_mode": {
    "name": "ipython",
    "version": 3
   },
   "file_extension": ".py",
   "mimetype": "text/x-python",
   "name": "python",
   "nbconvert_exporter": "python",
   "pygments_lexer": "ipython3",
   "version": "3.8.13"
  }
 },
 "nbformat": 4,
 "nbformat_minor": 5
}
