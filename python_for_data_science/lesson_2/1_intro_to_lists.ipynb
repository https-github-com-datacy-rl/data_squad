{
 "cells": [
  {
   "cell_type": "markdown",
   "id": "6a110745-010a-47c5-b769-96230538d879",
   "metadata": {},
   "source": [
    "# Introduction to Functions, List, Dictionaries, and Loops"
   ]
  },
  {
   "cell_type": "markdown",
   "id": "089b90a0-9c6b-4dcf-90ff-258bbee75071",
   "metadata": {},
   "source": [
    "An introduction to functions, lists, dictionaries, and loops in Python will provide you with the fundamental building blocks for writing effective and efficient code. Let's dive into each of these concepts:"
   ]
  },
  {
   "cell_type": "markdown",
   "id": "80dcf168-d90e-47ee-bdff-25222ace43c4",
   "metadata": {},
   "source": [
    "## Functions\n",
    "Functions are a way to organize and reuse code. They are defined using the def keyword, take parameters, and can return values."
   ]
  },
  {
   "cell_type": "code",
   "execution_count": 1,
   "id": "00c57017-297c-4f91-88f4-d354badb9b02",
   "metadata": {},
   "outputs": [
    {
     "name": "stdout",
     "output_type": "stream",
     "text": [
      "Hello, Alice!\n"
     ]
    }
   ],
   "source": [
    "# Define a function\n",
    "def greet(name):\n",
    "    return \"Hello, \" + name + \"!\"\n",
    "\n",
    "# Call the function\n",
    "print(greet(\"Alice\"))  # Output: Hello, Alice!"
   ]
  },
  {
   "cell_type": "markdown",
   "id": "d12cd68b-62e5-4736-87b7-cc2a9d5215cc",
   "metadata": {},
   "source": [
    "Functions can have default parameter values, and you can pass named arguments to them.\n",
    "\n",
    "## Lists\n",
    "Lists are ordered, mutable collections of items (which can be of different types). Lists are defined by square brackets []."
   ]
  },
  {
   "cell_type": "code",
   "execution_count": 2,
   "id": "2d1adbd7-fea7-4371-983b-92a776d03fa9",
   "metadata": {},
   "outputs": [
    {
     "name": "stdout",
     "output_type": "stream",
     "text": [
      "banana\n",
      "blackberry\n",
      "cherry\n",
      "orange\n"
     ]
    }
   ],
   "source": [
    "# Define a list\n",
    "fruits = [\"apple\", \"banana\", \"cherry\"]\n",
    "\n",
    "# Access elements\n",
    "print(fruits[1])  # Output: banana\n",
    "\n",
    "# Modify elements\n",
    "fruits[1] = \"blackberry\"\n",
    "\n",
    "# Add elements\n",
    "fruits.append(\"orange\")\n",
    "\n",
    "# Remove elements\n",
    "fruits.remove(\"apple\")\n",
    "\n",
    "# Iterate over a list\n",
    "for fruit in fruits:\n",
    "    print(fruit)"
   ]
  },
  {
   "cell_type": "markdown",
   "id": "2e842155-2d7c-4ba6-8426-9b1f0320cf22",
   "metadata": {},
   "source": [
    "Lists are very versatile and have a variety of built-in methods for manipulation.\n",
    "\n",
    "## Dictionaries\n",
    "Dictionaries are unordered, mutable collections of key-value pairs. They are defined by curly braces {}."
   ]
  },
  {
   "cell_type": "code",
   "execution_count": 3,
   "id": "69c99bbf-214a-40c8-93a7-e2d956dbc62e",
   "metadata": {},
   "outputs": [
    {
     "name": "stdout",
     "output_type": "stream",
     "text": [
      "John\n",
      "name John\n",
      "age 28\n",
      "gender male\n"
     ]
    }
   ],
   "source": [
    "# Define a dictionary\n",
    "person = {\n",
    "    \"name\": \"John\",\n",
    "    \"age\": 30,\n",
    "    \"city\": \"New York\"\n",
    "}\n",
    "\n",
    "# Access values\n",
    "print(person[\"name\"])  # Output: John\n",
    "\n",
    "# Modify values\n",
    "person[\"age\"] = 28\n",
    "\n",
    "# Add new key-value pairs\n",
    "person[\"gender\"] = \"male\"\n",
    "\n",
    "# Remove key-value pairs\n",
    "del person[\"city\"]\n",
    "\n",
    "# Iterate over a dictionary\n",
    "for key, value in person.items():\n",
    "    print(key, value)"
   ]
  },
  {
   "cell_type": "markdown",
   "id": "0a088d43-6bb1-41dd-9ee9-6fce39a24cab",
   "metadata": {},
   "source": [
    "Dictionaries are particularly useful for representing complex data structures.\n",
    "\n",
    "## Loops\n",
    "Loops are used to repeat a block of code multiple times.\n",
    "\n",
    "### For Loops\n",
    "Used for iterating over a sequence (like a list, tuple, dictionary, set, or string)."
   ]
  },
  {
   "cell_type": "code",
   "execution_count": 4,
   "id": "70ed7a94-86ce-4a4c-9867-201dc982fde1",
   "metadata": {},
   "outputs": [
    {
     "name": "stdout",
     "output_type": "stream",
     "text": [
      "apple\n",
      "banana\n",
      "cherry\n",
      "0\n",
      "1\n",
      "2\n",
      "3\n",
      "4\n"
     ]
    }
   ],
   "source": [
    "# Iterate over a list\n",
    "for fruit in [\"apple\", \"banana\", \"cherry\"]:\n",
    "    print(fruit)\n",
    "\n",
    "# Iterate over a range of numbers\n",
    "for i in range(5):\n",
    "    print(i)  # Output: 0, 1, 2, 3, 4"
   ]
  },
  {
   "cell_type": "markdown",
   "id": "ab5639d9-965c-4475-a266-570f6a0be967",
   "metadata": {},
   "source": [
    "### While Loops\n",
    "Repeat as long as a certain boolean condition is met."
   ]
  },
  {
   "cell_type": "code",
   "execution_count": 5,
   "id": "97de45dd-def5-47a9-9cef-00bc3a6d4834",
   "metadata": {},
   "outputs": [
    {
     "name": "stdout",
     "output_type": "stream",
     "text": [
      "0\n",
      "1\n",
      "2\n",
      "3\n",
      "4\n"
     ]
    }
   ],
   "source": [
    "# Iterate using a while loop\n",
    "count = 0\n",
    "while count < 5:\n",
    "    print(count)\n",
    "    count += 1"
   ]
  },
  {
   "cell_type": "markdown",
   "id": "a4c6dd26-2055-46e7-bad4-5dab8e5e2b85",
   "metadata": {},
   "source": [
    "Loops can be controlled further using break (to exit the loop) and continue (to skip the current iteration and continue with the next).\n",
    "\n",
    "Understanding and using these structures effectively can greatly enhance the efficiency and readability of your code. Each of these concepts comes with a variety of built-in methods and functionalities, which you can explore further as you get more comfortable with Python."
   ]
  },
  {
   "cell_type": "code",
   "execution_count": null,
   "id": "bd3bbc86-41c0-4c5f-bb29-046900653173",
   "metadata": {},
   "outputs": [],
   "source": []
  }
 ],
 "metadata": {
  "kernelspec": {
   "display_name": "Python [conda env:data_eng]",
   "language": "python",
   "name": "conda-env-data_eng-py"
  },
  "language_info": {
   "codemirror_mode": {
    "name": "ipython",
    "version": 3
   },
   "file_extension": ".py",
   "mimetype": "text/x-python",
   "name": "python",
   "nbconvert_exporter": "python",
   "pygments_lexer": "ipython3",
   "version": "3.8.13"
  }
 },
 "nbformat": 4,
 "nbformat_minor": 5
}
