{
 "cells": [
  {
   "cell_type": "markdown",
   "id": "376814f5-561a-482b-9b72-6b98e91e2367",
   "metadata": {},
   "source": [
    "# Dictionaries"
   ]
  },
  {
   "cell_type": "markdown",
   "id": "1b0d3041-e937-4783-b93b-d72326298751",
   "metadata": {},
   "source": [
    "Dictionaries in Python are unordered collections of items. While other compound data types have only value as an element, a dictionary has a key-value pair. Dictionaries are optimized to retrieve values when the key is known. \n",
    "Here's an in-depth look at dictionaries."
   ]
  },
  {
   "cell_type": "markdown",
   "id": "104c11fb-8dc4-44f9-85db-fae7a204df55",
   "metadata": {},
   "source": [
    "## Creating Dictionaries\n",
    "Dictionaries are created by placing a comma-separated sequence of key-value pairs within curly braces `{}`, with a colon `:` separating the keys and values."
   ]
  },
  {
   "cell_type": "code",
   "execution_count": 1,
   "id": "f1417200-b41b-42b7-a972-efa7802e14c0",
   "metadata": {},
   "outputs": [],
   "source": [
    "my_dict = {\n",
    "    \"name\": \"John\",\n",
    "    \"age\": 30,\n",
    "    \"city\": \"New York\"\n",
    "}"
   ]
  },
  {
   "cell_type": "markdown",
   "id": "87b5760e-3563-4a86-aac9-fd6e84d8d73f",
   "metadata": {},
   "source": [
    "## Accessing Elements\n",
    "You can access the items of a dictionary by referring to its key name."
   ]
  },
  {
   "cell_type": "code",
   "execution_count": 2,
   "id": "358e3e08-ed2f-492b-a393-3c59c2dcb5f9",
   "metadata": {},
   "outputs": [
    {
     "name": "stdout",
     "output_type": "stream",
     "text": [
      "John\n"
     ]
    }
   ],
   "source": [
    "print(my_dict[\"name\"])  # Output: John"
   ]
  },
  {
   "cell_type": "markdown",
   "id": "95471a0f-7064-40c3-b667-7690d99d066e",
   "metadata": {},
   "source": [
    "Using the get() method provides the same result and is considered a safer method for accessing values."
   ]
  },
  {
   "cell_type": "code",
   "execution_count": 3,
   "id": "9f57e259-f247-43b2-9c14-48ac14ca7ceb",
   "metadata": {},
   "outputs": [
    {
     "name": "stdout",
     "output_type": "stream",
     "text": [
      "John\n"
     ]
    }
   ],
   "source": [
    "print(my_dict.get(\"name\"))  # Output: John"
   ]
  },
  {
   "cell_type": "markdown",
   "id": "4fea3c0c-d429-4520-8fea-454eba46f059",
   "metadata": {},
   "source": [
    "## Modifying Dictionaries\n",
    "Dictionaries are mutable, so you can add new key-value pairs or change the value of existing pairs."
   ]
  },
  {
   "cell_type": "code",
   "execution_count": 4,
   "id": "c16e1ea9-15bc-46ff-a5eb-d74d954207af",
   "metadata": {},
   "outputs": [],
   "source": [
    "# Adding a new key-value pair\n",
    "my_dict[\"email\"] = \"john@example.com\"\n",
    "\n",
    "# Updating existing value\n",
    "my_dict[\"age\"] = 25"
   ]
  },
  {
   "cell_type": "markdown",
   "id": "b76a23f3-714a-4256-8a26-28f0a3d6b250",
   "metadata": {},
   "source": [
    "## Removing Elements\n",
    "You can remove items from a dictionary using the `pop()` method, the `popitem()` method, or the `del` keyword."
   ]
  },
  {
   "cell_type": "code",
   "execution_count": 5,
   "id": "14181ade-13db-451b-9467-4de25704295b",
   "metadata": {},
   "outputs": [],
   "source": [
    "# Remove a specific item\n",
    "my_dict.pop(\"age\")\n",
    "\n",
    "# Remove the last inserted item\n",
    "my_dict.popitem()\n",
    "\n",
    "# Remove an item using del\n",
    "del my_dict[\"name\"]\n",
    "\n",
    "# Clear the entire dictionary\n",
    "my_dict.clear()"
   ]
  },
  {
   "cell_type": "markdown",
   "id": "0d0904e1-e864-4d0a-9f5c-f287af2fa5c2",
   "metadata": {},
   "source": [
    "## Iterating Through Dictionaries\n",
    "You can iterate through a dictionary by using a `for` loop."
   ]
  },
  {
   "cell_type": "code",
   "execution_count": 6,
   "id": "88dcdf64-59ac-49ef-bb23-860682318e88",
   "metadata": {},
   "outputs": [],
   "source": [
    "for key in my_dict:\n",
    "    print(key, my_dict[key])\n",
    "\n",
    "# Output: \n",
    "# name John\n",
    "# age 30\n",
    "# city New York"
   ]
  },
  {
   "cell_type": "markdown",
   "id": "f7b7961e-2798-4599-b120-b62e28a5baf0",
   "metadata": {},
   "source": [
    "Using the `items()` method, you can iterate through both keys and values."
   ]
  },
  {
   "cell_type": "code",
   "execution_count": 7,
   "id": "4a1e750b-969d-438b-889b-c4bb37ead6e5",
   "metadata": {},
   "outputs": [],
   "source": [
    "for key, value in my_dict.items():\n",
    "    print(key, value)\n",
    "\n",
    "# Output: \n",
    "# name John\n",
    "# age 30\n",
    "# city New York"
   ]
  },
  {
   "cell_type": "markdown",
   "id": "d1406716-bae6-4324-8f8e-37fc7463c767",
   "metadata": {},
   "source": [
    "## Checking if Key Exists\n",
    "To determine if a specified key is present in a dictionary, you can use the `in` keyword."
   ]
  },
  {
   "cell_type": "code",
   "execution_count": 8,
   "id": "d634528d-2058-4a47-9524-e68501388bdc",
   "metadata": {},
   "outputs": [],
   "source": [
    "if \"name\" in my_dict:\n",
    "    print(\"Name is one of the keys in my_dict\")"
   ]
  },
  {
   "cell_type": "markdown",
   "id": "bd5bdf88-51af-4226-8212-40dac6360802",
   "metadata": {},
   "source": [
    "## Dictionary Length\n",
    "To determine how many key-value pairs a dictionary has, use the `len() `function."
   ]
  },
  {
   "cell_type": "code",
   "execution_count": 9,
   "id": "becda1b3-e3f7-4132-9864-c2325ec29d9b",
   "metadata": {},
   "outputs": [
    {
     "name": "stdout",
     "output_type": "stream",
     "text": [
      "0\n"
     ]
    }
   ],
   "source": [
    "print(len(my_dict))  # Output: Number of key-value pairs in my_dict"
   ]
  },
  {
   "cell_type": "markdown",
   "id": "e6bc18db-0f32-4c00-b658-4b103f63d516",
   "metadata": {},
   "source": [
    "## Nested Dictionaries\n",
    "A dictionary can contain dictionaries, this is called nested dictionaries."
   ]
  },
  {
   "cell_type": "code",
   "execution_count": 10,
   "id": "fe7e3d33-9a0d-42d4-a311-368811936474",
   "metadata": {},
   "outputs": [],
   "source": [
    "my_family = {\n",
    "    \"child1\": {\n",
    "        \"name\": \"Emily\",\n",
    "        \"year\": 2004\n",
    "    },\n",
    "    \"child2\": {\n",
    "        \"name\": \"Tobias\",\n",
    "        \"year\": 2007\n",
    "    },\n",
    "    \"child3\": {\n",
    "        \"name\": \"Linus\",\n",
    "        \"year\": 2011\n",
    "    }\n",
    "}"
   ]
  },
  {
   "cell_type": "markdown",
   "id": "382fb59e-2912-454b-9e0b-6ad6750065a8",
   "metadata": {},
   "source": [
    "Dictionaries in Python are a powerful data type and are widely used due to their efficiency and flexibility. Understanding how to properly manipulate and use dictionaries is crucial for any Python programmer."
   ]
  },
  {
   "cell_type": "code",
   "execution_count": null,
   "id": "8315214f-750d-4bd6-9d5b-e6ac21847b5e",
   "metadata": {},
   "outputs": [],
   "source": []
  }
 ],
 "metadata": {
  "kernelspec": {
   "display_name": "Python [conda env:data_eng]",
   "language": "python",
   "name": "conda-env-data_eng-py"
  },
  "language_info": {
   "codemirror_mode": {
    "name": "ipython",
    "version": 3
   },
   "file_extension": ".py",
   "mimetype": "text/x-python",
   "name": "python",
   "nbconvert_exporter": "python",
   "pygments_lexer": "ipython3",
   "version": "3.8.13"
  }
 },
 "nbformat": 4,
 "nbformat_minor": 5
}
