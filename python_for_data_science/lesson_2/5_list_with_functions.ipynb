{
 "cells": [
  {
   "cell_type": "markdown",
   "id": "bf817a6a-f8e3-4a83-805f-ff463a3d3024",
   "metadata": {},
   "source": [
    "# Integrating lists with functions"
   ]
  },
  {
   "cell_type": "markdown",
   "id": "61ce1413-6d3e-4c33-ad9f-e213dc9958d2",
   "metadata": {},
   "source": [
    "Integrating lists with functions in Python allows you to create more modular, reusable, and organized code. Functions can accept lists as parameters, operate on them, and return lists. Here are various ways you can integrate lists with functions:\n",
    "\n",
    "## Passing Lists as Arguments\n",
    "You can pass a list to a function just like any other argument."
   ]
  },
  {
   "cell_type": "code",
   "execution_count": 1,
   "id": "6c0a431f-9c68-49dd-8fdc-d40e0103b4a7",
   "metadata": {},
   "outputs": [
    {
     "name": "stdout",
     "output_type": "stream",
     "text": [
      "apple\n",
      "banana\n",
      "cherry\n"
     ]
    }
   ],
   "source": [
    "def print_fruits(fruits):\n",
    "    for fruit in fruits:\n",
    "        print(fruit)\n",
    "\n",
    "fruit_list = [\"apple\", \"banana\", \"cherry\"]\n",
    "print_fruits(fruit_list)"
   ]
  },
  {
   "cell_type": "markdown",
   "id": "f52200fa-ebf4-4d31-817e-53b0f317b697",
   "metadata": {},
   "source": [
    "## Modifying Lists in Functions\n",
    "Functions have the ability to modify the list arguments they receive."
   ]
  },
  {
   "cell_type": "code",
   "execution_count": 2,
   "id": "e11afe63-1467-4f12-b8b3-2c1107148032",
   "metadata": {},
   "outputs": [
    {
     "name": "stdout",
     "output_type": "stream",
     "text": [
      "['apple', 'banana', 'cherry']\n"
     ]
    }
   ],
   "source": [
    "def add_fruit(fruits, fruit):\n",
    "    fruits.append(fruit)\n",
    "\n",
    "fruits = [\"apple\", \"banana\"]\n",
    "add_fruit(fruits, \"cherry\")\n",
    "print(fruits)  # Output: ['apple', 'banana', 'cherry']"
   ]
  },
  {
   "cell_type": "markdown",
   "id": "2ce83bd7-fd5a-4caf-9ede-f7326e40b6c1",
   "metadata": {},
   "source": [
    "However, it's important to note that this modifies the list in-place, potentially affecting other parts of your program that use the list.\n",
    "\n",
    "## Returning Lists from Functions\n",
    "Functions can generate and return lists."
   ]
  },
  {
   "cell_type": "code",
   "execution_count": 3,
   "id": "f3224f1f-e900-42e6-b10e-18d6d6edc3d5",
   "metadata": {},
   "outputs": [
    {
     "name": "stdout",
     "output_type": "stream",
     "text": [
      "[0, 2, 4, 6, 8]\n"
     ]
    }
   ],
   "source": [
    "def get_even_numbers(n):\n",
    "    even_numbers = [i for i in range(n) if i % 2 == 0]\n",
    "    return even_numbers\n",
    "\n",
    "even_numbers_up_to_10 = get_even_numbers(10)\n",
    "print(even_numbers_up_to_10)  # Output: [0, 2, 4, 6, 8]"
   ]
  },
  {
   "cell_type": "markdown",
   "id": "9ab2a9a7-6455-428f-8f6f-bb29200da92e",
   "metadata": {},
   "source": [
    "## Working with Nested Lists\n",
    "You can also work with functions that handle nested lists (`a list of lists`)."
   ]
  },
  {
   "cell_type": "code",
   "execution_count": 4,
   "id": "f2c7b12f-0497-4e11-a030-e92d0c957c40",
   "metadata": {},
   "outputs": [
    {
     "name": "stdout",
     "output_type": "stream",
     "text": [
      "1 2 3 \n",
      "4 5 6 \n",
      "7 8 9 \n"
     ]
    }
   ],
   "source": [
    "def print_matrix(matrix):\n",
    "    for row in matrix:\n",
    "        for item in row:\n",
    "            print(item, end=' ')\n",
    "        print()  # for a new line\n",
    "\n",
    "matrix = [\n",
    "    [1, 2, 3],\n",
    "    [4, 5, 6],\n",
    "    [7, 8, 9]\n",
    "]\n",
    "\n",
    "print_matrix(matrix)"
   ]
  },
  {
   "cell_type": "markdown",
   "id": "ea1e7c5e-1aed-473f-852d-266347e6a6e0",
   "metadata": {},
   "source": [
    "## List Comprehensions with Functions\n",
    "List comprehensions can be used to create new lists by applying a function to each item in the list."
   ]
  },
  {
   "cell_type": "code",
   "execution_count": 5,
   "id": "e3c7570e-9172-43b4-a387-bb5bbe549b36",
   "metadata": {},
   "outputs": [
    {
     "name": "stdout",
     "output_type": "stream",
     "text": [
      "[1, 4, 9, 16, 25]\n"
     ]
    }
   ],
   "source": [
    "def square(x):\n",
    "    return x * x\n",
    "\n",
    "numbers = [1, 2, 3, 4, 5]\n",
    "squared_numbers = [square(x) for x in numbers]\n",
    "print(squared_numbers)  # Output: [1, 4, 9, 16, 25]"
   ]
  },
  {
   "cell_type": "markdown",
   "id": "0c6b9662-ae04-45e4-823e-fdf3b962176e",
   "metadata": {},
   "source": [
    "## Using map() Function\n",
    "The `map()` function allows you to apply a function to every item of an iterable `(like a list)` and returns a map object `(which is an iterator)`."
   ]
  },
  {
   "cell_type": "code",
   "execution_count": 6,
   "id": "cbac2eaf-c9c6-4584-bf9b-09c001dd1cef",
   "metadata": {},
   "outputs": [
    {
     "name": "stdout",
     "output_type": "stream",
     "text": [
      "[1, 4, 9, 16, 25]\n"
     ]
    }
   ],
   "source": [
    "numbers = [1, 2, 3, 4, 5]\n",
    "squared_numbers = map(square, numbers)\n",
    "print(list(squared_numbers))  # Output: [1, 4, 9, 16, 25]"
   ]
  },
  {
   "cell_type": "markdown",
   "id": "d95e59a3-dcc1-4378-90a6-c3d1a2d11019",
   "metadata": {},
   "source": [
    "Integrating lists with functions can significantly enhance the flexibility and power of your Python code. It allows for clean, elegant, and efficient data processing, especially when dealing with collections of items."
   ]
  },
  {
   "cell_type": "code",
   "execution_count": null,
   "id": "356a0e4d-a92b-4277-aa8e-519ddc5a988f",
   "metadata": {},
   "outputs": [],
   "source": []
  }
 ],
 "metadata": {
  "kernelspec": {
   "display_name": "Python [conda env:data_eng]",
   "language": "python",
   "name": "conda-env-data_eng-py"
  },
  "language_info": {
   "codemirror_mode": {
    "name": "ipython",
    "version": 3
   },
   "file_extension": ".py",
   "mimetype": "text/x-python",
   "name": "python",
   "nbconvert_exporter": "python",
   "pygments_lexer": "ipython3",
   "version": "3.8.13"
  }
 },
 "nbformat": 4,
 "nbformat_minor": 5
}
