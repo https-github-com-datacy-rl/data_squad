{
 "cells": [
  {
   "cell_type": "markdown",
   "id": "a5cd20d1-24ae-44cf-b9e8-61c9b0e05ad7",
   "metadata": {},
   "source": [
    "# Conditional Statements"
   ]
  },
  {
   "cell_type": "markdown",
   "id": "cb8d2c03-de04-4476-868b-5a800d972530",
   "metadata": {},
   "source": [
    "Conditional statements in Python allow you to execute certain pieces of code depending on the condition or conditions being true or false. \n",
    "\n",
    "Python supports the usual conditional statements."
   ]
  },
  {
   "cell_type": "markdown",
   "id": "4dcfbad2-61cb-423f-a0ea-f3bc25a225ca",
   "metadata": {},
   "source": [
    "## 1. If Statement\n",
    "An `if` statement is used to test an expression for truth and execute some code if the expression is true."
   ]
  },
  {
   "cell_type": "code",
   "execution_count": 2,
   "id": "e52ad092-426f-48dd-ac85-52e59d1b5847",
   "metadata": {},
   "outputs": [
    {
     "name": "stdout",
     "output_type": "stream",
     "text": [
      "x is greater than 5\n"
     ]
    }
   ],
   "source": [
    "x = 1\n",
    "if x > 5:\n",
    "    print(\"x is greater than 5\")  # This will be executed if x > 5"
   ]
  },
  {
   "cell_type": "markdown",
   "id": "cf7b7546-fbc7-4948-a158-4cc2697023ce",
   "metadata": {},
   "source": [
    "## 2. If-Else Statement\n",
    "An `if-else` statement is used to execute one block of code if the condition is true, and another block if it is false."
   ]
  },
  {
   "cell_type": "code",
   "execution_count": 4,
   "id": "17404ade-d69e-4d32-a7d4-9f8bf3d7abf7",
   "metadata": {},
   "outputs": [
    {
     "name": "stdout",
     "output_type": "stream",
     "text": [
      "x is greater than 5\n"
     ]
    }
   ],
   "source": [
    "x = 8\n",
    "if x > 5:\n",
    "    print(\"x is greater than 5\")\n",
    "else:\n",
    "    print(\"x is not greater than 5\")  # This will be executed if x <= 5"
   ]
  },
  {
   "cell_type": "markdown",
   "id": "ab92ca89-1074-4aa6-8b15-69e77042bb44",
   "metadata": {},
   "source": [
    "## 3. Elif (Else If)\n",
    "The `elif` statement allows you to check multiple conditions. It must be used after an `if` statement and before an `else` statement. The conditions are checked in the order they appear. Once a true condition is found, the block of code under it is executed, and the rest of the `elif` blocks are bypassed."
   ]
  },
  {
   "cell_type": "code",
   "execution_count": 4,
   "id": "b9272214-2d9d-4c9b-b87c-4475b23e2846",
   "metadata": {},
   "outputs": [
    {
     "name": "stdout",
     "output_type": "stream",
     "text": [
      "x is 5 or less\n"
     ]
    }
   ],
   "source": [
    "x = 5\n",
    "if x > 10:\n",
    "    print(\"x is greater than 10\")\n",
    "elif x > 5:\n",
    "    print(\"x is greater than 5 but less than or equal to 10\")\n",
    "else:\n",
    "    print(\"x is 5 or less\")"
   ]
  },
  {
   "cell_type": "markdown",
   "id": "4aabe4fc-159a-42e0-b7a1-5b3a5c3347e9",
   "metadata": {},
   "source": [
    "## 4. Nested If Statements\n",
    "You can also nest if statements within each other."
   ]
  },
  {
   "cell_type": "code",
   "execution_count": 11,
   "id": "cc486078-5464-4c78-b82a-695f4e43ebcd",
   "metadata": {},
   "outputs": [
    {
     "name": "stdout",
     "output_type": "stream",
     "text": [
      "Above ten,\n",
      "but not above 20.\n"
     ]
    }
   ],
   "source": [
    "x = 18\n",
    "if x > 10:\n",
    "    print(\"Above ten,\")\n",
    "    \n",
    "    if x < 15:\n",
    "        print(\"but less than 15!\")\n",
    "        \n",
    "    elif x < 18: \n",
    "        print(\"but less than 18!\")\n",
    "        \n",
    "    else:\n",
    "        print(\"but not above 20.\")        \n",
    "\n",
    "else:\n",
    "    print(\"Less than 10\")"
   ]
  },
  {
   "cell_type": "markdown",
   "id": "c778e06a-5ba3-49c7-8b58-8af0c3375af7",
   "metadata": {},
   "source": [
    "## 5. Short Hand If\n",
    "If you have only one statement to execute, you can put it on the same line as the `if` statement."
   ]
  },
  {
   "cell_type": "code",
   "execution_count": 5,
   "id": "9eeb267c-cf39-462c-81ac-5502341b230d",
   "metadata": {},
   "outputs": [
    {
     "name": "stdout",
     "output_type": "stream",
     "text": [
      "x is greater than 10\n"
     ]
    }
   ],
   "source": [
    "if x > 10: \n",
    "    print(\"x is greater than 10\")"
   ]
  },
  {
   "cell_type": "markdown",
   "id": "59b058bd-ff2b-442c-ac6f-7d42949f5439",
   "metadata": {},
   "source": [
    "## 6. Short Hand If-Else\n",
    "This can be used to write the `if-else` statements in a single line. This is often referred to as the ternary operator."
   ]
  },
  {
   "cell_type": "code",
   "execution_count": 6,
   "id": "0f86ae50-fe0d-4430-a460-302ff050f823",
   "metadata": {},
   "outputs": [
    {
     "name": "stdout",
     "output_type": "stream",
     "text": [
      "x is greater than 5\n"
     ]
    }
   ],
   "source": [
    "print(\"x is greater than 5\") if x > 5 else print(\"x is 5 or less\")"
   ]
  },
  {
   "cell_type": "markdown",
   "id": "adf88162-6dad-4b17-b292-c77dd1389e86",
   "metadata": {},
   "source": [
    "## 7. Multiple Conditions\n",
    "You can combine multiple conditions using the logical operators `and` and `or`."
   ]
  },
  {
   "cell_type": "code",
   "execution_count": 7,
   "id": "22d6f9fd-3d32-4687-ac0a-2c7f5da55e1a",
   "metadata": {},
   "outputs": [
    {
     "name": "stdout",
     "output_type": "stream",
     "text": [
      "At least one of x or y is greater than 5\n"
     ]
    }
   ],
   "source": [
    "x = 5\n",
    "y = 10\n",
    "if x > 5 and y > 5:\n",
    "    print(\"Both x and y are greater than 5\")\n",
    "if x > 5 or y > 5:\n",
    "    print(\"At least one of x or y is greater than 5\")"
   ]
  },
  {
   "cell_type": "markdown",
   "id": "497dcac8-72c6-4b0f-b001-e1868fb050ba",
   "metadata": {},
   "source": [
    "Python's conditional statements add a powerful decision-making capability to your programs. Understanding and using them effectively can lead to more dynamic and responsive Python scripts."
   ]
  },
  {
   "cell_type": "code",
   "execution_count": null,
   "id": "f7881984-fd08-4038-a994-e85d15b074d9",
   "metadata": {},
   "outputs": [],
   "source": []
  }
 ],
 "metadata": {
  "kernelspec": {
   "display_name": "Python [conda env:data_eng]",
   "language": "python",
   "name": "conda-env-data_eng-py"
  },
  "language_info": {
   "codemirror_mode": {
    "name": "ipython",
    "version": 3
   },
   "file_extension": ".py",
   "mimetype": "text/x-python",
   "name": "python",
   "nbconvert_exporter": "python",
   "pygments_lexer": "ipython3",
   "version": "3.8.13"
  }
 },
 "nbformat": 4,
 "nbformat_minor": 5
}
