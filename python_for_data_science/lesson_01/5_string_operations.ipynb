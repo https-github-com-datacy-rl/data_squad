{
 "cells": [
  {
   "cell_type": "markdown",
   "id": "6ceb50ad-83cc-4542-aff0-62745b639c54",
   "metadata": {},
   "source": [
    "# String Operations in Real Data"
   ]
  },
  {
   "cell_type": "markdown",
   "id": "ceb6c450-a216-4ea6-aec8-647359b9a5a4",
   "metadata": {},
   "source": [
    "Working with real data often involves cleaning, parsing, and transforming strings to make the data useful for analysis or other tasks. \n",
    "Here are some common string operations and manipulations you might perform on real-world data using Python.\n",
    "\n",
    "## 1. Cleaning Strings\n",
    "Data from real-world sources can often be messy. Cleaning might involve removing unnecessary whitespace, converting case, or stripping unwanted characters."
   ]
  },
  {
   "cell_type": "code",
   "execution_count": 1,
   "id": "f76d917d-1922-42f3-a0fa-a6b0ecee09ea",
   "metadata": {},
   "outputs": [
    {
     "name": "stdout",
     "output_type": "stream",
     "text": [
      "Data Science\n",
      "python programming\n"
     ]
    }
   ],
   "source": [
    "# Example: Clean leading and trailing spaces\n",
    "data = \"   Data Science   \"\n",
    "clean_data = data.strip()\n",
    "print(clean_data)  # Output: 'Data Science'\n",
    "\n",
    "# Convert to lower case\n",
    "data = \"Python Programming\"\n",
    "clean_data = data.lower()\n",
    "print(clean_data)  # Output: 'python programming'"
   ]
  },
  {
   "cell_type": "markdown",
   "id": "0efd8453-f17f-4d3c-85ff-ca0028fbdf2a",
   "metadata": {},
   "source": [
    "## 2. Splitting Strings\n",
    "You might want to split a string into a list of substrings based on a delimiter, which is especially common when dealing with CSV data or log files."
   ]
  },
  {
   "cell_type": "code",
   "execution_count": 5,
   "id": "1abdcfcc-e4ea-425c-a4a4-e25905583f19",
   "metadata": {},
   "outputs": [
    {
     "name": "stdout",
     "output_type": "stream",
     "text": [
      "['John', 'Doe', '25', 'New York']\n"
     ]
    }
   ],
   "source": [
    "# Example: Splitting a CSV string\n",
    "data = \"John,Doe,25,New York\"\n",
    "split_data = data.split(',')\n",
    "print(split_data)  # Output: ['John', 'Doe', '25', 'New York']"
   ]
  },
  {
   "cell_type": "markdown",
   "id": "e23ab21e-3065-4bdf-988c-ecfa58eb9ced",
   "metadata": {},
   "source": [
    "## 3. Joining Strings\n",
    "The opposite of splitting, where you might want to combine a list of strings into a single string with a specific separator."
   ]
  },
  {
   "cell_type": "code",
   "execution_count": 3,
   "id": "52bb71d1-8792-426b-9549-1d3cbbac93b9",
   "metadata": {},
   "outputs": [
    {
     "name": "stdout",
     "output_type": "stream",
     "text": [
      "John,Doe,25,New York\n"
     ]
    }
   ],
   "source": [
    "# Example: Joining a list of strings\n",
    "data_list = ['John', 'Doe', '25', 'New York']\n",
    "data_string = ','.join(data_list)\n",
    "print(data_string)  # Output: 'John,Doe,25,New York'"
   ]
  },
  {
   "cell_type": "markdown",
   "id": "4543787e-23d1-4c3f-8a6a-d665802e16b6",
   "metadata": {},
   "source": [
    "## 4. Replacing Substrings\n",
    "Replace parts of the string with another string. This is useful for data normalization."
   ]
  },
  {
   "cell_type": "code",
   "execution_count": 6,
   "id": "0c1cbdcf-30c7-4c26-8911-69dbccf0b9e0",
   "metadata": {},
   "outputs": [
    {
     "name": "stdout",
     "output_type": "stream",
     "text": [
      "Hello Python\n"
     ]
    }
   ],
   "source": [
    "# Example: Replacing in strings\n",
    "data = \"Hello World\"\n",
    "replaced_data = data.replace(\"World\", \"Python\")\n",
    "print(replaced_data)  # Output: 'Hello Python'"
   ]
  },
  {
   "cell_type": "markdown",
   "id": "6539531d-86e9-406a-a747-5bcb2d60df7f",
   "metadata": {},
   "source": [
    "## 5. Regular Expressions\n",
    "For complex string operations, Python’s built-in re module can be used for string searching and manipulation using regular expressions."
   ]
  },
  {
   "cell_type": "code",
   "execution_count": 8,
   "id": "967c79b6-f659-4879-a7e9-9f652154167e",
   "metadata": {},
   "outputs": [
    {
     "name": "stdout",
     "output_type": "stream",
     "text": [
      "['ai', 'ai']\n",
      "The9rain9in9Spain\n"
     ]
    }
   ],
   "source": [
    "import re\n",
    "\n",
    "data = \"The rain in Spain\"\n",
    "x = re.findall(\"ai\", data)\n",
    "print(x)  # Output: ['ai', 'ai']\n",
    "\n",
    "# Replace all white-space characters with the digit \"9\":\n",
    "replaced_data = re.sub(\"\\s\", \"9\", data)\n",
    "print(replaced_data)  # Output: 'The9rain9in9Spain'"
   ]
  },
  {
   "cell_type": "markdown",
   "id": "bae518c9-1974-4ba1-b015-abe9e65dd0f6",
   "metadata": {},
   "source": [
    "## 6. Extracting Substrings\n",
    "Extract specific portions of strings using slicing or regex, especially when the data follows a specific pattern."
   ]
  },
  {
   "cell_type": "code",
   "execution_count": 11,
   "id": "85f02bf2-21bb-4792-8757-2125907c60c0",
   "metadata": {},
   "outputs": [
    {
     "name": "stdout",
     "output_type": "stream",
     "text": [
      "12345\n",
      "12345\n"
     ]
    }
   ],
   "source": [
    "# Slicing\n",
    "data = \"CustomerID: 12345\"\n",
    "customer_id = data[12:]\n",
    "print(customer_id)  # Output: '12345'\n",
    "\n",
    "# Regex\n",
    "match = re.search(r'\\d+', data)\n",
    "if match:\n",
    "    print(match.group())  # Output: '12345'"
   ]
  },
  {
   "cell_type": "markdown",
   "id": "9f095b6b-a4a0-472a-94dc-f5ed20abeb1b",
   "metadata": {},
   "source": [
    "## 7. Handling Unicode Characters\n",
    "Real-world data often contains non-ASCII characters, especially if it’s multilingual. Python 3 supports Unicode out of the box."
   ]
  },
  {
   "cell_type": "code",
   "execution_count": 7,
   "id": "57f0ad3f-b683-4e8a-af96-8bf8f26aa8a3",
   "metadata": {},
   "outputs": [
    {
     "name": "stdout",
     "output_type": "stream",
     "text": [
      "b'caf\\xc3\\xa9'\n",
      "café\n"
     ]
    }
   ],
   "source": [
    "data = \"café\"\n",
    "# Encoding\n",
    "encoded_data = data.encode('utf-8')\n",
    "print(encoded_data)  # Output: b'caf\\xc3\\xa9'\n",
    "\n",
    "# Decoding\n",
    "decoded_data = encoded_data.decode('utf-8')\n",
    "print(decoded_data)  # Output: 'café'"
   ]
  },
  {
   "cell_type": "markdown",
   "id": "8e33d61d-5f70-43b0-b871-9338eece295c",
   "metadata": {},
   "source": [
    "When working with real data, it's essential to be mindful of the data's structure and quality. Operations may need to be adapted or combined creatively to achieve the desired outcome, and data validation is crucial to ensure that your string manipulations lead to accurate and meaningful results."
   ]
  },
  {
   "cell_type": "code",
   "execution_count": null,
   "id": "fe20d4cf-b1af-4ef8-9a46-8f5bd5dfd384",
   "metadata": {},
   "outputs": [],
   "source": []
  }
 ],
 "metadata": {
  "kernelspec": {
   "display_name": "Python [conda env:data_eng]",
   "language": "python",
   "name": "conda-env-data_eng-py"
  },
  "language_info": {
   "codemirror_mode": {
    "name": "ipython",
    "version": 3
   },
   "file_extension": ".py",
   "mimetype": "text/x-python",
   "name": "python",
   "nbconvert_exporter": "python",
   "pygments_lexer": "ipython3",
   "version": "3.8.13"
  }
 },
 "nbformat": 4,
 "nbformat_minor": 5
}
