{
 "cells": [
  {
   "cell_type": "markdown",
   "id": "cdc6274e-bc85-4927-a729-3735b5d14375",
   "metadata": {},
   "source": [
    "# Python Syntax"
   ]
  },
  {
   "cell_type": "markdown",
   "id": "8a45eea7-37e8-47a3-90fb-22ec7a092f68",
   "metadata": {},
   "source": [
    "Python is known for its clean and readable syntax, which is often described as almost like pseudocode. Here's an overview of the basic syntax and some key concepts in Python that can be very useful for your course:"
   ]
  },
  {
   "cell_type": "markdown",
   "id": "c1dfa08a-a06e-4df0-acee-caac21ecf003",
   "metadata": {},
   "source": [
    "## 1. Comments\n",
    "Comments are used to explain the code. Single-line comments start with the hash character (#), and everything to the right of the # is ignored by the Python interpreter."
   ]
  },
  {
   "cell_type": "code",
   "execution_count": null,
   "id": "db2bc46c-4c8f-4ff1-9a84-87078fd2b4cc",
   "metadata": {},
   "outputs": [],
   "source": [
    "# This is a single-line comment"
   ]
  },
  {
   "cell_type": "markdown",
   "id": "696eeb3f-e7b7-4f8d-9bfb-a13aba68c378",
   "metadata": {},
   "source": [
    "## 2. Variables\n",
    "Python has no command for declaring a variable. A variable is created the moment you first assign a value to it."
   ]
  },
  {
   "cell_type": "code",
   "execution_count": 5,
   "id": "c1face62-d52d-415e-98d1-2fbe35a3c232",
   "metadata": {},
   "outputs": [
    {
     "name": "stdout",
     "output_type": "stream",
     "text": [
      "4\n"
     ]
    }
   ],
   "source": [
    "x = 2 \n",
    "\n",
    "y = 2 \n",
    "\n",
    "z = x + y \n",
    "\n",
    "print(z)"
   ]
  },
  {
   "cell_type": "code",
   "execution_count": 2,
   "id": "426937b1-4964-4008-9ad9-d87c272172e8",
   "metadata": {},
   "outputs": [],
   "source": [
    "x = 5\n",
    "z = 1.01\n",
    "x = '5'\n",
    "\n",
    "y = \"Hello, World!\""
   ]
  },
  {
   "cell_type": "markdown",
   "id": "866e9fbe-c9a9-4f3d-ab2c-0c2bc7aa4f63",
   "metadata": {},
   "source": [
    "## 3. Data Types\n",
    "Python has various data types including Integer, Float, String, List, Tuple, Dictionary, etc."
   ]
  },
  {
   "cell_type": "code",
   "execution_count": 3,
   "id": "4a135518-449c-440a-a2b4-c8ae1d7156a5",
   "metadata": {},
   "outputs": [],
   "source": [
    "integer_var = 100\n",
    "float_var = 10.5\n",
    "string_var = \"Hello, World!\"\n",
    "list_var = [1, 2, 3]\n",
    "tuple_var = (1, 2, 3)\n",
    "dict_var = {\"name\": \"John\", \"age\": 25}"
   ]
  },
  {
   "cell_type": "markdown",
   "id": "1aac484a-7f1d-483f-b1ec-57c8bb09d69b",
   "metadata": {},
   "source": [
    "## 4. Indentation\n",
    "Python uses indentation to indicate a block of code."
   ]
  },
  {
   "cell_type": "code",
   "execution_count": 4,
   "id": "fc5513cd-5a1a-4801-8973-f46661080d30",
   "metadata": {},
   "outputs": [
    {
     "name": "stdout",
     "output_type": "stream",
     "text": [
      "10 is greater than 5\n"
     ]
    }
   ],
   "source": [
    "if 10 > 5:\n",
    "    print(\"10 is greater than 5\")  # This line is part of the if block"
   ]
  },
  {
   "cell_type": "markdown",
   "id": "940034d2-b0bf-409a-83db-f86c862d89c5",
   "metadata": {},
   "source": [
    "## 5. If...Else\n",
    "Python supports the usual logical conditions from mathematics."
   ]
  },
  {
   "cell_type": "code",
   "execution_count": 8,
   "id": "48a23cdb-f122-4466-8ce2-27c726aaa2b2",
   "metadata": {},
   "outputs": [
    {
     "name": "stdout",
     "output_type": "stream",
     "text": [
      "a is greater than b\n"
     ]
    }
   ],
   "source": [
    "a = 2\n",
    "b = 1\n",
    "if b > a:\n",
    "    print(\"b is greater than a\")\n",
    "elif a == b:\n",
    "    print(\"a and b are equal\")\n",
    "else:\n",
    "    print(\"a is greater than b\")"
   ]
  },
  {
   "cell_type": "markdown",
   "id": "78fffdea-3a43-478d-ae12-ca09011fc86d",
   "metadata": {},
   "source": [
    "## 6. Loops\n",
    "Python has two primitive loop commands: for loops and while loops."
   ]
  },
  {
   "cell_type": "code",
   "execution_count": 9,
   "id": "4a237120-fda8-4396-9c5a-323288991dc6",
   "metadata": {},
   "outputs": [
    {
     "name": "stdout",
     "output_type": "stream",
     "text": [
      "apple\n",
      "banana\n",
      "cherry\n",
      "1\n",
      "2\n",
      "3\n",
      "4\n",
      "5\n"
     ]
    }
   ],
   "source": [
    "# For loop\n",
    "fruits = [\"apple\", \"banana\", \"cherry\"]\n",
    "for fruit in fruits:\n",
    "    print(fruit)\n",
    "\n",
    "# While loop\n",
    "i = 1\n",
    "while i < 6:\n",
    "    print(i)\n",
    "    i += 1"
   ]
  },
  {
   "cell_type": "markdown",
   "id": "b51e1c87-6a84-46f5-92c8-c084425bf568",
   "metadata": {},
   "source": [
    "## 7. Functions\n",
    "A function is a block of code that only runs when it is called. You can pass data, known as parameters, into a function."
   ]
  },
  {
   "cell_type": "code",
   "execution_count": 7,
   "id": "fc7fbe22-652b-4f4f-a940-80f23473ee68",
   "metadata": {},
   "outputs": [
    {
     "name": "stdout",
     "output_type": "stream",
     "text": [
      "I am from Sweden\n",
      "I am from Norway\n"
     ]
    }
   ],
   "source": [
    "def my_function(country = \"Norway\"):\n",
    "    print(\"I am from \" + country)\n",
    "\n",
    "my_function(\"Sweden\")\n",
    "my_function()  # This will print \"I am from Norway\"\n"
   ]
  },
  {
   "cell_type": "markdown",
   "id": "25be01c4-435f-420b-ad79-b0f1a7d07c32",
   "metadata": {},
   "source": [
    "## 8. Classes/Objects\n",
    "Python is an object-oriented language. Almost everything in Python is an object, with its properties and methods."
   ]
  },
  {
   "cell_type": "code",
   "execution_count": 8,
   "id": "9b5fdcf4-c597-45be-a42c-6aca924eece2",
   "metadata": {},
   "outputs": [
    {
     "name": "stdout",
     "output_type": "stream",
     "text": [
      "5\n"
     ]
    }
   ],
   "source": [
    "class MyClass:\n",
    "    x = 5\n",
    "\n",
    "p1 = MyClass()\n",
    "print(p1.x)"
   ]
  },
  {
   "cell_type": "markdown",
   "id": "f4ccb5ee-9988-4800-8c57-5304852936ca",
   "metadata": {},
   "source": [
    "## 9. Handling Exceptions\n",
    "You can handle exceptions using the try...except block."
   ]
  },
  {
   "cell_type": "code",
   "execution_count": 9,
   "id": "731cff67-2c5e-4229-89c4-0d70e6f3925d",
   "metadata": {},
   "outputs": [
    {
     "name": "stdout",
     "output_type": "stream",
     "text": [
      "5\n"
     ]
    }
   ],
   "source": [
    "try:\n",
    "    print(x)\n",
    "except:\n",
    "    print(\"An exception occurred\")\n"
   ]
  },
  {
   "cell_type": "markdown",
   "id": "8048f81c-b0cd-4a91-9151-ee6db77b015b",
   "metadata": {},
   "source": [
    "This basic syntax overview is a good starting point for you to understand how Python is structured and how simple it is to read and write a Python code. Once you're comfortable with the basics, you can move on to more complex topics like file handling, database interactions, threading, and web scraping, each of which leverages the basic syntax principles outlined in this notebook."
   ]
  },
  {
   "cell_type": "code",
   "execution_count": null,
   "id": "724a2c0a-0407-4578-9ebf-432e4d1ea13e",
   "metadata": {},
   "outputs": [],
   "source": []
  }
 ],
 "metadata": {
  "kernelspec": {
   "display_name": "Python [conda env:data_eng]",
   "language": "python",
   "name": "conda-env-data_eng-py"
  },
  "language_info": {
   "codemirror_mode": {
    "name": "ipython",
    "version": 3
   },
   "file_extension": ".py",
   "mimetype": "text/x-python",
   "name": "python",
   "nbconvert_exporter": "python",
   "pygments_lexer": "ipython3",
   "version": "3.8.13"
  }
 },
 "nbformat": 4,
 "nbformat_minor": 5
}
