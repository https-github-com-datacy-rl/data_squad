{
 "cells": [
  {
   "cell_type": "markdown",
   "id": "137eb49a-67ad-4050-aac9-ded6e21db203",
   "metadata": {},
   "source": [
    "# Strings and Console Output"
   ]
  },
  {
   "cell_type": "markdown",
   "id": "c65d498e-add5-4052-99df-f3a5d001490f",
   "metadata": {},
   "source": [
    "Strings are a sequence of characters used to store and manipulate text in Python. They are one of the most common data types in Python and can be created by enclosing characters within quotes (either single, double, or triple quotes)."
   ]
  },
  {
   "cell_type": "markdown",
   "id": "835284e5-c0db-4055-99fa-f9d7afb6d003",
   "metadata": {},
   "source": [
    "## Creating Strings"
   ]
  },
  {
   "cell_type": "code",
   "execution_count": 1,
   "id": "591d9e8c-21fa-47a3-b98b-4f788a54cb0b",
   "metadata": {},
   "outputs": [
    {
     "name": "stdout",
     "output_type": "stream",
     "text": [
      "Hello\n",
      "Hello\n",
      "Hello\n"
     ]
    }
   ],
   "source": [
    "my_string = 'Hello'\n",
    "print(my_string)  # Output: Hello\n",
    "\n",
    "my_string = \"Hello\"\n",
    "print(my_string)  # Output: Hello\n",
    "\n",
    "my_string = '''I want to write a long tips about my code'''\n",
    "print(my_string)  # Output: Hello"
   ]
  },
  {
   "cell_type": "markdown",
   "id": "6d3a8742-46d4-46cc-b02c-d716b7e53bf1",
   "metadata": {},
   "source": [
    "## String Operations\n",
    "1. Concatenation:\n",
    "Combine strings together."
   ]
  },
  {
   "cell_type": "code",
   "execution_count": 2,
   "id": "8ed42366-bc31-455e-996e-356bed6fca5f",
   "metadata": {},
   "outputs": [
    {
     "name": "stdout",
     "output_type": "stream",
     "text": [
      "Emmanuel Ogungbemi\n"
     ]
    }
   ],
   "source": [
    "str1 = 'Emmanuel'\n",
    "str2 = 'Ogungbemi'\n",
    "print(str1 + ' ' + str2)  # Output: Hello World"
   ]
  },
  {
   "cell_type": "markdown",
   "id": "d585d96a-cf7e-427e-a9d6-4651b0b81eb7",
   "metadata": {},
   "source": [
    "2. Repetition: Repeat strings a specified number of times."
   ]
  },
  {
   "cell_type": "code",
   "execution_count": 3,
   "id": "b5b81469-2157-4591-b0e5-52d7c6174b85",
   "metadata": {},
   "outputs": [
    {
     "name": "stdout",
     "output_type": "stream",
     "text": [
      "ABABAB\n"
     ]
    }
   ],
   "source": [
    "str = 'AB'\n",
    "print(str * 3)  # Output: ABABAB"
   ]
  },
  {
   "cell_type": "markdown",
   "id": "97953225-9c8d-4a98-af15-b7331fa6aa7e",
   "metadata": {},
   "source": [
    "3. Slicing: Extract a part of the string."
   ]
  },
  {
   "cell_type": "code",
   "execution_count": 3,
   "id": "c3258963-5bab-47db-9dc9-b287cbafc321",
   "metadata": {},
   "outputs": [
    {
     "name": "stdout",
     "output_type": "stream",
     "text": [
      "ello\n"
     ]
    }
   ],
   "source": [
    "str = 'I want to write a long tips about my code'\n",
    "print(str[1:5])  # Output: ello (Note: Index starts from 0)"
   ]
  },
  {
   "cell_type": "markdown",
   "id": "4f1b5f80-4441-4e03-ab01-2447feb9d738",
   "metadata": {},
   "source": [
    "4. String Methods: Python includes a variety of built-in methods that you can use on strings."
   ]
  },
  {
   "cell_type": "code",
   "execution_count": 2,
   "id": "5a6b9b01-88b4-49d8-96d1-c3522420e629",
   "metadata": {},
   "outputs": [
    {
     "name": "stdout",
     "output_type": "stream",
     "text": [
      "i want to write a long tips about my code\n",
      "I WANT TO WRITE A LONG TIPS ABOUT MY CODE\n",
      "I want to wrute a long tups about my code\n",
      "I want to write a long tips about my code\n",
      "I Want To Write A Long Tips About My Code\n"
     ]
    }
   ],
   "source": [
    "str = 'I want to write a long tips about my code'\n",
    "print(str.lower())  # Output: hello world\n",
    "print(str.upper())  # Output: HELLO WORLD\n",
    "print(str.replace('i', 'u'))  # Output: Jello World\n",
    "print(str.capitalize())\n",
    "print(str.title())"
   ]
  },
  {
   "cell_type": "markdown",
   "id": "496678f1-de80-488d-93c5-52d0d1c7de6a",
   "metadata": {},
   "source": [
    "## Console Output\n",
    "To display the output to the console, Python uses the print() function."
   ]
  },
  {
   "cell_type": "code",
   "execution_count": 6,
   "id": "8b808c9b-af89-4803-b440-84f187a9da45",
   "metadata": {},
   "outputs": [
    {
     "name": "stdout",
     "output_type": "stream",
     "text": [
      "4\n"
     ]
    }
   ],
   "source": [
    "print(\"Hello, World!\")"
   ]
  },
  {
   "cell_type": "markdown",
   "id": "0bec279e-9f1c-4ed0-ab92-efd60c094c53",
   "metadata": {},
   "source": [
    "You can format strings in various ways:"
   ]
  },
  {
   "cell_type": "markdown",
   "id": "d4ab126f-0e85-409d-af5c-e62e53601099",
   "metadata": {},
   "source": [
    "1. Using Comma Separators:"
   ]
  },
  {
   "cell_type": "code",
   "execution_count": 7,
   "id": "bcea73cf-3450-41b0-bd47-72c51267d230",
   "metadata": {},
   "outputs": [
    {
     "name": "stdout",
     "output_type": "stream",
     "text": [
      "John is 25 years old.\n"
     ]
    }
   ],
   "source": [
    "name = 'John'\n",
    "age = 25\n",
    "print(name, 'is', age, 'years old.')  # Output: John is 25 years old."
   ]
  },
  {
   "cell_type": "markdown",
   "id": "63ec8953-0b5d-4356-997d-5e05e5707fca",
   "metadata": {},
   "source": [
    "2. Using the format() method:"
   ]
  },
  {
   "cell_type": "code",
   "execution_count": 8,
   "id": "4d691901-3313-46cf-b629-755ba2863450",
   "metadata": {},
   "outputs": [
    {
     "name": "stdout",
     "output_type": "stream",
     "text": [
      "John is 25 years old.\n"
     ]
    }
   ],
   "source": [
    "print(\"{} is {} years old.\".format(name, age))  # Output: John is 25 years old."
   ]
  },
  {
   "cell_type": "markdown",
   "id": "350f3391-309e-45c8-82c2-2dc493a40749",
   "metadata": {},
   "source": [
    "3. Using f-Strings (Python 3.6+):"
   ]
  },
  {
   "cell_type": "code",
   "execution_count": 9,
   "id": "60f22195-15d0-4076-b72c-7530f03ee06c",
   "metadata": {},
   "outputs": [
    {
     "name": "stdout",
     "output_type": "stream",
     "text": [
      "John is 25 years old.\n"
     ]
    }
   ],
   "source": [
    "print(f\"{name} is {age} years old.\")  # Output: John is 25 years old."
   ]
  },
  {
   "cell_type": "markdown",
   "id": "3d493e3e-2d39-4bee-9c8b-9331660aab63",
   "metadata": {},
   "source": [
    "These are some of the basic operations and methods associated with strings in Python, which can be very useful for various text processing and manipulation tasks. The Python standard library provides a comprehensive set of functions to work with strings, making it a powerful tool for anyone working with text data."
   ]
  },
  {
   "cell_type": "code",
   "execution_count": null,
   "id": "9e9e8c62-ac99-49eb-9875-accb07249a65",
   "metadata": {},
   "outputs": [],
   "source": []
  }
 ],
 "metadata": {
  "kernelspec": {
   "display_name": "Python [conda env:data_eng]",
   "language": "python",
   "name": "conda-env-data_eng-py"
  },
  "language_info": {
   "codemirror_mode": {
    "name": "ipython",
    "version": 3
   },
   "file_extension": ".py",
   "mimetype": "text/x-python",
   "name": "python",
   "nbconvert_exporter": "python",
   "pygments_lexer": "ipython3",
   "version": "3.8.13"
  }
 },
 "nbformat": 4,
 "nbformat_minor": 5
}
