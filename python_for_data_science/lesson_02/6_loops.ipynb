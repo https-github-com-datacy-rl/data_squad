{
 "cells": [
  {
   "cell_type": "markdown",
   "id": "5fff0df8-0f06-470e-b418-62c00995e105",
   "metadata": {},
   "source": [
    "# Loops"
   ]
  },
  {
   "cell_type": "markdown",
   "id": "be028d30-3ed9-4a6e-bb90-383999a31ac8",
   "metadata": {},
   "source": [
    "Loops in Python are a way to repeatedly execute a block of code while a certain condition is true or for each item in a sequence. Python provides two primary types of loops: the for loop and the while loop.\n",
    "\n",
    "## 1. For Loop\n",
    "The for loop in Python is used to iterate over a sequence (like a list, tuple, dictionary, set, or string). It's commonly used when you have a block of code which you want to repeat a fixed number of times.\n",
    "\n",
    "### Basic `for` Loop"
   ]
  },
  {
   "cell_type": "code",
   "execution_count": 1,
   "id": "9bc64fd9-d09c-40e7-98ff-8debcb40af0e",
   "metadata": {},
   "outputs": [
    {
     "name": "stdout",
     "output_type": "stream",
     "text": [
      "apple\n",
      "banana\n",
      "cherry\n"
     ]
    }
   ],
   "source": [
    "fruits = [\"apple\", \"banana\", \"cherry\"]\n",
    "for fruit in fruits:\n",
    "    print(fruit)"
   ]
  },
  {
   "cell_type": "markdown",
   "id": "9bbada0b-9790-4f56-beca-8a38132fcda8",
   "metadata": {},
   "source": [
    "### Range Function\n",
    "The `range()` function is often used in for loops to generate a sequence of numbers."
   ]
  },
  {
   "cell_type": "code",
   "execution_count": 2,
   "id": "9117e151-6dfe-4232-8f1c-4733d9182b7c",
   "metadata": {},
   "outputs": [
    {
     "name": "stdout",
     "output_type": "stream",
     "text": [
      "0\n",
      "1\n",
      "2\n",
      "3\n",
      "4\n",
      "5\n"
     ]
    }
   ],
   "source": [
    "for i in range(6):\n",
    "    print(i)  # Output: 0, 1, 2, 3, 4, 5"
   ]
  },
  {
   "cell_type": "markdown",
   "id": "77cdd54b-ddd5-403e-8f38-8af821eb3cd7",
   "metadata": {},
   "source": [
    "You can specify the `start`, `stop`, and `step` size for the range."
   ]
  },
  {
   "cell_type": "code",
   "execution_count": 3,
   "id": "e020c8f2-dd45-41d0-b8fa-fbe5db2b4f40",
   "metadata": {},
   "outputs": [
    {
     "name": "stdout",
     "output_type": "stream",
     "text": [
      "2\n",
      "4\n",
      "6\n",
      "8\n"
     ]
    }
   ],
   "source": [
    "for i in range(2, 10, 2):\n",
    "    print(i)  # Output: 2, 4, 6, 8"
   ]
  },
  {
   "cell_type": "markdown",
   "id": "1c3dd4f0-e126-49db-9d32-688472479b52",
   "metadata": {},
   "source": [
    "### Looping Through a String\n",
    "Strings are iterable objects, so you can loop through the characters in a string."
   ]
  },
  {
   "cell_type": "code",
   "execution_count": 4,
   "id": "0a7c540d-dffd-4413-bd3b-ac6fbd6df07f",
   "metadata": {},
   "outputs": [
    {
     "name": "stdout",
     "output_type": "stream",
     "text": [
      "P\n",
      "y\n",
      "t\n",
      "h\n",
      "o\n",
      "n\n"
     ]
    }
   ],
   "source": [
    "for letter in \"Python\":\n",
    "    print(letter)"
   ]
  },
  {
   "cell_type": "markdown",
   "id": "fd6b7701-340d-41f9-960a-41f8db3656f7",
   "metadata": {},
   "source": [
    "### Nested Loops\n",
    "You can nest `for` loops to iterate through more complex data structures."
   ]
  },
  {
   "cell_type": "code",
   "execution_count": 5,
   "id": "c9b54fb9-bea6-4647-93c3-133f7207aed3",
   "metadata": {},
   "outputs": [
    {
     "name": "stdout",
     "output_type": "stream",
     "text": [
      "red apple\n",
      "red banana\n",
      "red cherry\n",
      "green apple\n",
      "green banana\n",
      "green cherry\n",
      "blue apple\n",
      "blue banana\n",
      "blue cherry\n"
     ]
    }
   ],
   "source": [
    "colors = [\"red\", \"green\", \"blue\"]\n",
    "fruits = [\"apple\", \"banana\", \"cherry\"]\n",
    "\n",
    "for color in colors:\n",
    "    for fruit in fruits:\n",
    "        print(color, fruit)"
   ]
  },
  {
   "cell_type": "markdown",
   "id": "4681d86d-9941-4173-9682-f0b0489ca677",
   "metadata": {},
   "source": [
    "## 2. While Loop\n",
    "The `while` loop in Python is used to repeatedly execute a block of code as long as a condition is true."
   ]
  },
  {
   "cell_type": "code",
   "execution_count": 6,
   "id": "1a13cfaa-2a13-4a98-803b-e42faa7439ea",
   "metadata": {},
   "outputs": [
    {
     "name": "stdout",
     "output_type": "stream",
     "text": [
      "1\n",
      "2\n",
      "3\n",
      "4\n",
      "5\n"
     ]
    }
   ],
   "source": [
    "i = 1\n",
    "while i < 6:\n",
    "    print(i)\n",
    "    i += 1"
   ]
  },
  {
   "cell_type": "markdown",
   "id": "3c8d6826-8abe-469c-bf3f-1f8714d1c9fe",
   "metadata": {},
   "source": [
    "### Break Statement\n",
    "The `break` statement is used to exit a loop before it has looped through all the items."
   ]
  },
  {
   "cell_type": "code",
   "execution_count": 7,
   "id": "f38eafde-81c2-4f3b-b446-d990055b34f5",
   "metadata": {},
   "outputs": [
    {
     "name": "stdout",
     "output_type": "stream",
     "text": [
      "1\n",
      "2\n",
      "3\n"
     ]
    }
   ],
   "source": [
    "i = 1\n",
    "while i < 6:\n",
    "    print(i)\n",
    "    if i == 3:\n",
    "        break\n",
    "    i += 1"
   ]
  },
  {
   "cell_type": "markdown",
   "id": "50870982-52a3-4b3f-b1f4-01b4b4618430",
   "metadata": {},
   "source": [
    "### Continue Statement\n",
    "The `continue` statement is used to skip the current iteration and continue with the next one."
   ]
  },
  {
   "cell_type": "code",
   "execution_count": 8,
   "id": "20bbc59f-f4ea-4d22-af1a-f5b0abcac5c3",
   "metadata": {},
   "outputs": [
    {
     "name": "stdout",
     "output_type": "stream",
     "text": [
      "1\n",
      "2\n",
      "4\n",
      "5\n",
      "6\n"
     ]
    }
   ],
   "source": [
    "i = 0\n",
    "while i < 6:\n",
    "    i += 1\n",
    "    if i == 3:\n",
    "        continue\n",
    "    print(i)"
   ]
  },
  {
   "cell_type": "markdown",
   "id": "8d797b9a-a589-459d-9804-0845cb7cd1e1",
   "metadata": {},
   "source": [
    "### Else Clause\n",
    "The `else` clause in a loop specifies a block of code to be executed when the loop is finished."
   ]
  },
  {
   "cell_type": "code",
   "execution_count": 9,
   "id": "9db3c898-18a5-4e9e-9363-68080a0ff051",
   "metadata": {},
   "outputs": [
    {
     "name": "stdout",
     "output_type": "stream",
     "text": [
      "1\n",
      "2\n",
      "3\n",
      "4\n",
      "5\n",
      "i is no longer less than 6\n"
     ]
    }
   ],
   "source": [
    "i = 1\n",
    "while i < 6:\n",
    "    print(i)\n",
    "    i += 1\n",
    "else:\n",
    "    print(\"i is no longer less than 6\")"
   ]
  },
  {
   "cell_type": "markdown",
   "id": "f5e00c1e-0a50-4ef2-9fb8-b3c8f05a857f",
   "metadata": {},
   "source": [
    "Loops are a fundamental part of programming in Python and are used to repeat a block of code multiple times. It's important to control loops effectively to ensure your code performs the desired operations without causing unintended infinite loops or other logical errors."
   ]
  },
  {
   "cell_type": "code",
   "execution_count": null,
   "id": "15275c1a-9d28-4fec-a40e-f98897b7230a",
   "metadata": {},
   "outputs": [],
   "source": []
  }
 ],
 "metadata": {
  "kernelspec": {
   "display_name": "Python [conda env:data_eng]",
   "language": "python",
   "name": "conda-env-data_eng-py"
  },
  "language_info": {
   "codemirror_mode": {
    "name": "ipython",
    "version": 3
   },
   "file_extension": ".py",
   "mimetype": "text/x-python",
   "name": "python",
   "nbconvert_exporter": "python",
   "pygments_lexer": "ipython3",
   "version": "3.8.13"
  }
 },
 "nbformat": 4,
 "nbformat_minor": 5
}
