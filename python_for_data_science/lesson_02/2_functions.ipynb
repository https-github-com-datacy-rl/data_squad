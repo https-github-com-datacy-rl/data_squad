{
 "cells": [
  {
   "cell_type": "markdown",
   "id": "78312763-5e48-436e-8186-20bef0e93003",
   "metadata": {},
   "source": [
    "# Python Functions"
   ]
  },
  {
   "cell_type": "markdown",
   "id": "a7872b06-7eba-4fc1-8bd3-af9a44913d46",
   "metadata": {},
   "source": [
    "Functions in Python are blocks of code that are designed to do a specific job. When you want to perform that task, you call the function. This makes the code easier to manage, read, and debug. Here's a deeper dive into how functions work in Python:\n",
    "\n",
    "## Defining Functions\n",
    "A function is defined using the def keyword, followed by the function name, parentheses (), and a colon :. The indented block of code following the : is run when the function is called."
   ]
  },
  {
   "cell_type": "code",
   "execution_count": 1,
   "id": "46b2cbd1-a5e4-491b-aa9b-379b38895f2b",
   "metadata": {},
   "outputs": [],
   "source": [
    "def greet():\n",
    "    print(\"Hello, World!\")"
   ]
  },
  {
   "cell_type": "markdown",
   "id": "6be49c13-3750-4724-8246-44431e1c9517",
   "metadata": {},
   "source": [
    "## Calling Functions\n",
    "You call a function by writing the function's name followed by parentheses."
   ]
  },
  {
   "cell_type": "code",
   "execution_count": 2,
   "id": "fedb5f0f-93ba-4741-a90a-d66d11cd6ac0",
   "metadata": {},
   "outputs": [
    {
     "name": "stdout",
     "output_type": "stream",
     "text": [
      "Hello, World!\n"
     ]
    }
   ],
   "source": [
    "greet()  # Output: Hello, World!"
   ]
  },
  {
   "cell_type": "markdown",
   "id": "c02478e5-42bc-448a-b2cb-1e5ec599479e",
   "metadata": {},
   "source": [
    "## Parameters and Arguments\n",
    "Functions can take parameters, which are variables that act as placeholders for the values needed by the function. When you call a function, you pass arguments into the function."
   ]
  },
  {
   "cell_type": "code",
   "execution_count": 3,
   "id": "3f31da9b-0e2f-4239-ac7b-73caf6436d9e",
   "metadata": {},
   "outputs": [
    {
     "name": "stdout",
     "output_type": "stream",
     "text": [
      "Hello, Alice!\n"
     ]
    }
   ],
   "source": [
    "def greet(name):\n",
    "    print(\"Hello, \" + name + \"!\")\n",
    "\n",
    "greet(\"Alice\")  # Output: Hello, Alice!"
   ]
  },
  {
   "cell_type": "markdown",
   "id": "00a5468d-c7f2-492e-8b42-258b34462085",
   "metadata": {},
   "source": [
    "## Default Parameter Value\n",
    "You can set a default value for parameters. If the function is called without an argument for that parameter, it uses the default value."
   ]
  },
  {
   "cell_type": "code",
   "execution_count": 4,
   "id": "1180c92f-f4c1-4ea9-aafb-da6e7c520942",
   "metadata": {},
   "outputs": [
    {
     "name": "stdout",
     "output_type": "stream",
     "text": [
      "Hello, World!\n",
      "Hello, Alice!\n"
     ]
    }
   ],
   "source": [
    "def greet(name=\"World\"):\n",
    "    print(\"Hello, \" + name + \"!\")\n",
    "\n",
    "greet()  # Output: Hello, World!\n",
    "greet(\"Alice\")  # Output: Hello, Alice!"
   ]
  },
  {
   "cell_type": "markdown",
   "id": "be9d7aad-8fc7-44fb-8d3d-0ab6b66217df",
   "metadata": {},
   "source": [
    "## Returning Values\n",
    "Functions can return values using the return statement."
   ]
  },
  {
   "cell_type": "code",
   "execution_count": 5,
   "id": "f1fe9d82-98e1-4f7c-9017-69cc6d498ee3",
   "metadata": {},
   "outputs": [
    {
     "name": "stdout",
     "output_type": "stream",
     "text": [
      "8\n"
     ]
    }
   ],
   "source": [
    "def add(x, y):\n",
    "    return x + y\n",
    "\n",
    "result = add(5, 3)\n",
    "print(result)  # Output: 8"
   ]
  },
  {
   "cell_type": "markdown",
   "id": "d10b13cd-9594-4943-b872-7732956eb2de",
   "metadata": {},
   "source": [
    "## Keyword Arguments\n",
    "When you call a function, you can specify arguments as key=value. This way, the order of the arguments does not matter."
   ]
  },
  {
   "cell_type": "code",
   "execution_count": 6,
   "id": "f6f4d162-aebc-43c3-95b8-956c514afae7",
   "metadata": {},
   "outputs": [
    {
     "name": "stdout",
     "output_type": "stream",
     "text": [
      "I have a cat named Whiskers.\n"
     ]
    }
   ],
   "source": [
    "def describe_pet(animal, name):\n",
    "    print(\"I have a \" + animal + \" named \" + name + \".\")\n",
    "\n",
    "describe_pet(name=\"Whiskers\", animal=\"cat\")\n",
    "# Output: I have a cat named Whiskers."
   ]
  },
  {
   "cell_type": "markdown",
   "id": "4501b1e5-b84d-4217-b119-a5ee1c4e6cea",
   "metadata": {},
   "source": [
    "## Arbitrary Arguments\n",
    "If you don't know how many arguments will be passed into your function, you can define the function with *args (arguments) to allow for arbitrary numbers of arguments."
   ]
  },
  {
   "cell_type": "code",
   "execution_count": 7,
   "id": "a05e33bd-64d0-4144-ac6b-62f9ed7e0f79",
   "metadata": {},
   "outputs": [
    {
     "name": "stdout",
     "output_type": "stream",
     "text": [
      "('pepperoni',)\n",
      "('mushrooms', 'green peppers', 'extra cheese')\n"
     ]
    }
   ],
   "source": [
    "def make_pizza(*toppings):\n",
    "    print(toppings)\n",
    "\n",
    "make_pizza('pepperoni')\n",
    "make_pizza('mushrooms', 'green peppers', 'extra cheese')"
   ]
  },
  {
   "cell_type": "markdown",
   "id": "4dd0062b-e56d-4e95-b463-41e757e6454f",
   "metadata": {},
   "source": [
    "## Arbitrary Keyword Arguments\n",
    "Similarly, you can handle arbitrary numbers of keyword arguments by using **kwargs** (keyword arguments)."
   ]
  },
  {
   "cell_type": "code",
   "execution_count": 8,
   "id": "96a6d637-d2a5-457d-a264-05176ed6b7c1",
   "metadata": {},
   "outputs": [
    {
     "name": "stdout",
     "output_type": "stream",
     "text": [
      "{'first_name': 'john', 'last_name': 'doe', 'location': 'nyc'}\n"
     ]
    }
   ],
   "source": [
    "def build_profile(**user_info):\n",
    "    print(user_info)\n",
    "\n",
    "build_profile(first_name='john', last_name='doe', location='nyc')"
   ]
  },
  {
   "cell_type": "markdown",
   "id": "f2db6b04-9ce5-4fb6-9ec4-ab763dc5baa9",
   "metadata": {},
   "source": [
    "## Nested Functions\n",
    "You can define functions inside other functions. The inner function will be local to the outer function and can access its variables."
   ]
  },
  {
   "cell_type": "code",
   "execution_count": 9,
   "id": "ad96d9f3-dced-4e5f-8856-9b38cd9a4890",
   "metadata": {},
   "outputs": [
    {
     "name": "stdout",
     "output_type": "stream",
     "text": [
      "Hello, World!\n"
     ]
    }
   ],
   "source": [
    "def outer_function(text):\n",
    "    def inner_function():\n",
    "        print(text)\n",
    "    inner_function()\n",
    "\n",
    "outer_function(\"Hello, World!\")  # Output: Hello, World!"
   ]
  },
  {
   "cell_type": "markdown",
   "id": "7279fc54-75fb-441d-a2ff-80de2942b363",
   "metadata": {},
   "source": [
    "Functions in Python are powerful and versatile. They allow you to encapsulate code, improve readability, and make your code modular and maintainable. Understanding functions is crucial for any Python programmer, as they form the basis of reusable and organized code."
   ]
  },
  {
   "cell_type": "code",
   "execution_count": null,
   "id": "41064608-a5f6-4144-9cbc-3b38b8d5aeec",
   "metadata": {},
   "outputs": [],
   "source": []
  }
 ],
 "metadata": {
  "kernelspec": {
   "display_name": "Python [conda env:data_eng]",
   "language": "python",
   "name": "conda-env-data_eng-py"
  },
  "language_info": {
   "codemirror_mode": {
    "name": "ipython",
    "version": 3
   },
   "file_extension": ".py",
   "mimetype": "text/x-python",
   "name": "python",
   "nbconvert_exporter": "python",
   "pygments_lexer": "ipython3",
   "version": "3.8.13"
  }
 },
 "nbformat": 4,
 "nbformat_minor": 5
}
