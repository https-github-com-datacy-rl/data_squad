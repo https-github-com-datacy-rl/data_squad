{
 "cells": [
  {
   "cell_type": "markdown",
   "id": "f8eef62c-78de-49b7-9640-0a52f5e2c425",
   "metadata": {},
   "source": [
    "# Python Lists"
   ]
  },
  {
   "cell_type": "markdown",
   "id": "dbdf8929-a8bc-4775-9d59-dcb387dee780",
   "metadata": {},
   "source": [
    "Lists in Python are versatile and widely used data structures for storing sequences of items. They are mutable, meaning their elements can be changed after the list is created. Here's a comprehensive guide on how to work with lists in Python:\n",
    "\n",
    "## Creating Lists\n",
    "Lists are created by placing a comma-separated sequence of items inside square brackets `[]`."
   ]
  },
  {
   "cell_type": "code",
   "execution_count": 1,
   "id": "2335ab23-7014-40ba-a2ca-071d0f3cbf55",
   "metadata": {},
   "outputs": [],
   "source": [
    "my_list = [1, 2, 3, 'Python', 'Data']"
   ]
  },
  {
   "cell_type": "markdown",
   "id": "ba10b1a1-56e4-4f24-94ae-5b6d00421ed3",
   "metadata": {},
   "source": [
    "## Accessing Elements\n",
    "You can access elements in a list by referring to the index number, with indexes starting at 0 for the first element."
   ]
  },
  {
   "cell_type": "code",
   "execution_count": 2,
   "id": "bc4bc2e5-196e-4316-b64d-9a9bd9876970",
   "metadata": {},
   "outputs": [
    {
     "name": "stdout",
     "output_type": "stream",
     "text": [
      "1\n",
      "Python\n"
     ]
    }
   ],
   "source": [
    "print(my_list[0])  # Output: 1\n",
    "print(my_list[3])  # Output: Python"
   ]
  },
  {
   "cell_type": "markdown",
   "id": "04d2dcf8-dfd8-43fe-bb2d-f8bc9addfcc5",
   "metadata": {},
   "source": [
    "Negative indexing means starting from the end of the list, with -1 referring to the last item."
   ]
  },
  {
   "cell_type": "code",
   "execution_count": 3,
   "id": "52d230b8-b779-4df8-a83d-177ff505b77d",
   "metadata": {},
   "outputs": [
    {
     "name": "stdout",
     "output_type": "stream",
     "text": [
      "Data\n"
     ]
    }
   ],
   "source": [
    "print(my_list[-1])  # Output: Data"
   ]
  },
  {
   "cell_type": "markdown",
   "id": "a66455c1-d829-4b6d-ac61-250d3b534dd6",
   "metadata": {},
   "source": [
    "## Slicing Lists\n",
    "Slicing is used to access a range of elements in a list. The syntax is `[start:stop:step]`, with the `start` index being inclusive and `stop` being exclusive."
   ]
  },
  {
   "cell_type": "code",
   "execution_count": 4,
   "id": "266e6296-aeb7-40cb-8cf8-240dcf8e90bc",
   "metadata": {},
   "outputs": [
    {
     "name": "stdout",
     "output_type": "stream",
     "text": [
      "[2, 3, 4]\n",
      "[0, 1, 2, 3]\n",
      "[6, 7, 8, 9]\n",
      "[0, 2, 4, 6, 8]\n"
     ]
    }
   ],
   "source": [
    "numbers = [0, 1, 2, 3, 4, 5, 6, 7, 8, 9]\n",
    "print(numbers[2:5])  # Output: [2, 3, 4]\n",
    "print(numbers[:4])   # Output: [0, 1, 2, 3]\n",
    "print(numbers[6:])   # Output: [6, 7, 8, 9]\n",
    "print(numbers[::2])  # Output: [0, 2, 4, 6, 8]"
   ]
  },
  {
   "cell_type": "markdown",
   "id": "133da9fd-aa4f-40f0-a394-bb8b97dc97a0",
   "metadata": {},
   "source": [
    "## Modifying Lists\n",
    "Lists are mutable, so you can change their content."
   ]
  },
  {
   "cell_type": "code",
   "execution_count": 5,
   "id": "12995520-17a3-445d-994c-298d4a14e149",
   "metadata": {},
   "outputs": [
    {
     "name": "stdout",
     "output_type": "stream",
     "text": [
      "[1, 'changed', 3, 'Python', 'Data']\n"
     ]
    }
   ],
   "source": [
    "my_list[1] = 'changed'\n",
    "print(my_list)  # Output: [1, 'changed', 3, 'Python', 'Data']"
   ]
  },
  {
   "cell_type": "markdown",
   "id": "c59a316d-6f45-4e5b-a4a1-d1fe75deaf9b",
   "metadata": {},
   "source": [
    "## Adding Elements\n",
    "You can add elements to a list using the `append()` method or the `extend()` method or the `+` operator."
   ]
  },
  {
   "cell_type": "code",
   "execution_count": 6,
   "id": "c30915ba-00d2-435b-820b-ca789caff394",
   "metadata": {},
   "outputs": [
    {
     "name": "stdout",
     "output_type": "stream",
     "text": [
      "[1, 'changed', 3, 'Python', 'Data', 'new item']\n",
      "[1, 'changed', 3, 'Python', 'Data', 'new item', 'another item']\n",
      "[1, 'changed', 3, 'Python', 'Data', 'new item', 'another item', 'item1', 'item2']\n"
     ]
    }
   ],
   "source": [
    "my_list.append('new item')\n",
    "print(my_list)  # Output: [1, 'changed', 3, 'Python', 'Data', 'new item']\n",
    "\n",
    "my_list += ['another item']\n",
    "print(my_list)  # Output: [1, 'changed', 3, 'Python', 'Data', 'new item', 'another item']\n",
    "\n",
    "another_list = ['item1', 'item2']\n",
    "my_list.extend(another_list)\n",
    "print(my_list)  # Output: [1, 'changed', 3, 'Python', 'Data', 'new item', 'another item', 'item1', 'item2']"
   ]
  },
  {
   "cell_type": "markdown",
   "id": "ad70811a-a506-4acf-8d6f-95b0a4fa462f",
   "metadata": {},
   "source": [
    "## Removing Elements\n",
    "Items can be removed from a list using the `remove()`, `pop()` or `del` statements."
   ]
  },
  {
   "cell_type": "code",
   "execution_count": 7,
   "id": "d87647f1-e2b0-40ce-b96f-28701f102051",
   "metadata": {},
   "outputs": [
    {
     "name": "stdout",
     "output_type": "stream",
     "text": [
      "[1, 3, 'Python', 'Data', 'new item', 'another item', 'item1', 'item2']\n",
      "3\n",
      "[1, 'Python', 'Data', 'new item', 'another item', 'item1', 'item2']\n",
      "['Python', 'Data', 'new item', 'another item', 'item1', 'item2']\n"
     ]
    }
   ],
   "source": [
    "my_list.remove('changed')  # Removes the first occurrence of 'changed'\n",
    "print(my_list)\n",
    "\n",
    "popped_item = my_list.pop(1)  # Removes and returns the item at the given index, default is the last item\n",
    "print(popped_item)\n",
    "print(my_list)\n",
    "\n",
    "del my_list[0]  # Removes the item at the specified index\n",
    "print(my_list)"
   ]
  },
  {
   "cell_type": "markdown",
   "id": "62888495-9ffa-405a-bc8e-7a806ea89e7b",
   "metadata": {},
   "source": [
    "## List Comprehension\n",
    "List comprehension is a concise way to create lists. It consists of brackets containing an expression followed by a `for` clause, then zero or more `for` or `if` clauses."
   ]
  },
  {
   "cell_type": "code",
   "execution_count": 8,
   "id": "3d55237e-c82c-440f-a572-c258b4880cf1",
   "metadata": {},
   "outputs": [
    {
     "name": "stdout",
     "output_type": "stream",
     "text": [
      "[0, 1, 4, 9, 16, 25, 36, 49, 64, 81]\n"
     ]
    }
   ],
   "source": [
    "squares = [x**2 for x in range(10)]\n",
    "print(squares)  # Output: [0, 1, 4, 9, 16, 25, 36, 49, 64, 81]"
   ]
  },
  {
   "cell_type": "markdown",
   "id": "83c89813-1fb8-4c57-9211-f249209116f3",
   "metadata": {},
   "source": [
    "## Iterating Through Lists\n",
    "You can iterate through the list items by using a `for` loop."
   ]
  },
  {
   "cell_type": "code",
   "execution_count": 9,
   "id": "9408da42-d1ec-43fa-a507-1ede31e979c4",
   "metadata": {},
   "outputs": [
    {
     "name": "stdout",
     "output_type": "stream",
     "text": [
      "Python\n",
      "Data\n",
      "new item\n",
      "another item\n",
      "item1\n",
      "item2\n"
     ]
    }
   ],
   "source": [
    "for item in my_list:\n",
    "    print(item)"
   ]
  },
  {
   "cell_type": "markdown",
   "id": "a28f836f-6bb4-4eb4-9365-8c13c4c4c61d",
   "metadata": {},
   "source": [
    "## Checking if an Item Exists\n",
    "To determine if a specified item is present in a list, use the `in` keyword."
   ]
  },
  {
   "cell_type": "code",
   "execution_count": 10,
   "id": "edf16280-a7f3-4e15-957d-151421f51e45",
   "metadata": {},
   "outputs": [
    {
     "name": "stdout",
     "output_type": "stream",
     "text": [
      "Python is in the list\n"
     ]
    }
   ],
   "source": [
    "if 'Python' in my_list:\n",
    "    print('Python is in the list')"
   ]
  },
  {
   "cell_type": "markdown",
   "id": "7fc6ce85-60f8-4d9c-a4b4-b44931790b61",
   "metadata": {},
   "source": [
    "## List Length\n",
    "To determine the number of items in a list, use the `len()` function."
   ]
  },
  {
   "cell_type": "code",
   "execution_count": 11,
   "id": "38bab87c-f152-428f-8dcf-44efae53198d",
   "metadata": {},
   "outputs": [
    {
     "name": "stdout",
     "output_type": "stream",
     "text": [
      "6\n"
     ]
    }
   ],
   "source": [
    "print(len(my_list))  # Output: Number of items in my_list"
   ]
  },
  {
   "cell_type": "markdown",
   "id": "7e7a337e-10d2-4629-acc0-dfc13efec6e8",
   "metadata": {},
   "source": [
    "## Sorting Lists\n",
    "Lists can be sorted with the `sort()` method or the `sorted()` function."
   ]
  },
  {
   "cell_type": "code",
   "execution_count": 12,
   "id": "837ce670-3e66-4bab-ba11-4282a08a9437",
   "metadata": {},
   "outputs": [
    {
     "name": "stdout",
     "output_type": "stream",
     "text": [
      "[1, 1, 2, 3, 4, 5, 6, 9]\n",
      "[1, 1, 2, 3, 4, 5, 6, 9]\n"
     ]
    }
   ],
   "source": [
    "numbers = [3, 1, 4, 1, 5, 9, 2, 6]\n",
    "numbers.sort()\n",
    "print(numbers)  # Output: [1, 1, 2, 3, 4, 5, 6, 9]\n",
    "\n",
    "# Sorted returns a new list\n",
    "new_numbers = sorted(numbers)\n",
    "print(new_numbers)  # Output: [1, 1, 2, 3, 4, 5, 6, 9]"
   ]
  },
  {
   "cell_type": "markdown",
   "id": "db1509f6-2131-4a84-8c88-382240af11e3",
   "metadata": {},
   "source": [
    "Lists in Python are versatile and powerful, capable of handling a wide array of tasks. Understanding and mastering list operations is crucial for any Python developer due to their wide range of applications."
   ]
  },
  {
   "cell_type": "code",
   "execution_count": null,
   "id": "db403a71-cd8a-4dcb-99eb-09d9c87e9184",
   "metadata": {},
   "outputs": [],
   "source": []
  },
  {
   "cell_type": "code",
   "execution_count": null,
   "id": "37139b43-49f9-439d-8266-b29422db19e9",
   "metadata": {},
   "outputs": [],
   "source": []
  }
 ],
 "metadata": {
  "kernelspec": {
   "display_name": "Python [conda env:data_eng]",
   "language": "python",
   "name": "conda-env-data_eng-py"
  },
  "language_info": {
   "codemirror_mode": {
    "name": "ipython",
    "version": 3
   },
   "file_extension": ".py",
   "mimetype": "text/x-python",
   "name": "python",
   "nbconvert_exporter": "python",
   "pygments_lexer": "ipython3",
   "version": "3.8.13"
  }
 },
 "nbformat": 4,
 "nbformat_minor": 5
}
