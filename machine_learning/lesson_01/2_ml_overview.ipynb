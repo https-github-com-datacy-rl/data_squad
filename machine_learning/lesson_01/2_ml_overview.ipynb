{
 "cells": [
  {
   "cell_type": "markdown",
   "id": "f05ea1c7-ed9b-4ea9-8291-00d560992723",
   "metadata": {},
   "source": [
    "# Types of Machine Learning\n",
    "- Supervised\n",
    "- Unsupervised, and \n",
    "- Reinforcement Learning"
   ]
  },
  {
   "cell_type": "markdown",
   "id": "f771c556-b6dd-4b70-9bb6-23aa4e2e0e8f",
   "metadata": {},
   "source": [
    "### 1. Supervised Learning\n",
    "Supervised learning is akin to learning with a teacher. The 'teacher' provides the algorithm with labeled training data and answers (output) that the algorithm should produce from given inputs. The goal is for the model to learn a mapping from inputs to outputs.\n",
    "\n",
    "- Characteristics\n",
    "\n",
    "1. Labeled Data: The training data includes inputs paired with correct outputs.\n",
    "2. Direct Feedback: The model's predictions are compared with the actual labels, and the model is adjusted to minimize errors.\n",
    "3. Prediction Task: After training, the model aims to predict the output for unseen data.\n",
    "\n",
    "- Common Algorithms \n",
    "Linear Regression, Logistic Regression, Support Vector Machines, Neural Networks, Decision Trees, Random Forests.\n",
    "\n",
    "- Applications: Email spam filtering, sentiment analysis, image recognition, sales forecasting, etc."
   ]
  },
  {
   "cell_type": "markdown",
   "id": "36440f3b-dab3-4630-9608-5394d80a2a55",
   "metadata": {},
   "source": [
    "### 2. Unsupervised Learning\n",
    "Unsupervised learning involves training a model using data that is neither classified nor labeled. The system tries to learn the structure of the data by extracting features and patterns on its own.\n",
    "\n",
    "- Characteristics:\n",
    "\n",
    "1. Unlabeled Data: The model learns from data without any labels.\n",
    "2. No Feedback: The model is not corrected; it identifies patterns and relationships in the data.\n",
    "3. Discovery Task: The model tries to find the hidden structure and relationships in the data.\n",
    "\n",
    "- Common Algorithms: K-Means Clustering, Hierarchical Clustering, Principal Component Analysis (PCA), Independent Component Analysis, Autoencoders.\n",
    "\n",
    "- Applications: Market basket analysis, social network analysis, organizing large databases, anomaly detection, etc."
   ]
  },
  {
   "cell_type": "markdown",
   "id": "579fd9ad-8f31-4259-b66f-37f585bb3758",
   "metadata": {},
   "source": [
    "### 3. Reinforcement Learning\n",
    "Reinforcement Learning is about taking suitable action to maximize reward in a particular situation. It is employed by various software and machines to find the best possible behavior or path it should take in a specific situation.\n",
    "\n",
    "- Characteristics:\n",
    "\n",
    "1. Decision Process: The model learns to make sequences of decisions.\n",
    "2. Feedback: The model gets feedback in terms of rewards and penalties as it navigates through the problem space.\n",
    "3. Learn through Experience: The model learns optimal actions through trial and error. This involves exploring and exploiting the known territory.\n",
    "\n",
    "- Common Algorithms: Q-Learning, Temporal Difference (TD), Deep Adversarial Networks, Monte Carlo Tree Search (MCTS).\n",
    "\n",
    "- Applications: Game AI (e.g., AlphaGo), autonomous vehicles, resource management, robotics, etc.\n",
    "\n",
    "Each type of learning has its strengths and weaknesses, and the choice between them depends on the specific application, the available data, and the task to be performed. Understanding these types of machine learning is crucial for choosing the right approach and tools for each unique problem statement."
   ]
  }
 ],
 "metadata": {
  "kernelspec": {
   "display_name": "Python [conda env:data_eng]",
   "language": "python",
   "name": "conda-env-data_eng-py"
  },
  "language_info": {
   "codemirror_mode": {
    "name": "ipython",
    "version": 3
   },
   "file_extension": ".py",
   "mimetype": "text/x-python",
   "name": "python",
   "nbconvert_exporter": "python",
   "pygments_lexer": "ipython3",
   "version": "3.8.13"
  }
 },
 "nbformat": 4,
 "nbformat_minor": 5
}
