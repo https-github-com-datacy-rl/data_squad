{
 "cells": [
  {
   "cell_type": "markdown",
   "id": "c2c18fa4-16f1-4ade-9edc-95c3e0bbe5ef",
   "metadata": {},
   "source": [
    "# Supervised Learning"
   ]
  },
  {
   "cell_type": "markdown",
   "id": "5b83adad-26a4-40a5-87e6-7f665eb2dff6",
   "metadata": {},
   "source": [
    "Supervised learning is one of the most commonly used and straightforward types of machine learning. In this approach, the model is trained on a labeled dataset, meaning that each training example is paired with an output label. The model learns to predict the output from the input data during the training phase. Once the model is trained, it can be used to make predictions or decisions based on new, unseen data. The main goal is to map input data to the correct output.\n",
    "\n",
    "#### Key Concepts in Supervised Learning\n",
    "1. Labeled Data: The dataset used in supervised learning includes both the input features and the corresponding target outputs (labels).\n",
    "\n",
    "2. Training and Testing Data: The dataset is usually divided into two sets: a training set to train the model and a testing set to evaluate its performance.\n",
    "\n",
    "3. Model Evaluation: Metrics such as accuracy, precision, recall, F1-score, and Mean Squared Error (for regression tasks) are used to evaluate the performance of the model."
   ]
  },
  {
   "cell_type": "markdown",
   "id": "9817c95b-735b-4b72-969c-af8f40e91702",
   "metadata": {},
   "source": [
    "#### Types of Supervised Learning\n",
    "Supervised learning can be broadly categorized into two types:\n",
    "\n",
    "1. Classification: The output variable is a category, such as \"spam\" or \"not spam\", \"malignant\" or \"benign\". The goal is to predict which category the new data will fall into based on the training data.\n",
    "\n",
    "2. Regression: The output variable is a real or continuous value, such as \"salary\" or \"weight\". Regression techniques predict the output values based on input features."
   ]
  },
  {
   "cell_type": "markdown",
   "id": "07fcb843-07eb-4882-84ed-e920ed5de6a1",
   "metadata": {},
   "source": [
    "#### Popular Algorithms\n",
    "1. Linear Regression: Predicts a dependent variable value (y) based on a given independent variable (x). Best fit line (y=mx+c) is drawn through all these points.\n",
    "\n",
    "2. Logistic Regression: Used for binary classification problems (where the output is either 0 or 1). It predicts the probability that a given instance belongs to a particular class.\n",
    "\n",
    "3. Support Vector Machines (SVM): Finds the hyperplane that best separates the classes in the feature space.\n",
    "\n",
    "4. k-Nearest Neighbors (k-NN): Classifies a data point based on how its neighbors are classified.\n",
    "\n",
    "5. Decision Trees: Models decisions and their possible consequences as a tree. It's a set of if-then-else rules.\n",
    "\n",
    "6. Random Forests: An ensemble of decision trees, usually trained with the \"bagging\" method. It improves the predictive accuracy and controls over-fitting.\n",
    "\n",
    "7. Gradient Boosting Machines (GBMs): Sequentially adds predictors and corrects the predecessor, typically used when massive amounts of training data are available."
   ]
  },
  {
   "cell_type": "markdown",
   "id": "25268add-2e91-4d1b-a3df-ad6dab542bc9",
   "metadata": {},
   "source": [
    "#### Challenges in Supervised Learning\n",
    "1. Overfitting: The model performs well on the training data but poorly on unseen data. This happens when the model learns noise in the training data.\n",
    "\n",
    "2. Underfitting: The model is too simple and does not capture the underlying trend in the data, leading to poor performance on both the training and the test data.\n",
    "\n",
    "3. Data Quality: The performance of the model is heavily dependent on the quality of the data used for training. Poor data quality can lead to inaccurate models.\n",
    "\n",
    "4. Computational Complexity: Some supervised learning algorithms require substantial computational resources, especially when dealing with large datasets and high-dimensional feature spaces.\n",
    "\n",
    "In practice, supervised learning is widely used in applications where historical data predicts likely future events. \n",
    "\n",
    "It's a crucial tool in the arsenal of any machine learning practitioner and forms the backbone of many modern AI systems."
   ]
  }
 ],
 "metadata": {
  "kernelspec": {
   "display_name": "Python [conda env:data_eng]",
   "language": "python",
   "name": "conda-env-data_eng-py"
  },
  "language_info": {
   "codemirror_mode": {
    "name": "ipython",
    "version": 3
   },
   "file_extension": ".py",
   "mimetype": "text/x-python",
   "name": "python",
   "nbconvert_exporter": "python",
   "pygments_lexer": "ipython3",
   "version": "3.8.13"
  }
 },
 "nbformat": 4,
 "nbformat_minor": 5
}
